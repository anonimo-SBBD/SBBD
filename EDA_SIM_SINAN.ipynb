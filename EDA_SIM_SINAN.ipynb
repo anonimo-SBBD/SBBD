{
  "cells": [
    {
      "cell_type": "markdown",
      "metadata": {
        "id": "view-in-github",
        "colab_type": "text"
      },
      "source": [
        "<a href=\"https://colab.research.google.com/github/anonimo-SBBD/SBBD/blob/main/EDA_SIM_SINAN.ipynb\" target=\"_parent\"><img src=\"https://colab.research.google.com/assets/colab-badge.svg\" alt=\"Open In Colab\"/></a>"
      ]
    },
    {
      "cell_type": "code",
      "execution_count": 1,
      "id": "38d7ba75-080a-4694-8d13-121bdc70aab5",
      "metadata": {
        "id": "38d7ba75-080a-4694-8d13-121bdc70aab5"
      },
      "outputs": [],
      "source": [
        "import pandas as pd\n",
        "import numpy as np\n",
        "import missingno as msno\n",
        "import matplotlib.pyplot as plt\n",
        "import seaborn as sns\n",
        "pd.set_option('display.max_columns', None)"
      ]
    },
    {
      "cell_type": "markdown",
      "source": [
        "# Extroratory Data Analysis"
      ],
      "metadata": {
        "id": "caUm1Osxb0Jd"
      },
      "id": "caUm1Osxb0Jd"
    },
    {
      "cell_type": "markdown",
      "source": [
        "## SIM"
      ],
      "metadata": {
        "id": "4GVuuZdbb_Zt"
      },
      "id": "4GVuuZdbb_Zt"
    },
    {
      "cell_type": "markdown",
      "source": [
        "Data dictionary:\n",
        "\n",
        "- `DTOBITO`: Data do óbito, no formato ddmmaaaa;\n",
        "\n",
        "- `SEXO`: Sexo, conforme a tabela: 0: Ignorado / 1: Masculino / 2: Feminino;\n",
        "\n",
        "- `RACACOR`: Raça/Cor: 1: Branca / 2: Preta / 3: Amarela / 4: Parda / 5: Indígena;\n",
        "\n",
        "- `ESTCIV`: Estado civil, conforme a tabela: 1: Solteiro / 2: Casado / 3: Viúvo / 4: Separado judicialmente / 5: União consensual (versões anteriores) / 9: Ignorado;\n",
        "\n",
        "- `ESC`: Escolaridade, Anos de estudo concluídos: 1: Nenhuma / 2: 1 a 3 anos / 3: 4 a 7 anos / 4: 8 a 11 anos / 5: 12 e mais / 9: Ignorado;\n",
        "\n",
        "- `OCUP`: Ocupação, conforme a Classificação Brasileira deOcupações (CBO-2002);\n",
        "\n",
        "- `CODMUNRES`: Município de residência do falecido, conforme códigos IBGE;\n",
        "\n",
        "- `CODMUNOCOR`: Município de ocorrência do óbito, conforme códigos IBGE;\n",
        "\n",
        "- `LOCOCOR`: Local de ocorrência do óbito, conforme a tabela: 9: Ignorado / 1: Hospital / 2: Outro estab saúde / 3: Domicílio / 4: Via Pública / 5: Outros;\n",
        "\n",
        "- `CAUSABAS`: Causa básica, conforme a Classificação Internacional de Doença (CID), 10a. Revisão;\n",
        "\n",
        "- `ESC2010`: Escolaridade 2010. Valores: 0: Sem escolaridade / 1: Fundamental I (1a a 4a série) / 2: Fundamental II (5a a 8a série) / 3: Médio(antigo 2o Grau) / 4: Superior incompleto / 5: Superior completo / 9: Ignorado"
      ],
      "metadata": {
        "id": "mH1RfWO7lCAp"
      },
      "id": "mH1RfWO7lCAp"
    },
    {
      "cell_type": "code",
      "execution_count": null,
      "id": "9977d400-a604-4600-a750-34cd89487908",
      "metadata": {
        "id": "9977d400-a604-4600-a750-34cd89487908",
        "outputId": "a1a0f8e3-417e-49fa-b685-f59ca389e3c6",
        "colab": {
          "base_uri": "https://localhost:8080/",
          "height": 423
        }
      },
      "outputs": [
        {
          "output_type": "execute_result",
          "data": {
            "text/plain": [
              "       IDADE  SEXO  RACACOR  ESTCIV  ESC  CODMUNRES  LOCOCOR CAUSABAS  MONTH  \\\n",
              "0       26.0     1      1.0     1.0  5.0     410040        3     X700    1.0   \n",
              "1       27.0     1      1.0     1.0  4.0     410040        3     X700    5.0   \n",
              "2       14.0     2      1.0     1.0  4.0     410040        1     X689    8.0   \n",
              "3       27.0     1      1.0     1.0  3.0     410040        1     X699    3.0   \n",
              "4       43.0     1      1.0     1.0  3.0     410040        5     X709    6.0   \n",
              "...      ...   ...      ...     ...  ...        ...      ...      ...    ...   \n",
              "29903   56.0     1      1.0     1.0  0.0     432230        3     X700   12.0   \n",
              "29904   58.0     2      1.0     2.0  0.0     432090        3     X700   12.0   \n",
              "29905   44.0     1      1.0     1.0  0.0     430430        3     X700   12.0   \n",
              "29906   46.0     1      2.0     2.0  3.0     431490        5     X709   12.0   \n",
              "29907   71.0     1      1.0     0.0  0.0     430990        3     X720   12.0   \n",
              "\n",
              "        DAY    YEAR   WEEK_DAY  SEASON  WEEKEND  Idade  \n",
              "0      12.0  2009.0     Monday  summer        0      1  \n",
              "1      19.0  2009.0    Tuesday  autumn        0      1  \n",
              "2      20.0  2009.0   Thursday  winter        0      0  \n",
              "3       7.0  2009.0   Saturday  summer        1      1  \n",
              "4      17.0  2009.0  Wednesday  autumn        0      3  \n",
              "...     ...     ...        ...     ...      ...    ...  \n",
              "29903  30.0  2020.0  Wednesday  summer        0      4  \n",
              "29904  30.0  2020.0  Wednesday  summer        0      4  \n",
              "29905  31.0  2020.0   Thursday  summer        0      3  \n",
              "29906  31.0  2020.0   Thursday  summer        0      3  \n",
              "29907  31.0  2020.0   Thursday  summer        0      6  \n",
              "\n",
              "[29908 rows x 15 columns]"
            ],
            "text/html": [
              "\n",
              "  <div id=\"df-420feedf-b6e5-413d-8aab-c737a669d043\">\n",
              "    <div class=\"colab-df-container\">\n",
              "      <div>\n",
              "<style scoped>\n",
              "    .dataframe tbody tr th:only-of-type {\n",
              "        vertical-align: middle;\n",
              "    }\n",
              "\n",
              "    .dataframe tbody tr th {\n",
              "        vertical-align: top;\n",
              "    }\n",
              "\n",
              "    .dataframe thead th {\n",
              "        text-align: right;\n",
              "    }\n",
              "</style>\n",
              "<table border=\"1\" class=\"dataframe\">\n",
              "  <thead>\n",
              "    <tr style=\"text-align: right;\">\n",
              "      <th></th>\n",
              "      <th>IDADE</th>\n",
              "      <th>SEXO</th>\n",
              "      <th>RACACOR</th>\n",
              "      <th>ESTCIV</th>\n",
              "      <th>ESC</th>\n",
              "      <th>CODMUNRES</th>\n",
              "      <th>LOCOCOR</th>\n",
              "      <th>CAUSABAS</th>\n",
              "      <th>MONTH</th>\n",
              "      <th>DAY</th>\n",
              "      <th>YEAR</th>\n",
              "      <th>WEEK_DAY</th>\n",
              "      <th>SEASON</th>\n",
              "      <th>WEEKEND</th>\n",
              "      <th>Idade</th>\n",
              "    </tr>\n",
              "  </thead>\n",
              "  <tbody>\n",
              "    <tr>\n",
              "      <th>0</th>\n",
              "      <td>26.0</td>\n",
              "      <td>1</td>\n",
              "      <td>1.0</td>\n",
              "      <td>1.0</td>\n",
              "      <td>5.0</td>\n",
              "      <td>410040</td>\n",
              "      <td>3</td>\n",
              "      <td>X700</td>\n",
              "      <td>1.0</td>\n",
              "      <td>12.0</td>\n",
              "      <td>2009.0</td>\n",
              "      <td>Monday</td>\n",
              "      <td>summer</td>\n",
              "      <td>0</td>\n",
              "      <td>1</td>\n",
              "    </tr>\n",
              "    <tr>\n",
              "      <th>1</th>\n",
              "      <td>27.0</td>\n",
              "      <td>1</td>\n",
              "      <td>1.0</td>\n",
              "      <td>1.0</td>\n",
              "      <td>4.0</td>\n",
              "      <td>410040</td>\n",
              "      <td>3</td>\n",
              "      <td>X700</td>\n",
              "      <td>5.0</td>\n",
              "      <td>19.0</td>\n",
              "      <td>2009.0</td>\n",
              "      <td>Tuesday</td>\n",
              "      <td>autumn</td>\n",
              "      <td>0</td>\n",
              "      <td>1</td>\n",
              "    </tr>\n",
              "    <tr>\n",
              "      <th>2</th>\n",
              "      <td>14.0</td>\n",
              "      <td>2</td>\n",
              "      <td>1.0</td>\n",
              "      <td>1.0</td>\n",
              "      <td>4.0</td>\n",
              "      <td>410040</td>\n",
              "      <td>1</td>\n",
              "      <td>X689</td>\n",
              "      <td>8.0</td>\n",
              "      <td>20.0</td>\n",
              "      <td>2009.0</td>\n",
              "      <td>Thursday</td>\n",
              "      <td>winter</td>\n",
              "      <td>0</td>\n",
              "      <td>0</td>\n",
              "    </tr>\n",
              "    <tr>\n",
              "      <th>3</th>\n",
              "      <td>27.0</td>\n",
              "      <td>1</td>\n",
              "      <td>1.0</td>\n",
              "      <td>1.0</td>\n",
              "      <td>3.0</td>\n",
              "      <td>410040</td>\n",
              "      <td>1</td>\n",
              "      <td>X699</td>\n",
              "      <td>3.0</td>\n",
              "      <td>7.0</td>\n",
              "      <td>2009.0</td>\n",
              "      <td>Saturday</td>\n",
              "      <td>summer</td>\n",
              "      <td>1</td>\n",
              "      <td>1</td>\n",
              "    </tr>\n",
              "    <tr>\n",
              "      <th>4</th>\n",
              "      <td>43.0</td>\n",
              "      <td>1</td>\n",
              "      <td>1.0</td>\n",
              "      <td>1.0</td>\n",
              "      <td>3.0</td>\n",
              "      <td>410040</td>\n",
              "      <td>5</td>\n",
              "      <td>X709</td>\n",
              "      <td>6.0</td>\n",
              "      <td>17.0</td>\n",
              "      <td>2009.0</td>\n",
              "      <td>Wednesday</td>\n",
              "      <td>autumn</td>\n",
              "      <td>0</td>\n",
              "      <td>3</td>\n",
              "    </tr>\n",
              "    <tr>\n",
              "      <th>...</th>\n",
              "      <td>...</td>\n",
              "      <td>...</td>\n",
              "      <td>...</td>\n",
              "      <td>...</td>\n",
              "      <td>...</td>\n",
              "      <td>...</td>\n",
              "      <td>...</td>\n",
              "      <td>...</td>\n",
              "      <td>...</td>\n",
              "      <td>...</td>\n",
              "      <td>...</td>\n",
              "      <td>...</td>\n",
              "      <td>...</td>\n",
              "      <td>...</td>\n",
              "      <td>...</td>\n",
              "    </tr>\n",
              "    <tr>\n",
              "      <th>29903</th>\n",
              "      <td>56.0</td>\n",
              "      <td>1</td>\n",
              "      <td>1.0</td>\n",
              "      <td>1.0</td>\n",
              "      <td>0.0</td>\n",
              "      <td>432230</td>\n",
              "      <td>3</td>\n",
              "      <td>X700</td>\n",
              "      <td>12.0</td>\n",
              "      <td>30.0</td>\n",
              "      <td>2020.0</td>\n",
              "      <td>Wednesday</td>\n",
              "      <td>summer</td>\n",
              "      <td>0</td>\n",
              "      <td>4</td>\n",
              "    </tr>\n",
              "    <tr>\n",
              "      <th>29904</th>\n",
              "      <td>58.0</td>\n",
              "      <td>2</td>\n",
              "      <td>1.0</td>\n",
              "      <td>2.0</td>\n",
              "      <td>0.0</td>\n",
              "      <td>432090</td>\n",
              "      <td>3</td>\n",
              "      <td>X700</td>\n",
              "      <td>12.0</td>\n",
              "      <td>30.0</td>\n",
              "      <td>2020.0</td>\n",
              "      <td>Wednesday</td>\n",
              "      <td>summer</td>\n",
              "      <td>0</td>\n",
              "      <td>4</td>\n",
              "    </tr>\n",
              "    <tr>\n",
              "      <th>29905</th>\n",
              "      <td>44.0</td>\n",
              "      <td>1</td>\n",
              "      <td>1.0</td>\n",
              "      <td>1.0</td>\n",
              "      <td>0.0</td>\n",
              "      <td>430430</td>\n",
              "      <td>3</td>\n",
              "      <td>X700</td>\n",
              "      <td>12.0</td>\n",
              "      <td>31.0</td>\n",
              "      <td>2020.0</td>\n",
              "      <td>Thursday</td>\n",
              "      <td>summer</td>\n",
              "      <td>0</td>\n",
              "      <td>3</td>\n",
              "    </tr>\n",
              "    <tr>\n",
              "      <th>29906</th>\n",
              "      <td>46.0</td>\n",
              "      <td>1</td>\n",
              "      <td>2.0</td>\n",
              "      <td>2.0</td>\n",
              "      <td>3.0</td>\n",
              "      <td>431490</td>\n",
              "      <td>5</td>\n",
              "      <td>X709</td>\n",
              "      <td>12.0</td>\n",
              "      <td>31.0</td>\n",
              "      <td>2020.0</td>\n",
              "      <td>Thursday</td>\n",
              "      <td>summer</td>\n",
              "      <td>0</td>\n",
              "      <td>3</td>\n",
              "    </tr>\n",
              "    <tr>\n",
              "      <th>29907</th>\n",
              "      <td>71.0</td>\n",
              "      <td>1</td>\n",
              "      <td>1.0</td>\n",
              "      <td>0.0</td>\n",
              "      <td>0.0</td>\n",
              "      <td>430990</td>\n",
              "      <td>3</td>\n",
              "      <td>X720</td>\n",
              "      <td>12.0</td>\n",
              "      <td>31.0</td>\n",
              "      <td>2020.0</td>\n",
              "      <td>Thursday</td>\n",
              "      <td>summer</td>\n",
              "      <td>0</td>\n",
              "      <td>6</td>\n",
              "    </tr>\n",
              "  </tbody>\n",
              "</table>\n",
              "<p>29908 rows × 15 columns</p>\n",
              "</div>\n",
              "      <button class=\"colab-df-convert\" onclick=\"convertToInteractive('df-420feedf-b6e5-413d-8aab-c737a669d043')\"\n",
              "              title=\"Convert this dataframe to an interactive table.\"\n",
              "              style=\"display:none;\">\n",
              "        \n",
              "  <svg xmlns=\"http://www.w3.org/2000/svg\" height=\"24px\"viewBox=\"0 0 24 24\"\n",
              "       width=\"24px\">\n",
              "    <path d=\"M0 0h24v24H0V0z\" fill=\"none\"/>\n",
              "    <path d=\"M18.56 5.44l.94 2.06.94-2.06 2.06-.94-2.06-.94-.94-2.06-.94 2.06-2.06.94zm-11 1L8.5 8.5l.94-2.06 2.06-.94-2.06-.94L8.5 2.5l-.94 2.06-2.06.94zm10 10l.94 2.06.94-2.06 2.06-.94-2.06-.94-.94-2.06-.94 2.06-2.06.94z\"/><path d=\"M17.41 7.96l-1.37-1.37c-.4-.4-.92-.59-1.43-.59-.52 0-1.04.2-1.43.59L10.3 9.45l-7.72 7.72c-.78.78-.78 2.05 0 2.83L4 21.41c.39.39.9.59 1.41.59.51 0 1.02-.2 1.41-.59l7.78-7.78 2.81-2.81c.8-.78.8-2.07 0-2.86zM5.41 20L4 18.59l7.72-7.72 1.47 1.35L5.41 20z\"/>\n",
              "  </svg>\n",
              "      </button>\n",
              "      \n",
              "  <style>\n",
              "    .colab-df-container {\n",
              "      display:flex;\n",
              "      flex-wrap:wrap;\n",
              "      gap: 12px;\n",
              "    }\n",
              "\n",
              "    .colab-df-convert {\n",
              "      background-color: #E8F0FE;\n",
              "      border: none;\n",
              "      border-radius: 50%;\n",
              "      cursor: pointer;\n",
              "      display: none;\n",
              "      fill: #1967D2;\n",
              "      height: 32px;\n",
              "      padding: 0 0 0 0;\n",
              "      width: 32px;\n",
              "    }\n",
              "\n",
              "    .colab-df-convert:hover {\n",
              "      background-color: #E2EBFA;\n",
              "      box-shadow: 0px 1px 2px rgba(60, 64, 67, 0.3), 0px 1px 3px 1px rgba(60, 64, 67, 0.15);\n",
              "      fill: #174EA6;\n",
              "    }\n",
              "\n",
              "    [theme=dark] .colab-df-convert {\n",
              "      background-color: #3B4455;\n",
              "      fill: #D2E3FC;\n",
              "    }\n",
              "\n",
              "    [theme=dark] .colab-df-convert:hover {\n",
              "      background-color: #434B5C;\n",
              "      box-shadow: 0px 1px 3px 1px rgba(0, 0, 0, 0.15);\n",
              "      filter: drop-shadow(0px 1px 2px rgba(0, 0, 0, 0.3));\n",
              "      fill: #FFFFFF;\n",
              "    }\n",
              "  </style>\n",
              "\n",
              "      <script>\n",
              "        const buttonEl =\n",
              "          document.querySelector('#df-420feedf-b6e5-413d-8aab-c737a669d043 button.colab-df-convert');\n",
              "        buttonEl.style.display =\n",
              "          google.colab.kernel.accessAllowed ? 'block' : 'none';\n",
              "\n",
              "        async function convertToInteractive(key) {\n",
              "          const element = document.querySelector('#df-420feedf-b6e5-413d-8aab-c737a669d043');\n",
              "          const dataTable =\n",
              "            await google.colab.kernel.invokeFunction('convertToInteractive',\n",
              "                                                     [key], {});\n",
              "          if (!dataTable) return;\n",
              "\n",
              "          const docLinkHtml = 'Like what you see? Visit the ' +\n",
              "            '<a target=\"_blank\" href=https://colab.research.google.com/notebooks/data_table.ipynb>data table notebook</a>'\n",
              "            + ' to learn more about interactive tables.';\n",
              "          element.innerHTML = '';\n",
              "          dataTable['output_type'] = 'display_data';\n",
              "          await google.colab.output.renderOutput(dataTable, element);\n",
              "          const docLink = document.createElement('div');\n",
              "          docLink.innerHTML = docLinkHtml;\n",
              "          element.appendChild(docLink);\n",
              "        }\n",
              "      </script>\n",
              "    </div>\n",
              "  </div>\n",
              "  "
            ]
          },
          "metadata": {},
          "execution_count": 2
        }
      ],
      "source": [
        "sul = pd.read_csv('SUL_SIM_limpo.csv')\n",
        "sul"
      ]
    },
    {
      "cell_type": "code",
      "execution_count": null,
      "id": "7d0bbaa1-de6b-4b73-b9d4-a3a294485eba",
      "metadata": {
        "id": "7d0bbaa1-de6b-4b73-b9d4-a3a294485eba",
        "outputId": "d0e2d3e7-7b45-47d0-8fb8-a8c1c3ab1dc3"
      },
      "outputs": [
        {
          "name": "stdout",
          "output_type": "stream",
          "text": [
            "<class 'pandas.core.frame.DataFrame'>\n",
            "RangeIndex: 29908 entries, 0 to 29907\n",
            "Data columns (total 15 columns):\n",
            " #   Column     Non-Null Count  Dtype  \n",
            "---  ------     --------------  -----  \n",
            " 0   IDADE      29908 non-null  float64\n",
            " 1   SEXO       29908 non-null  int64  \n",
            " 2   RACACOR    29908 non-null  float64\n",
            " 3   ESTCIV     29908 non-null  float64\n",
            " 4   ESC        29908 non-null  float64\n",
            " 5   CODMUNRES  29908 non-null  int64  \n",
            " 6   LOCOCOR    29908 non-null  int64  \n",
            " 7   CAUSABAS   29908 non-null  object \n",
            " 8   MONTH      29908 non-null  float64\n",
            " 9   DAY        29908 non-null  float64\n",
            " 10  YEAR       29908 non-null  float64\n",
            " 11  WEEK_DAY   29908 non-null  object \n",
            " 12  SEASON     29908 non-null  object \n",
            " 13  WEEKEND    29908 non-null  int64  \n",
            " 14  Idade      29908 non-null  int64  \n",
            "dtypes: float64(7), int64(5), object(3)\n",
            "memory usage: 3.4+ MB\n"
          ]
        }
      ],
      "source": [
        "sul.info()"
      ]
    },
    {
      "cell_type": "markdown",
      "source": [
        "We created a column with the states acronym to facilitate the visualization.\n",
        "\n",
        "First we wanted to understand how the was the evolution of the rate of suicide between the different states."
      ],
      "metadata": {
        "id": "H1KTwhxMcfjV"
      },
      "id": "H1KTwhxMcfjV"
    },
    {
      "cell_type": "code",
      "execution_count": null,
      "id": "d1fb2f7f-40af-4cd2-9e21-1ef33db30083",
      "metadata": {
        "id": "d1fb2f7f-40af-4cd2-9e21-1ef33db30083",
        "outputId": "b7de3a03-6e5f-4a2b-b46f-abcabf34c863",
        "colab": {
          "base_uri": "https://localhost:8080/",
          "height": 423
        }
      },
      "outputs": [
        {
          "output_type": "execute_result",
          "data": {
            "text/plain": [
              "       IDADE  SEXO  RACACOR  ESTCIV  ESC  CODMUNRES  LOCOCOR CAUSABAS  MONTH  \\\n",
              "0       26.0     1      1.0     1.0  5.0     410040        3     X700    1.0   \n",
              "1       27.0     1      1.0     1.0  4.0     410040        3     X700    5.0   \n",
              "2       14.0     2      1.0     1.0  4.0     410040        1     X689    8.0   \n",
              "3       27.0     1      1.0     1.0  3.0     410040        1     X699    3.0   \n",
              "4       43.0     1      1.0     1.0  3.0     410040        5     X709    6.0   \n",
              "...      ...   ...      ...     ...  ...        ...      ...      ...    ...   \n",
              "29903   56.0     1      1.0     1.0  0.0     432230        3     X700   12.0   \n",
              "29904   58.0     2      1.0     2.0  0.0     432090        3     X700   12.0   \n",
              "29905   44.0     1      1.0     1.0  0.0     430430        3     X700   12.0   \n",
              "29906   46.0     1      2.0     2.0  3.0     431490        5     X709   12.0   \n",
              "29907   71.0     1      1.0     0.0  0.0     430990        3     X720   12.0   \n",
              "\n",
              "        DAY    YEAR   WEEK_DAY  SEASON  WEEKEND  Idade  UF  \n",
              "0      12.0  2009.0     Monday  summer        0      1  PR  \n",
              "1      19.0  2009.0    Tuesday  autumn        0      1  PR  \n",
              "2      20.0  2009.0   Thursday  winter        0      0  PR  \n",
              "3       7.0  2009.0   Saturday  summer        1      1  PR  \n",
              "4      17.0  2009.0  Wednesday  autumn        0      3  PR  \n",
              "...     ...     ...        ...     ...      ...    ...  ..  \n",
              "29903  30.0  2020.0  Wednesday  summer        0      4  RS  \n",
              "29904  30.0  2020.0  Wednesday  summer        0      4  RS  \n",
              "29905  31.0  2020.0   Thursday  summer        0      3  RS  \n",
              "29906  31.0  2020.0   Thursday  summer        0      3  RS  \n",
              "29907  31.0  2020.0   Thursday  summer        0      6  RS  \n",
              "\n",
              "[29908 rows x 16 columns]"
            ],
            "text/html": [
              "\n",
              "  <div id=\"df-8c3ee463-783a-4b0f-b866-d46ac55f60bc\">\n",
              "    <div class=\"colab-df-container\">\n",
              "      <div>\n",
              "<style scoped>\n",
              "    .dataframe tbody tr th:only-of-type {\n",
              "        vertical-align: middle;\n",
              "    }\n",
              "\n",
              "    .dataframe tbody tr th {\n",
              "        vertical-align: top;\n",
              "    }\n",
              "\n",
              "    .dataframe thead th {\n",
              "        text-align: right;\n",
              "    }\n",
              "</style>\n",
              "<table border=\"1\" class=\"dataframe\">\n",
              "  <thead>\n",
              "    <tr style=\"text-align: right;\">\n",
              "      <th></th>\n",
              "      <th>IDADE</th>\n",
              "      <th>SEXO</th>\n",
              "      <th>RACACOR</th>\n",
              "      <th>ESTCIV</th>\n",
              "      <th>ESC</th>\n",
              "      <th>CODMUNRES</th>\n",
              "      <th>LOCOCOR</th>\n",
              "      <th>CAUSABAS</th>\n",
              "      <th>MONTH</th>\n",
              "      <th>DAY</th>\n",
              "      <th>YEAR</th>\n",
              "      <th>WEEK_DAY</th>\n",
              "      <th>SEASON</th>\n",
              "      <th>WEEKEND</th>\n",
              "      <th>Idade</th>\n",
              "      <th>UF</th>\n",
              "    </tr>\n",
              "  </thead>\n",
              "  <tbody>\n",
              "    <tr>\n",
              "      <th>0</th>\n",
              "      <td>26.0</td>\n",
              "      <td>1</td>\n",
              "      <td>1.0</td>\n",
              "      <td>1.0</td>\n",
              "      <td>5.0</td>\n",
              "      <td>410040</td>\n",
              "      <td>3</td>\n",
              "      <td>X700</td>\n",
              "      <td>1.0</td>\n",
              "      <td>12.0</td>\n",
              "      <td>2009.0</td>\n",
              "      <td>Monday</td>\n",
              "      <td>summer</td>\n",
              "      <td>0</td>\n",
              "      <td>1</td>\n",
              "      <td>PR</td>\n",
              "    </tr>\n",
              "    <tr>\n",
              "      <th>1</th>\n",
              "      <td>27.0</td>\n",
              "      <td>1</td>\n",
              "      <td>1.0</td>\n",
              "      <td>1.0</td>\n",
              "      <td>4.0</td>\n",
              "      <td>410040</td>\n",
              "      <td>3</td>\n",
              "      <td>X700</td>\n",
              "      <td>5.0</td>\n",
              "      <td>19.0</td>\n",
              "      <td>2009.0</td>\n",
              "      <td>Tuesday</td>\n",
              "      <td>autumn</td>\n",
              "      <td>0</td>\n",
              "      <td>1</td>\n",
              "      <td>PR</td>\n",
              "    </tr>\n",
              "    <tr>\n",
              "      <th>2</th>\n",
              "      <td>14.0</td>\n",
              "      <td>2</td>\n",
              "      <td>1.0</td>\n",
              "      <td>1.0</td>\n",
              "      <td>4.0</td>\n",
              "      <td>410040</td>\n",
              "      <td>1</td>\n",
              "      <td>X689</td>\n",
              "      <td>8.0</td>\n",
              "      <td>20.0</td>\n",
              "      <td>2009.0</td>\n",
              "      <td>Thursday</td>\n",
              "      <td>winter</td>\n",
              "      <td>0</td>\n",
              "      <td>0</td>\n",
              "      <td>PR</td>\n",
              "    </tr>\n",
              "    <tr>\n",
              "      <th>3</th>\n",
              "      <td>27.0</td>\n",
              "      <td>1</td>\n",
              "      <td>1.0</td>\n",
              "      <td>1.0</td>\n",
              "      <td>3.0</td>\n",
              "      <td>410040</td>\n",
              "      <td>1</td>\n",
              "      <td>X699</td>\n",
              "      <td>3.0</td>\n",
              "      <td>7.0</td>\n",
              "      <td>2009.0</td>\n",
              "      <td>Saturday</td>\n",
              "      <td>summer</td>\n",
              "      <td>1</td>\n",
              "      <td>1</td>\n",
              "      <td>PR</td>\n",
              "    </tr>\n",
              "    <tr>\n",
              "      <th>4</th>\n",
              "      <td>43.0</td>\n",
              "      <td>1</td>\n",
              "      <td>1.0</td>\n",
              "      <td>1.0</td>\n",
              "      <td>3.0</td>\n",
              "      <td>410040</td>\n",
              "      <td>5</td>\n",
              "      <td>X709</td>\n",
              "      <td>6.0</td>\n",
              "      <td>17.0</td>\n",
              "      <td>2009.0</td>\n",
              "      <td>Wednesday</td>\n",
              "      <td>autumn</td>\n",
              "      <td>0</td>\n",
              "      <td>3</td>\n",
              "      <td>PR</td>\n",
              "    </tr>\n",
              "    <tr>\n",
              "      <th>...</th>\n",
              "      <td>...</td>\n",
              "      <td>...</td>\n",
              "      <td>...</td>\n",
              "      <td>...</td>\n",
              "      <td>...</td>\n",
              "      <td>...</td>\n",
              "      <td>...</td>\n",
              "      <td>...</td>\n",
              "      <td>...</td>\n",
              "      <td>...</td>\n",
              "      <td>...</td>\n",
              "      <td>...</td>\n",
              "      <td>...</td>\n",
              "      <td>...</td>\n",
              "      <td>...</td>\n",
              "      <td>...</td>\n",
              "    </tr>\n",
              "    <tr>\n",
              "      <th>29903</th>\n",
              "      <td>56.0</td>\n",
              "      <td>1</td>\n",
              "      <td>1.0</td>\n",
              "      <td>1.0</td>\n",
              "      <td>0.0</td>\n",
              "      <td>432230</td>\n",
              "      <td>3</td>\n",
              "      <td>X700</td>\n",
              "      <td>12.0</td>\n",
              "      <td>30.0</td>\n",
              "      <td>2020.0</td>\n",
              "      <td>Wednesday</td>\n",
              "      <td>summer</td>\n",
              "      <td>0</td>\n",
              "      <td>4</td>\n",
              "      <td>RS</td>\n",
              "    </tr>\n",
              "    <tr>\n",
              "      <th>29904</th>\n",
              "      <td>58.0</td>\n",
              "      <td>2</td>\n",
              "      <td>1.0</td>\n",
              "      <td>2.0</td>\n",
              "      <td>0.0</td>\n",
              "      <td>432090</td>\n",
              "      <td>3</td>\n",
              "      <td>X700</td>\n",
              "      <td>12.0</td>\n",
              "      <td>30.0</td>\n",
              "      <td>2020.0</td>\n",
              "      <td>Wednesday</td>\n",
              "      <td>summer</td>\n",
              "      <td>0</td>\n",
              "      <td>4</td>\n",
              "      <td>RS</td>\n",
              "    </tr>\n",
              "    <tr>\n",
              "      <th>29905</th>\n",
              "      <td>44.0</td>\n",
              "      <td>1</td>\n",
              "      <td>1.0</td>\n",
              "      <td>1.0</td>\n",
              "      <td>0.0</td>\n",
              "      <td>430430</td>\n",
              "      <td>3</td>\n",
              "      <td>X700</td>\n",
              "      <td>12.0</td>\n",
              "      <td>31.0</td>\n",
              "      <td>2020.0</td>\n",
              "      <td>Thursday</td>\n",
              "      <td>summer</td>\n",
              "      <td>0</td>\n",
              "      <td>3</td>\n",
              "      <td>RS</td>\n",
              "    </tr>\n",
              "    <tr>\n",
              "      <th>29906</th>\n",
              "      <td>46.0</td>\n",
              "      <td>1</td>\n",
              "      <td>2.0</td>\n",
              "      <td>2.0</td>\n",
              "      <td>3.0</td>\n",
              "      <td>431490</td>\n",
              "      <td>5</td>\n",
              "      <td>X709</td>\n",
              "      <td>12.0</td>\n",
              "      <td>31.0</td>\n",
              "      <td>2020.0</td>\n",
              "      <td>Thursday</td>\n",
              "      <td>summer</td>\n",
              "      <td>0</td>\n",
              "      <td>3</td>\n",
              "      <td>RS</td>\n",
              "    </tr>\n",
              "    <tr>\n",
              "      <th>29907</th>\n",
              "      <td>71.0</td>\n",
              "      <td>1</td>\n",
              "      <td>1.0</td>\n",
              "      <td>0.0</td>\n",
              "      <td>0.0</td>\n",
              "      <td>430990</td>\n",
              "      <td>3</td>\n",
              "      <td>X720</td>\n",
              "      <td>12.0</td>\n",
              "      <td>31.0</td>\n",
              "      <td>2020.0</td>\n",
              "      <td>Thursday</td>\n",
              "      <td>summer</td>\n",
              "      <td>0</td>\n",
              "      <td>6</td>\n",
              "      <td>RS</td>\n",
              "    </tr>\n",
              "  </tbody>\n",
              "</table>\n",
              "<p>29908 rows × 16 columns</p>\n",
              "</div>\n",
              "      <button class=\"colab-df-convert\" onclick=\"convertToInteractive('df-8c3ee463-783a-4b0f-b866-d46ac55f60bc')\"\n",
              "              title=\"Convert this dataframe to an interactive table.\"\n",
              "              style=\"display:none;\">\n",
              "        \n",
              "  <svg xmlns=\"http://www.w3.org/2000/svg\" height=\"24px\"viewBox=\"0 0 24 24\"\n",
              "       width=\"24px\">\n",
              "    <path d=\"M0 0h24v24H0V0z\" fill=\"none\"/>\n",
              "    <path d=\"M18.56 5.44l.94 2.06.94-2.06 2.06-.94-2.06-.94-.94-2.06-.94 2.06-2.06.94zm-11 1L8.5 8.5l.94-2.06 2.06-.94-2.06-.94L8.5 2.5l-.94 2.06-2.06.94zm10 10l.94 2.06.94-2.06 2.06-.94-2.06-.94-.94-2.06-.94 2.06-2.06.94z\"/><path d=\"M17.41 7.96l-1.37-1.37c-.4-.4-.92-.59-1.43-.59-.52 0-1.04.2-1.43.59L10.3 9.45l-7.72 7.72c-.78.78-.78 2.05 0 2.83L4 21.41c.39.39.9.59 1.41.59.51 0 1.02-.2 1.41-.59l7.78-7.78 2.81-2.81c.8-.78.8-2.07 0-2.86zM5.41 20L4 18.59l7.72-7.72 1.47 1.35L5.41 20z\"/>\n",
              "  </svg>\n",
              "      </button>\n",
              "      \n",
              "  <style>\n",
              "    .colab-df-container {\n",
              "      display:flex;\n",
              "      flex-wrap:wrap;\n",
              "      gap: 12px;\n",
              "    }\n",
              "\n",
              "    .colab-df-convert {\n",
              "      background-color: #E8F0FE;\n",
              "      border: none;\n",
              "      border-radius: 50%;\n",
              "      cursor: pointer;\n",
              "      display: none;\n",
              "      fill: #1967D2;\n",
              "      height: 32px;\n",
              "      padding: 0 0 0 0;\n",
              "      width: 32px;\n",
              "    }\n",
              "\n",
              "    .colab-df-convert:hover {\n",
              "      background-color: #E2EBFA;\n",
              "      box-shadow: 0px 1px 2px rgba(60, 64, 67, 0.3), 0px 1px 3px 1px rgba(60, 64, 67, 0.15);\n",
              "      fill: #174EA6;\n",
              "    }\n",
              "\n",
              "    [theme=dark] .colab-df-convert {\n",
              "      background-color: #3B4455;\n",
              "      fill: #D2E3FC;\n",
              "    }\n",
              "\n",
              "    [theme=dark] .colab-df-convert:hover {\n",
              "      background-color: #434B5C;\n",
              "      box-shadow: 0px 1px 3px 1px rgba(0, 0, 0, 0.15);\n",
              "      filter: drop-shadow(0px 1px 2px rgba(0, 0, 0, 0.3));\n",
              "      fill: #FFFFFF;\n",
              "    }\n",
              "  </style>\n",
              "\n",
              "      <script>\n",
              "        const buttonEl =\n",
              "          document.querySelector('#df-8c3ee463-783a-4b0f-b866-d46ac55f60bc button.colab-df-convert');\n",
              "        buttonEl.style.display =\n",
              "          google.colab.kernel.accessAllowed ? 'block' : 'none';\n",
              "\n",
              "        async function convertToInteractive(key) {\n",
              "          const element = document.querySelector('#df-8c3ee463-783a-4b0f-b866-d46ac55f60bc');\n",
              "          const dataTable =\n",
              "            await google.colab.kernel.invokeFunction('convertToInteractive',\n",
              "                                                     [key], {});\n",
              "          if (!dataTable) return;\n",
              "\n",
              "          const docLinkHtml = 'Like what you see? Visit the ' +\n",
              "            '<a target=\"_blank\" href=https://colab.research.google.com/notebooks/data_table.ipynb>data table notebook</a>'\n",
              "            + ' to learn more about interactive tables.';\n",
              "          element.innerHTML = '';\n",
              "          dataTable['output_type'] = 'display_data';\n",
              "          await google.colab.output.renderOutput(dataTable, element);\n",
              "          const docLink = document.createElement('div');\n",
              "          docLink.innerHTML = docLinkHtml;\n",
              "          element.appendChild(docLink);\n",
              "        }\n",
              "      </script>\n",
              "    </div>\n",
              "  </div>\n",
              "  "
            ]
          },
          "metadata": {},
          "execution_count": 3
        }
      ],
      "source": [
        "sul['UF'] = pd.cut(sul['CODMUNRES'], labels= ['PR', 'SC', 'RS'], bins= [410000, 420000, 430000, 440000])\n",
        "sul"
      ]
    },
    {
      "cell_type": "code",
      "execution_count": null,
      "id": "820b8fd0-be0a-4ce2-8d57-0e99da2f17aa",
      "metadata": {
        "id": "820b8fd0-be0a-4ce2-8d57-0e99da2f17aa",
        "outputId": "c5d65f16-ca91-4a52-8592-4f692f0a18e0"
      },
      "outputs": [
        {
          "data": {
            "image/png": "[encoded data removed]",
            "text/plain": [
              "<Figure size 640x480 with 1 Axes>"
            ]
          },
          "metadata": {},
          "output_type": "display_data"
        }
      ],
      "source": [
        "sns.countplot(data= sul, x= 'UF');"
      ]
    },
    {
      "cell_type": "code",
      "execution_count": null,
      "id": "b206e106-cec9-4900-b92f-e9161ba7b67b",
      "metadata": {
        "id": "b206e106-cec9-4900-b92f-e9161ba7b67b"
      },
      "outputs": [],
      "source": [
        "rs = len(sul[sul['UF'] == 'RS'])\n",
        "pr = len(sul[sul['UF'] == 'PR'])\n",
        "sc = len(sul[sul['UF'] == 'SC'])\n",
        "\n",
        "# estimated population\n",
        "PR = 11600000\n",
        "SC = 7300000\n",
        "RS = 11500000\n",
        "\n",
        "anospr = pr/12\n",
        "anossc = sc/12\n",
        "anosrs = rs/12\n",
        "taxapr = anospr/PR*100000\n",
        "taxasc = anossc/SC*100000\n",
        "taxars = anosrs/RS*100000"
      ]
    },
    {
      "cell_type": "markdown",
      "source": [
        "The rate for the different states are represent by deaths per 100 000 inhabitants."
      ],
      "metadata": {
        "id": "iBpRpFbPh7JM"
      },
      "id": "iBpRpFbPh7JM"
    },
    {
      "cell_type": "code",
      "execution_count": null,
      "id": "cba3d344-27cf-4b86-b26d-63fb8054e7e1",
      "metadata": {
        "id": "cba3d344-27cf-4b86-b26d-63fb8054e7e1",
        "outputId": "14a9a7eb-f788-48a2-de71-63bc1c208103"
      },
      "outputs": [
        {
          "data": {
            "text/html": [
              "<div>\n",
              "<style scoped>\n",
              "    .dataframe tbody tr th:only-of-type {\n",
              "        vertical-align: middle;\n",
              "    }\n",
              "\n",
              "    .dataframe tbody tr th {\n",
              "        vertical-align: top;\n",
              "    }\n",
              "\n",
              "    .dataframe thead th {\n",
              "        text-align: right;\n",
              "    }\n",
              "</style>\n",
              "<table border=\"1\" class=\"dataframe\">\n",
              "  <thead>\n",
              "    <tr style=\"text-align: right;\">\n",
              "      <th></th>\n",
              "      <th>UF</th>\n",
              "      <th>Rate</th>\n",
              "    </tr>\n",
              "  </thead>\n",
              "  <tbody>\n",
              "    <tr>\n",
              "      <th>0</th>\n",
              "      <td>PR</td>\n",
              "      <td>6.020115</td>\n",
              "    </tr>\n",
              "    <tr>\n",
              "      <th>1</th>\n",
              "      <td>SC</td>\n",
              "      <td>8.310502</td>\n",
              "    </tr>\n",
              "    <tr>\n",
              "      <th>2</th>\n",
              "      <td>RS</td>\n",
              "      <td>10.321739</td>\n",
              "    </tr>\n",
              "  </tbody>\n",
              "</table>\n",
              "</div>"
            ],
            "text/plain": [
              "   UF       Rate\n",
              "0  PR   6.020115\n",
              "1  SC   8.310502\n",
              "2  RS  10.321739"
            ]
          },
          "execution_count": 8,
          "metadata": {},
          "output_type": "execute_result"
        }
      ],
      "source": [
        "dict = {'UF':['PR', 'SC', 'RS'], 'Rate':[taxapr, taxasc, taxars]}\n",
        "uf = pd.DataFrame(dict)\n",
        "uf"
      ]
    },
    {
      "cell_type": "markdown",
      "source": [
        "We also wanted to see the growth in deaths from the first to last year analyzed.\n",
        "\n",
        "Although RS had the least growth, ir continued to have the highest rate."
      ],
      "metadata": {
        "id": "ZnyKm6MsiM6_"
      },
      "id": "ZnyKm6MsiM6_"
    },
    {
      "cell_type": "code",
      "execution_count": null,
      "id": "d993b096-8e23-430a-abfa-faf2be10683f",
      "metadata": {
        "id": "d993b096-8e23-430a-abfa-faf2be10683f",
        "outputId": "ccab1b2b-569d-42cc-a470-09e1a090549a",
        "colab": {
          "base_uri": "https://localhost:8080/",
          "height": 449
        }
      },
      "outputs": [
        {
          "output_type": "display_data",
          "data": {
            "text/plain": [
              "<Figure size 640x480 with 1 Axes>"
            ],
            "image/png": "[encoded data removed]"
          },
          "metadata": {}
        }
      ],
      "source": [
        "sns.countplot(data= sul, x= 'YEAR', hue= 'UF');"
      ]
    },
    {
      "cell_type": "code",
      "execution_count": null,
      "id": "05cea663-7cbe-44df-81ee-2ef2203c8c6c",
      "metadata": {
        "id": "05cea663-7cbe-44df-81ee-2ef2203c8c6c"
      },
      "outputs": [],
      "source": [
        "# calculando o crescimento dos casos\n",
        "df1 = sul[sul['YEAR'] == 2009]\n",
        "df2 = sul[sul['YEAR'] == 2020]"
      ]
    },
    {
      "cell_type": "code",
      "execution_count": null,
      "id": "8c8fd0f1-bb8f-4176-98f5-78b0a9b70c15",
      "metadata": {
        "id": "8c8fd0f1-bb8f-4176-98f5-78b0a9b70c15"
      },
      "outputs": [],
      "source": [
        "pr1 = len(df1[df1['UF'] == 'PR'])\n",
        "pr2 = len(df2[df2['UF'] == 'PR'])\n",
        "sc1 = len(df1[df1['UF'] == 'SC'])\n",
        "sc2 = len(df2[df2['UF'] == 'SC'])\n",
        "rs1 = len(df1[df1['UF'] == 'RS'])\n",
        "rs2 = len(df2[df2['UF'] == 'RS'])"
      ]
    },
    {
      "cell_type": "code",
      "execution_count": null,
      "id": "713a0d00-b547-497d-8b2e-6f6acff7a6e4",
      "metadata": {
        "id": "713a0d00-b547-497d-8b2e-6f6acff7a6e4",
        "outputId": "dc89743d-7076-4e41-9f70-e98362b3b10f",
        "colab": {
          "base_uri": "https://localhost:8080/"
        }
      },
      "outputs": [
        {
          "output_type": "stream",
          "name": "stdout",
          "text": [
            "Growth in the number of suicides from 2009 to 2020:\n",
            "PR - 41.00%\n",
            "SC - 51.43%\n",
            "RS - 27.67%\n"
          ]
        }
      ],
      "source": [
        "cres_pr = ((pr2 - pr1)/pr1)*100\n",
        "cres_sc = ((sc2 - sc1)/sc1)*100\n",
        "cres_rs = ((rs2 - rs1)/rs1)*100\n",
        "print(f'Growth in the number of suicides from 2009 to 2020:\\nPR - {cres_pr:.2f}%\\nSC - {cres_sc:.2f}%\\nRS - {cres_rs:.2f}%')"
      ]
    },
    {
      "cell_type": "code",
      "execution_count": null,
      "id": "5772ebd6-08c9-4838-a306-85c0d90d8861",
      "metadata": {
        "id": "5772ebd6-08c9-4838-a306-85c0d90d8861",
        "outputId": "7f0b29da-149d-45f7-a47a-fcacc04232ee"
      },
      "outputs": [
        {
          "data": {
            "text/html": [
              "<div>\n",
              "<style scoped>\n",
              "    .dataframe tbody tr th:only-of-type {\n",
              "        vertical-align: middle;\n",
              "    }\n",
              "\n",
              "    .dataframe tbody tr th {\n",
              "        vertical-align: top;\n",
              "    }\n",
              "\n",
              "    .dataframe thead th {\n",
              "        text-align: right;\n",
              "    }\n",
              "</style>\n",
              "<table border=\"1\" class=\"dataframe\">\n",
              "  <thead>\n",
              "    <tr style=\"text-align: right;\">\n",
              "      <th></th>\n",
              "      <th>IDADE</th>\n",
              "      <th>SEXO</th>\n",
              "      <th>RACACOR</th>\n",
              "      <th>ESTCIV</th>\n",
              "      <th>ESC</th>\n",
              "      <th>CODMUNRES</th>\n",
              "      <th>LOCOCOR</th>\n",
              "      <th>MONTH</th>\n",
              "      <th>DAY</th>\n",
              "      <th>YEAR</th>\n",
              "      <th>WEEKEND</th>\n",
              "      <th>Idade</th>\n",
              "    </tr>\n",
              "  </thead>\n",
              "  <tbody>\n",
              "    <tr>\n",
              "      <th>count</th>\n",
              "      <td>29908.000000</td>\n",
              "      <td>29908.000000</td>\n",
              "      <td>29908.000000</td>\n",
              "      <td>29908.000000</td>\n",
              "      <td>29908.000000</td>\n",
              "      <td>29908.000000</td>\n",
              "      <td>29908.000000</td>\n",
              "      <td>29908.000000</td>\n",
              "      <td>29908.000000</td>\n",
              "      <td>29908.000000</td>\n",
              "      <td>29908.000000</td>\n",
              "      <td>29908.000000</td>\n",
              "    </tr>\n",
              "    <tr>\n",
              "      <th>mean</th>\n",
              "      <td>45.369299</td>\n",
              "      <td>1.206299</td>\n",
              "      <td>1.279624</td>\n",
              "      <td>1.760165</td>\n",
              "      <td>2.485389</td>\n",
              "      <td>423129.195700</td>\n",
              "      <td>3.124582</td>\n",
              "      <td>6.373412</td>\n",
              "      <td>17.111776</td>\n",
              "      <td>2014.935770</td>\n",
              "      <td>0.291929</td>\n",
              "      <td>3.086131</td>\n",
              "    </tr>\n",
              "    <tr>\n",
              "      <th>std</th>\n",
              "      <td>17.759390</td>\n",
              "      <td>0.404655</td>\n",
              "      <td>0.859208</td>\n",
              "      <td>1.179237</td>\n",
              "      <td>1.656480</td>\n",
              "      <td>8498.294952</td>\n",
              "      <td>1.097388</td>\n",
              "      <td>3.531248</td>\n",
              "      <td>7.975661</td>\n",
              "      <td>3.476991</td>\n",
              "      <td>0.454657</td>\n",
              "      <td>1.801016</td>\n",
              "    </tr>\n",
              "    <tr>\n",
              "      <th>min</th>\n",
              "      <td>10.000000</td>\n",
              "      <td>1.000000</td>\n",
              "      <td>0.000000</td>\n",
              "      <td>0.000000</td>\n",
              "      <td>0.000000</td>\n",
              "      <td>410000.000000</td>\n",
              "      <td>1.000000</td>\n",
              "      <td>1.000000</td>\n",
              "      <td>1.000000</td>\n",
              "      <td>2009.000000</td>\n",
              "      <td>0.000000</td>\n",
              "      <td>0.000000</td>\n",
              "    </tr>\n",
              "    <tr>\n",
              "      <th>25%</th>\n",
              "      <td>31.000000</td>\n",
              "      <td>1.000000</td>\n",
              "      <td>1.000000</td>\n",
              "      <td>1.000000</td>\n",
              "      <td>1.000000</td>\n",
              "      <td>412550.000000</td>\n",
              "      <td>3.000000</td>\n",
              "      <td>3.000000</td>\n",
              "      <td>10.000000</td>\n",
              "      <td>2012.000000</td>\n",
              "      <td>0.000000</td>\n",
              "      <td>2.000000</td>\n",
              "    </tr>\n",
              "    <tr>\n",
              "      <th>50%</th>\n",
              "      <td>45.000000</td>\n",
              "      <td>1.000000</td>\n",
              "      <td>1.000000</td>\n",
              "      <td>1.000000</td>\n",
              "      <td>3.000000</td>\n",
              "      <td>421720.000000</td>\n",
              "      <td>3.000000</td>\n",
              "      <td>6.000000</td>\n",
              "      <td>17.000000</td>\n",
              "      <td>2015.000000</td>\n",
              "      <td>0.000000</td>\n",
              "      <td>3.000000</td>\n",
              "    </tr>\n",
              "    <tr>\n",
              "      <th>75%</th>\n",
              "      <td>58.000000</td>\n",
              "      <td>1.000000</td>\n",
              "      <td>1.000000</td>\n",
              "      <td>2.000000</td>\n",
              "      <td>4.000000</td>\n",
              "      <td>431340.000000</td>\n",
              "      <td>3.000000</td>\n",
              "      <td>9.000000</td>\n",
              "      <td>24.000000</td>\n",
              "      <td>2018.000000</td>\n",
              "      <td>1.000000</td>\n",
              "      <td>4.000000</td>\n",
              "    </tr>\n",
              "    <tr>\n",
              "      <th>max</th>\n",
              "      <td>103.000000</td>\n",
              "      <td>2.000000</td>\n",
              "      <td>5.000000</td>\n",
              "      <td>5.000000</td>\n",
              "      <td>5.000000</td>\n",
              "      <td>432380.000000</td>\n",
              "      <td>9.000000</td>\n",
              "      <td>12.000000</td>\n",
              "      <td>31.000000</td>\n",
              "      <td>2020.000000</td>\n",
              "      <td>1.000000</td>\n",
              "      <td>8.000000</td>\n",
              "    </tr>\n",
              "  </tbody>\n",
              "</table>\n",
              "</div>"
            ],
            "text/plain": [
              "              IDADE          SEXO       RACACOR        ESTCIV           ESC  \\\n",
              "count  29908.000000  29908.000000  29908.000000  29908.000000  29908.000000   \n",
              "mean      45.369299      1.206299      1.279624      1.760165      2.485389   \n",
              "std       17.759390      0.404655      0.859208      1.179237      1.656480   \n",
              "min       10.000000      1.000000      0.000000      0.000000      0.000000   \n",
              "25%       31.000000      1.000000      1.000000      1.000000      1.000000   \n",
              "50%       45.000000      1.000000      1.000000      1.000000      3.000000   \n",
              "75%       58.000000      1.000000      1.000000      2.000000      4.000000   \n",
              "max      103.000000      2.000000      5.000000      5.000000      5.000000   \n",
              "\n",
              "           CODMUNRES       LOCOCOR         MONTH           DAY          YEAR  \\\n",
              "count   29908.000000  29908.000000  29908.000000  29908.000000  29908.000000   \n",
              "mean   423129.195700      3.124582      6.373412     17.111776   2014.935770   \n",
              "std      8498.294952      1.097388      3.531248      7.975661      3.476991   \n",
              "min    410000.000000      1.000000      1.000000      1.000000   2009.000000   \n",
              "25%    412550.000000      3.000000      3.000000     10.000000   2012.000000   \n",
              "50%    421720.000000      3.000000      6.000000     17.000000   2015.000000   \n",
              "75%    431340.000000      3.000000      9.000000     24.000000   2018.000000   \n",
              "max    432380.000000      9.000000     12.000000     31.000000   2020.000000   \n",
              "\n",
              "            WEEKEND         Idade  \n",
              "count  29908.000000  29908.000000  \n",
              "mean       0.291929      3.086131  \n",
              "std        0.454657      1.801016  \n",
              "min        0.000000      0.000000  \n",
              "25%        0.000000      2.000000  \n",
              "50%        0.000000      3.000000  \n",
              "75%        1.000000      4.000000  \n",
              "max        1.000000      8.000000  "
            ]
          },
          "execution_count": 13,
          "metadata": {},
          "output_type": "execute_result"
        }
      ],
      "source": [
        "sul.describe()"
      ]
    },
    {
      "cell_type": "markdown",
      "source": [
        "Next we checked the differences in sex.\n",
        "Men died approximately 3.8 fold more than women, idependent of the age analyzed. Here the ages are in decades, starting from 10 years to 90+"
      ],
      "metadata": {
        "id": "fbSiPYujj1Rz"
      },
      "id": "fbSiPYujj1Rz"
    },
    {
      "cell_type": "code",
      "execution_count": null,
      "id": "f6905bbe-e186-42b0-b7d2-b86c328aa03b",
      "metadata": {
        "id": "f6905bbe-e186-42b0-b7d2-b86c328aa03b",
        "outputId": "c256c39b-0145-4510-e20c-2d81b08e6d6d"
      },
      "outputs": [
        {
          "data": {
            "image/png": "[encoded data removed]",
            "text/plain": [
              "<Figure size 640x480 with 1 Axes>"
            ]
          },
          "metadata": {},
          "output_type": "display_data"
        }
      ],
      "source": [
        "sns.countplot(data= sul, x= 'Idade', hue= 'SEXO');"
      ]
    },
    {
      "cell_type": "code",
      "execution_count": null,
      "id": "0745c4ce-4767-4ef4-a3c8-414327ebdc35",
      "metadata": {
        "id": "0745c4ce-4767-4ef4-a3c8-414327ebdc35",
        "outputId": "9efac895-338f-44eb-c5c1-f9934c33279f"
      },
      "outputs": [
        {
          "name": "stdout",
          "output_type": "stream",
          "text": [
            "23738\n",
            "6170\n",
            "3.847325769854133\n"
          ]
        }
      ],
      "source": [
        "print(len(sul[sul['SEXO'] == 1]))\n",
        "print(len(sul[sul['SEXO'] == 2]))\n",
        "print(len(sul[sul['SEXO'] == 1]) / len(sul[sul['SEXO'] == 2]))"
      ]
    },
    {
      "cell_type": "markdown",
      "source": [
        "The race of the suicide completers was predominantly white and completers were mostly either married or single. Most people died at home."
      ],
      "metadata": {
        "id": "UwBfRKv4kh1C"
      },
      "id": "UwBfRKv4kh1C"
    },
    {
      "cell_type": "code",
      "execution_count": null,
      "id": "328e45bb-9d25-4b91-b9fd-eef3d5955b06",
      "metadata": {
        "id": "328e45bb-9d25-4b91-b9fd-eef3d5955b06",
        "outputId": "fb2809ab-87fe-4e07-8160-2da135589d2e"
      },
      "outputs": [
        {
          "data": {
            "image/png": "[encoded data removed]",
            "text/plain": [
              "<Figure size 640x480 with 1 Axes>"
            ]
          },
          "metadata": {},
          "output_type": "display_data"
        }
      ],
      "source": [
        "sns.countplot(data= sul, x= 'RACACOR');"
      ]
    },
    {
      "cell_type": "code",
      "execution_count": null,
      "id": "9387b5ff-bd77-44b4-adaa-f008b005a761",
      "metadata": {
        "id": "9387b5ff-bd77-44b4-adaa-f008b005a761",
        "outputId": "6ce9b4a5-afcd-4f8f-a4ef-12adbe0aa84f"
      },
      "outputs": [
        {
          "name": "stdout",
          "output_type": "stream",
          "text": [
            "2417\n",
            "8.081449779323258\n"
          ]
        }
      ],
      "source": [
        "print(len(sul[sul['RACACOR'] == 4]))\n",
        "print(len(sul[sul['RACACOR'] == 4]) / len(sul) * 100)"
      ]
    },
    {
      "cell_type": "code",
      "execution_count": null,
      "id": "d12a7462-6a54-401f-bf8a-82be702ac650",
      "metadata": {
        "id": "d12a7462-6a54-401f-bf8a-82be702ac650",
        "outputId": "44427547-ef58-4691-e29a-56049dea5d23"
      },
      "outputs": [
        {
          "data": {
            "image/png": "[encoded data removed]",
            "text/plain": [
              "<Figure size 640x480 with 1 Axes>"
            ]
          },
          "metadata": {},
          "output_type": "display_data"
        }
      ],
      "source": [
        "sns.countplot(data= sul, x= 'ESTCIV');"
      ]
    },
    {
      "cell_type": "code",
      "execution_count": null,
      "id": "66c534e0-b5ea-4dfa-b5a1-1c2d72caa3aa",
      "metadata": {
        "id": "66c534e0-b5ea-4dfa-b5a1-1c2d72caa3aa",
        "outputId": "d108be02-62ba-4d34-b8b6-18623b238190"
      },
      "outputs": [
        {
          "name": "stdout",
          "output_type": "stream",
          "text": [
            "42.84806740671392\n",
            "32.74374749230975\n"
          ]
        }
      ],
      "source": [
        "print(len(sul[sul['ESTCIV'] == 1]) / len(sul) * 100)\n",
        "print(len(sul[sul['ESTCIV'] == 2]) / len(sul) * 100)"
      ]
    },
    {
      "cell_type": "code",
      "execution_count": null,
      "id": "7813a815-09cb-447a-9ce9-628d1d734712",
      "metadata": {
        "id": "7813a815-09cb-447a-9ce9-628d1d734712",
        "outputId": "56eeff1a-d4cf-4ab0-91aa-7bc10cbb8a01",
        "colab": {
          "base_uri": "https://localhost:8080/",
          "height": 449
        }
      },
      "outputs": [
        {
          "output_type": "display_data",
          "data": {
            "text/plain": [
              "<Figure size 640x480 with 1 Axes>"
            ],
            "image/png": "[encoded data removed]"
          },
          "metadata": {}
        }
      ],
      "source": [
        "sns.countplot(data= sul, x= 'LOCOCOR');"
      ]
    },
    {
      "cell_type": "code",
      "execution_count": null,
      "id": "669c2ad5-e359-475f-b4b4-7c49c6d1ede7",
      "metadata": {
        "id": "669c2ad5-e359-475f-b4b4-7c49c6d1ede7",
        "outputId": "ef512f6c-dd99-498e-96bf-a8abc0864e97"
      },
      "outputs": [
        {
          "name": "stdout",
          "output_type": "stream",
          "text": [
            "11.883108198475325\n",
            "66.45044804065802\n"
          ]
        }
      ],
      "source": [
        "print(len(sul[sul['LOCOCOR'] == 1]) / len(sul) * 100)\n",
        "print(len(sul[sul['LOCOCOR'] == 3]) / len(sul) * 100)"
      ]
    },
    {
      "cell_type": "markdown",
      "source": [
        "The mean age of completers was 45 (± 17) years old.\n",
        "The schooling years were mostly 4 to 7 (26%) and 8 to 11 (24%) years, equivalent to middle and high school. Unfortunately, data for many completers was unavailable (24%), seen as the 0 column."
      ],
      "metadata": {
        "id": "AgzCE_p0lb6q"
      },
      "id": "AgzCE_p0lb6q"
    },
    {
      "cell_type": "code",
      "execution_count": null,
      "id": "3eb1eacc-7f32-4bae-af3e-a780c8596e68",
      "metadata": {
        "id": "3eb1eacc-7f32-4bae-af3e-a780c8596e68",
        "outputId": "6d4800af-fb6e-49cb-97b6-00b9ec2047b9"
      },
      "outputs": [
        {
          "data": {
            "image/png": "[encoded data removed]",
            "text/plain": [
              "<Figure size 640x480 with 1 Axes>"
            ]
          },
          "metadata": {},
          "output_type": "display_data"
        }
      ],
      "source": [
        "sns.countplot(data= sul, x= 'ESC');"
      ]
    },
    {
      "cell_type": "code",
      "execution_count": null,
      "id": "513052b0-d310-4673-8b6b-6b6f34d7eec9",
      "metadata": {
        "id": "513052b0-d310-4673-8b6b-6b6f34d7eec9",
        "outputId": "7de748a0-890c-48df-b1f0-a5a575694d98"
      },
      "outputs": [
        {
          "name": "stdout",
          "output_type": "stream",
          "text": [
            "24.418215861976726\n",
            "26.75872676207035\n",
            "24.20422629396817\n"
          ]
        }
      ],
      "source": [
        "print(len(sul[sul['ESC'] == 0]) / len(sul) * 100)\n",
        "print(len(sul[sul['ESC'] == 3]) / len(sul) * 100)\n",
        "print(len(sul[sul['ESC'] == 4]) / len(sul) * 100)"
      ]
    },
    {
      "cell_type": "markdown",
      "source": [
        "People commited suicide roughly the same amount throughout the different seasons and days of the week."
      ],
      "metadata": {
        "id": "1jc6EIcLoBf0"
      },
      "id": "1jc6EIcLoBf0"
    },
    {
      "cell_type": "code",
      "execution_count": null,
      "id": "ca182496-be72-43cb-9363-d9817c66f3e8",
      "metadata": {
        "id": "ca182496-be72-43cb-9363-d9817c66f3e8",
        "outputId": "0f35de57-d61d-4c80-8daa-f41ecdf98d9a"
      },
      "outputs": [
        {
          "data": {
            "image/png": "[encoded data removed]",
            "text/plain": [
              "<Figure size 640x480 with 1 Axes>"
            ]
          },
          "metadata": {},
          "output_type": "display_data"
        }
      ],
      "source": [
        "sns.countplot(data= sul, x= 'SEASON');"
      ]
    },
    {
      "cell_type": "code",
      "execution_count": null,
      "id": "cb8e37a6-4f80-48e2-b036-2bc0d63061c6",
      "metadata": {
        "id": "cb8e37a6-4f80-48e2-b036-2bc0d63061c6",
        "outputId": "0aab6803-9b44-4602-a759-0d312d559a47"
      },
      "outputs": [
        {
          "name": "stdout",
          "output_type": "stream",
          "text": [
            "27.4374749230975\n",
            "24.398154339975925\n",
            "23.515447371940617\n",
            "24.648923364985954\n"
          ]
        }
      ],
      "source": [
        "print(len(sul[sul['SEASON'] == 'summer']) / len(sul) * 100)\n",
        "print(len(sul[sul['SEASON'] == 'autumn']) / len(sul) * 100)\n",
        "print(len(sul[sul['SEASON'] == 'winter']) / len(sul) * 100)\n",
        "print(len(sul[sul['SEASON'] == 'spring']) / len(sul) * 100)"
      ]
    },
    {
      "cell_type": "code",
      "execution_count": null,
      "id": "d912e250-1f4a-4003-82d5-91bac7170dbb",
      "metadata": {
        "id": "d912e250-1f4a-4003-82d5-91bac7170dbb",
        "colab": {
          "base_uri": "https://localhost:8080/",
          "height": 449
        },
        "outputId": "994bbecc-3356-45a8-c0f4-8489c470ef91"
      },
      "outputs": [
        {
          "output_type": "display_data",
          "data": {
            "text/plain": [
              "<Figure size 640x480 with 1 Axes>"
            ],
            "image/png": "[encoded data removed]"
          },
          "metadata": {}
        }
      ],
      "source": [
        "sns.countplot(data= sul, x= 'WEEK_DAY', order= ['Monday', 'Tuesday', 'Wednesday', 'Thursday', 'Friday', 'Saturday', 'Sunday']);"
      ]
    },
    {
      "cell_type": "code",
      "source": [
        "sns.countplot(data= sul, x= 'MONTH');"
      ],
      "metadata": {
        "colab": {
          "base_uri": "https://localhost:8080/",
          "height": 449
        },
        "id": "J0Q75oOlolQu",
        "outputId": "aeafe678-b3e5-4f40-803e-597b5ae424fa"
      },
      "id": "J0Q75oOlolQu",
      "execution_count": null,
      "outputs": [
        {
          "output_type": "display_data",
          "data": {
            "text/plain": [
              "<Figure size 640x480 with 1 Axes>"
            ],
            "image/png": "[encoded data removed]"
          },
          "metadata": {}
        }
      ]
    },
    {
      "cell_type": "markdown",
      "source": [
        "## SINAN\n",
        "\n",
        "For this analysis we used the whole dataset, from 2009 to 2021, that were the available data. The dataset is good to understand the profile of individuals that attempt suicide throughout the years."
      ],
      "metadata": {
        "id": "ClXcFyZN0Vqe"
      },
      "id": "ClXcFyZN0Vqe"
    },
    {
      "cell_type": "code",
      "execution_count": 86,
      "metadata": {
        "id": "fbf3353d",
        "outputId": "5e13edf6-a1e9-4d04-ea33-ed38af26a3ce",
        "colab": {
          "base_uri": "https://localhost:8080/",
          "height": 661
        }
      },
      "outputs": [
        {
          "output_type": "execute_result",
          "data": {
            "text/plain": [
              "       TP_NOT  DT_NOTIFIC   SEM_NOT  NU_ANO  SG_UF_NOT  ID_MUNICIP  \\\n",
              "0           2  2009-05-24       NaN  2009.0         41      410420   \n",
              "1           2  2009-12-10       NaN  2009.0         41      412770   \n",
              "2           2  2009-12-10       NaN  2009.0         41      412770   \n",
              "3           2  2009-12-10       NaN  2009.0         41      412770   \n",
              "4           2  2009-12-30       NaN  2009.0         41      412770   \n",
              "...       ...         ...       ...     ...        ...         ...   \n",
              "87846       2  2021-08-17  202133.0  2021.0         43      430390   \n",
              "87847       2  2021-08-17  202133.0  2021.0         43      431446   \n",
              "87848       2  2021-08-18  202133.0  2021.0         43      431560   \n",
              "87849       2  2021-08-18  202133.0  2021.0         43      431560   \n",
              "87850       2  2021-08-18  202133.0  2021.0         43      430060   \n",
              "\n",
              "       ID_UNIDADE     DT_OCOR     DT_NASC  NU_IDADE_N CS_SEXO  CS_GESTANT  \\\n",
              "0         13854.0  2009-05-24  1992-08-20      4016.0       F           5   \n",
              "1       2809532.0  2009-12-10  1989-03-07      4020.0       M           6   \n",
              "2       4056752.0  2009-12-10  1975-11-30      4034.0       F           5   \n",
              "3       4056752.0  2009-12-10  1943-09-19      4066.0       M           6   \n",
              "4       4056752.0  2009-12-30  1979-03-12      4030.0       F           5   \n",
              "...           ...         ...         ...         ...     ...         ...   \n",
              "87846   2230461.0  2021-08-01         NaN      4020.0       F           5   \n",
              "87847   2240572.0  2021-08-12  2000-07-26      4021.0       F           5   \n",
              "87848   2232995.0  2021-08-17  1998-09-23      4022.0       M           6   \n",
              "87849   2232995.0  2021-08-16  1991-09-29      4029.0       F           5   \n",
              "87850   2232081.0  2021-08-16  1984-08-31      4036.0       F           5   \n",
              "\n",
              "       CS_RACA  CS_ESCOL_N  ID_MN_RESI  SIT_CONJUG  DEF_TRANS  DEF_FISICA  \\\n",
              "0          1.0         4.0    410420.0         9.0        9.0         8.0   \n",
              "1          1.0         6.0    412770.0         1.0        2.0         8.0   \n",
              "2          1.0         6.0    412770.0         2.0        2.0         8.0   \n",
              "3          1.0         4.0    412770.0         2.0        2.0         8.0   \n",
              "4          1.0         4.0    412770.0         2.0        2.0         8.0   \n",
              "...        ...         ...         ...         ...        ...         ...   \n",
              "87846      1.0         9.0    430390.0         1.0        2.0         8.0   \n",
              "87847      1.0         6.0    431446.0         2.0        2.0         8.0   \n",
              "87848      9.0         9.0    431560.0         9.0        9.0         8.0   \n",
              "87849      9.0         9.0    431560.0         9.0        9.0         8.0   \n",
              "87850      1.0         6.0    430060.0         2.0        2.0         8.0   \n",
              "\n",
              "       DEF_MENTAL  DEF_VISUAL  DEF_AUDITI  TRAN_MENT  TRAN_COMP  DEF_OUT  \\\n",
              "0             8.0         8.0         8.0        8.0        8.0      8.0   \n",
              "1             8.0         8.0         8.0        8.0        8.0      8.0   \n",
              "2             8.0         8.0         8.0        8.0        8.0      8.0   \n",
              "3             8.0         8.0         8.0        8.0        8.0      8.0   \n",
              "4             8.0         8.0         8.0        8.0        8.0      8.0   \n",
              "...           ...         ...         ...        ...        ...      ...   \n",
              "87846         8.0         8.0         8.0        8.0        8.0      8.0   \n",
              "87847         8.0         8.0         8.0        8.0        8.0      8.0   \n",
              "87848         8.0         8.0         8.0        8.0        8.0      8.0   \n",
              "87849         8.0         8.0         8.0        8.0        8.0      8.0   \n",
              "87850         8.0         8.0         8.0        8.0        8.0      8.0   \n",
              "\n",
              "       ID_MN_OCOR  LOCAL_OCOR  OUT_VEZES  LES_AUTOP  VIOL_OUTR  \\\n",
              "0        410420.0         1.0        9.0          1        1.0   \n",
              "1        412770.0         1.0        2.0          1        1.0   \n",
              "2        412770.0         1.0        9.0          1        1.0   \n",
              "3        412770.0         1.0        2.0          1        1.0   \n",
              "4        412770.0         1.0        2.0          1        1.0   \n",
              "...           ...         ...        ...        ...        ...   \n",
              "87846    430390.0         1.0        1.0          1        1.0   \n",
              "87847    431446.0         1.0        1.0          1        1.0   \n",
              "87848    431560.0         1.0        9.0          1        1.0   \n",
              "87849    431850.0        99.0        9.0          1        1.0   \n",
              "87850    430060.0         1.0        2.0          1        1.0   \n",
              "\n",
              "                           VIOL_ESPEC  AG_FORCA  AG_ENFOR  AG_OBJETO  \\\n",
              "0      TENT.SUICIDIO                        2.0       2.0        2.0   \n",
              "1      TENTATIVA DE SUICIDIO                2.0       2.0        2.0   \n",
              "2      TENTATIVA DE SUICIDIO                2.0       2.0        2.0   \n",
              "3      TENTATIVA DE SUICIDIO                2.0       2.0        2.0   \n",
              "4      TENTATIVA DE SUICIDIO                2.0       2.0        2.0   \n",
              "...                               ...       ...       ...        ...   \n",
              "87846  TS                                   2.0       1.0        2.0   \n",
              "87847  TENTATIVA DE SUICIDIO                2.0       2.0        2.0   \n",
              "87848  TENTATIVA DE SUICIDIO                9.0       9.0        9.0   \n",
              "87849  TS                                   9.0       9.0        9.0   \n",
              "87850  TS                                   2.0       2.0        2.0   \n",
              "\n",
              "       AG_CORTE  AG_QUENTE  AG_ENVEN  AG_FOGO  AG_AMEACA  AG_OUTROS  \\\n",
              "0           2.0        2.0       1.0      2.0        2.0        2.0   \n",
              "1           2.0        2.0       1.0      2.0        2.0        2.0   \n",
              "2           2.0        2.0       2.0      2.0        2.0        1.0   \n",
              "3           1.0        2.0       2.0      2.0        2.0        2.0   \n",
              "4           2.0        2.0       1.0      2.0        2.0        2.0   \n",
              "...         ...        ...       ...      ...        ...        ...   \n",
              "87846       2.0        2.0       2.0      2.0        2.0        2.0   \n",
              "87847       2.0        2.0       1.0      2.0        2.0        2.0   \n",
              "87848       9.0        9.0       9.0      9.0        9.0        1.0   \n",
              "87849       9.0        9.0       9.0      9.0        9.0        1.0   \n",
              "87850       2.0        2.0       2.0      2.0        2.0        1.0   \n",
              "\n",
              "                             AG_ESPEC  NUM_ENVOLV  AUTOR_ALCO  ORIENT_SEX  \\\n",
              "0                                             9.0         9.0         NaN   \n",
              "1                                             1.0         2.0         NaN   \n",
              "2      MEDICAMENTOSA                          1.0         2.0         NaN   \n",
              "3                                             1.0         2.0         NaN   \n",
              "4                                             1.0         2.0         NaN   \n",
              "...                               ...         ...         ...         ...   \n",
              "87846                                         1.0         9.0         1.0   \n",
              "87847                                         1.0         2.0         1.0   \n",
              "87848  TS                                     9.0         9.0         9.0   \n",
              "87849  INTOXICACAO                            9.0         9.0         9.0   \n",
              "87850  INTOXICACAO EXOGENA                    1.0         2.0         1.0   \n",
              "\n",
              "       VIOL_MOTIV  REDE_SAU  IDADE  MONTH  DAY  YEAR   WEEK_DAY  SEASON  \\\n",
              "0             NaN       NaN   16.0      5   24  2009     Sunday  autumn   \n",
              "1             NaN       NaN   20.0     12   10  2009   Thursday  spring   \n",
              "2             NaN       NaN   34.0     12   10  2009   Thursday  spring   \n",
              "3             NaN       NaN   66.0     12   10  2009   Thursday  spring   \n",
              "4             NaN       NaN   30.0     12   30  2009  Wednesday  summer   \n",
              "...           ...       ...    ...    ...  ...   ...        ...     ...   \n",
              "87846         9.0       1.0   20.0      8   17  2021    Tuesday  winter   \n",
              "87847         6.0       1.0   21.0      8   17  2021    Tuesday  winter   \n",
              "87848         9.0       9.0   22.0      8   18  2021  Wednesday  winter   \n",
              "87849         9.0       1.0   29.0      8   18  2021  Wednesday  winter   \n",
              "87850         8.0       1.0   36.0      8   18  2021  Wednesday  winter   \n",
              "\n",
              "       WEEKEND  \n",
              "0            1  \n",
              "1            0  \n",
              "2            0  \n",
              "3            0  \n",
              "4            0  \n",
              "...        ...  \n",
              "87846        0  \n",
              "87847        0  \n",
              "87848        0  \n",
              "87849        0  \n",
              "87850        0  \n",
              "\n",
              "[87851 rows x 52 columns]"
            ],
            "text/html": [
              "\n",
              "  <div id=\"df-baa35d27-5be3-4526-b61d-eb233ae32f55\">\n",
              "    <div class=\"colab-df-container\">\n",
              "      <div>\n",
              "<style scoped>\n",
              "    .dataframe tbody tr th:only-of-type {\n",
              "        vertical-align: middle;\n",
              "    }\n",
              "\n",
              "    .dataframe tbody tr th {\n",
              "        vertical-align: top;\n",
              "    }\n",
              "\n",
              "    .dataframe thead th {\n",
              "        text-align: right;\n",
              "    }\n",
              "</style>\n",
              "<table border=\"1\" class=\"dataframe\">\n",
              "  <thead>\n",
              "    <tr style=\"text-align: right;\">\n",
              "      <th></th>\n",
              "      <th>TP_NOT</th>\n",
              "      <th>DT_NOTIFIC</th>\n",
              "      <th>SEM_NOT</th>\n",
              "      <th>NU_ANO</th>\n",
              "      <th>SG_UF_NOT</th>\n",
              "      <th>ID_MUNICIP</th>\n",
              "      <th>ID_UNIDADE</th>\n",
              "      <th>DT_OCOR</th>\n",
              "      <th>DT_NASC</th>\n",
              "      <th>NU_IDADE_N</th>\n",
              "      <th>CS_SEXO</th>\n",
              "      <th>CS_GESTANT</th>\n",
              "      <th>CS_RACA</th>\n",
              "      <th>CS_ESCOL_N</th>\n",
              "      <th>ID_MN_RESI</th>\n",
              "      <th>SIT_CONJUG</th>\n",
              "      <th>DEF_TRANS</th>\n",
              "      <th>DEF_FISICA</th>\n",
              "      <th>DEF_MENTAL</th>\n",
              "      <th>DEF_VISUAL</th>\n",
              "      <th>DEF_AUDITI</th>\n",
              "      <th>TRAN_MENT</th>\n",
              "      <th>TRAN_COMP</th>\n",
              "      <th>DEF_OUT</th>\n",
              "      <th>ID_MN_OCOR</th>\n",
              "      <th>LOCAL_OCOR</th>\n",
              "      <th>OUT_VEZES</th>\n",
              "      <th>LES_AUTOP</th>\n",
              "      <th>VIOL_OUTR</th>\n",
              "      <th>VIOL_ESPEC</th>\n",
              "      <th>AG_FORCA</th>\n",
              "      <th>AG_ENFOR</th>\n",
              "      <th>AG_OBJETO</th>\n",
              "      <th>AG_CORTE</th>\n",
              "      <th>AG_QUENTE</th>\n",
              "      <th>AG_ENVEN</th>\n",
              "      <th>AG_FOGO</th>\n",
              "      <th>AG_AMEACA</th>\n",
              "      <th>AG_OUTROS</th>\n",
              "      <th>AG_ESPEC</th>\n",
              "      <th>NUM_ENVOLV</th>\n",
              "      <th>AUTOR_ALCO</th>\n",
              "      <th>ORIENT_SEX</th>\n",
              "      <th>VIOL_MOTIV</th>\n",
              "      <th>REDE_SAU</th>\n",
              "      <th>IDADE</th>\n",
              "      <th>MONTH</th>\n",
              "      <th>DAY</th>\n",
              "      <th>YEAR</th>\n",
              "      <th>WEEK_DAY</th>\n",
              "      <th>SEASON</th>\n",
              "      <th>WEEKEND</th>\n",
              "    </tr>\n",
              "  </thead>\n",
              "  <tbody>\n",
              "    <tr>\n",
              "      <th>0</th>\n",
              "      <td>2</td>\n",
              "      <td>2009-05-24</td>\n",
              "      <td>NaN</td>\n",
              "      <td>2009.0</td>\n",
              "      <td>41</td>\n",
              "      <td>410420</td>\n",
              "      <td>13854.0</td>\n",
              "      <td>2009-05-24</td>\n",
              "      <td>1992-08-20</td>\n",
              "      <td>4016.0</td>\n",
              "      <td>F</td>\n",
              "      <td>5</td>\n",
              "      <td>1.0</td>\n",
              "      <td>4.0</td>\n",
              "      <td>410420.0</td>\n",
              "      <td>9.0</td>\n",
              "      <td>9.0</td>\n",
              "      <td>8.0</td>\n",
              "      <td>8.0</td>\n",
              "      <td>8.0</td>\n",
              "      <td>8.0</td>\n",
              "      <td>8.0</td>\n",
              "      <td>8.0</td>\n",
              "      <td>8.0</td>\n",
              "      <td>410420.0</td>\n",
              "      <td>1.0</td>\n",
              "      <td>9.0</td>\n",
              "      <td>1</td>\n",
              "      <td>1.0</td>\n",
              "      <td>TENT.SUICIDIO</td>\n",
              "      <td>2.0</td>\n",
              "      <td>2.0</td>\n",
              "      <td>2.0</td>\n",
              "      <td>2.0</td>\n",
              "      <td>2.0</td>\n",
              "      <td>1.0</td>\n",
              "      <td>2.0</td>\n",
              "      <td>2.0</td>\n",
              "      <td>2.0</td>\n",
              "      <td></td>\n",
              "      <td>9.0</td>\n",
              "      <td>9.0</td>\n",
              "      <td>NaN</td>\n",
              "      <td>NaN</td>\n",
              "      <td>NaN</td>\n",
              "      <td>16.0</td>\n",
              "      <td>5</td>\n",
              "      <td>24</td>\n",
              "      <td>2009</td>\n",
              "      <td>Sunday</td>\n",
              "      <td>autumn</td>\n",
              "      <td>1</td>\n",
              "    </tr>\n",
              "    <tr>\n",
              "      <th>1</th>\n",
              "      <td>2</td>\n",
              "      <td>2009-12-10</td>\n",
              "      <td>NaN</td>\n",
              "      <td>2009.0</td>\n",
              "      <td>41</td>\n",
              "      <td>412770</td>\n",
              "      <td>2809532.0</td>\n",
              "      <td>2009-12-10</td>\n",
              "      <td>1989-03-07</td>\n",
              "      <td>4020.0</td>\n",
              "      <td>M</td>\n",
              "      <td>6</td>\n",
              "      <td>1.0</td>\n",
              "      <td>6.0</td>\n",
              "      <td>412770.0</td>\n",
              "      <td>1.0</td>\n",
              "      <td>2.0</td>\n",
              "      <td>8.0</td>\n",
              "      <td>8.0</td>\n",
              "      <td>8.0</td>\n",
              "      <td>8.0</td>\n",
              "      <td>8.0</td>\n",
              "      <td>8.0</td>\n",
              "      <td>8.0</td>\n",
              "      <td>412770.0</td>\n",
              "      <td>1.0</td>\n",
              "      <td>2.0</td>\n",
              "      <td>1</td>\n",
              "      <td>1.0</td>\n",
              "      <td>TENTATIVA DE SUICIDIO</td>\n",
              "      <td>2.0</td>\n",
              "      <td>2.0</td>\n",
              "      <td>2.0</td>\n",
              "      <td>2.0</td>\n",
              "      <td>2.0</td>\n",
              "      <td>1.0</td>\n",
              "      <td>2.0</td>\n",
              "      <td>2.0</td>\n",
              "      <td>2.0</td>\n",
              "      <td></td>\n",
              "      <td>1.0</td>\n",
              "      <td>2.0</td>\n",
              "      <td>NaN</td>\n",
              "      <td>NaN</td>\n",
              "      <td>NaN</td>\n",
              "      <td>20.0</td>\n",
              "      <td>12</td>\n",
              "      <td>10</td>\n",
              "      <td>2009</td>\n",
              "      <td>Thursday</td>\n",
              "      <td>spring</td>\n",
              "      <td>0</td>\n",
              "    </tr>\n",
              "    <tr>\n",
              "      <th>2</th>\n",
              "      <td>2</td>\n",
              "      <td>2009-12-10</td>\n",
              "      <td>NaN</td>\n",
              "      <td>2009.0</td>\n",
              "      <td>41</td>\n",
              "      <td>412770</td>\n",
              "      <td>4056752.0</td>\n",
              "      <td>2009-12-10</td>\n",
              "      <td>1975-11-30</td>\n",
              "      <td>4034.0</td>\n",
              "      <td>F</td>\n",
              "      <td>5</td>\n",
              "      <td>1.0</td>\n",
              "      <td>6.0</td>\n",
              "      <td>412770.0</td>\n",
              "      <td>2.0</td>\n",
              "      <td>2.0</td>\n",
              "      <td>8.0</td>\n",
              "      <td>8.0</td>\n",
              "      <td>8.0</td>\n",
              "      <td>8.0</td>\n",
              "      <td>8.0</td>\n",
              "      <td>8.0</td>\n",
              "      <td>8.0</td>\n",
              "      <td>412770.0</td>\n",
              "      <td>1.0</td>\n",
              "      <td>9.0</td>\n",
              "      <td>1</td>\n",
              "      <td>1.0</td>\n",
              "      <td>TENTATIVA DE SUICIDIO</td>\n",
              "      <td>2.0</td>\n",
              "      <td>2.0</td>\n",
              "      <td>2.0</td>\n",
              "      <td>2.0</td>\n",
              "      <td>2.0</td>\n",
              "      <td>2.0</td>\n",
              "      <td>2.0</td>\n",
              "      <td>2.0</td>\n",
              "      <td>1.0</td>\n",
              "      <td>MEDICAMENTOSA</td>\n",
              "      <td>1.0</td>\n",
              "      <td>2.0</td>\n",
              "      <td>NaN</td>\n",
              "      <td>NaN</td>\n",
              "      <td>NaN</td>\n",
              "      <td>34.0</td>\n",
              "      <td>12</td>\n",
              "      <td>10</td>\n",
              "      <td>2009</td>\n",
              "      <td>Thursday</td>\n",
              "      <td>spring</td>\n",
              "      <td>0</td>\n",
              "    </tr>\n",
              "    <tr>\n",
              "      <th>3</th>\n",
              "      <td>2</td>\n",
              "      <td>2009-12-10</td>\n",
              "      <td>NaN</td>\n",
              "      <td>2009.0</td>\n",
              "      <td>41</td>\n",
              "      <td>412770</td>\n",
              "      <td>4056752.0</td>\n",
              "      <td>2009-12-10</td>\n",
              "      <td>1943-09-19</td>\n",
              "      <td>4066.0</td>\n",
              "      <td>M</td>\n",
              "      <td>6</td>\n",
              "      <td>1.0</td>\n",
              "      <td>4.0</td>\n",
              "      <td>412770.0</td>\n",
              "      <td>2.0</td>\n",
              "      <td>2.0</td>\n",
              "      <td>8.0</td>\n",
              "      <td>8.0</td>\n",
              "      <td>8.0</td>\n",
              "      <td>8.0</td>\n",
              "      <td>8.0</td>\n",
              "      <td>8.0</td>\n",
              "      <td>8.0</td>\n",
              "      <td>412770.0</td>\n",
              "      <td>1.0</td>\n",
              "      <td>2.0</td>\n",
              "      <td>1</td>\n",
              "      <td>1.0</td>\n",
              "      <td>TENTATIVA DE SUICIDIO</td>\n",
              "      <td>2.0</td>\n",
              "      <td>2.0</td>\n",
              "      <td>2.0</td>\n",
              "      <td>1.0</td>\n",
              "      <td>2.0</td>\n",
              "      <td>2.0</td>\n",
              "      <td>2.0</td>\n",
              "      <td>2.0</td>\n",
              "      <td>2.0</td>\n",
              "      <td></td>\n",
              "      <td>1.0</td>\n",
              "      <td>2.0</td>\n",
              "      <td>NaN</td>\n",
              "      <td>NaN</td>\n",
              "      <td>NaN</td>\n",
              "      <td>66.0</td>\n",
              "      <td>12</td>\n",
              "      <td>10</td>\n",
              "      <td>2009</td>\n",
              "      <td>Thursday</td>\n",
              "      <td>spring</td>\n",
              "      <td>0</td>\n",
              "    </tr>\n",
              "    <tr>\n",
              "      <th>4</th>\n",
              "      <td>2</td>\n",
              "      <td>2009-12-30</td>\n",
              "      <td>NaN</td>\n",
              "      <td>2009.0</td>\n",
              "      <td>41</td>\n",
              "      <td>412770</td>\n",
              "      <td>4056752.0</td>\n",
              "      <td>2009-12-30</td>\n",
              "      <td>1979-03-12</td>\n",
              "      <td>4030.0</td>\n",
              "      <td>F</td>\n",
              "      <td>5</td>\n",
              "      <td>1.0</td>\n",
              "      <td>4.0</td>\n",
              "      <td>412770.0</td>\n",
              "      <td>2.0</td>\n",
              "      <td>2.0</td>\n",
              "      <td>8.0</td>\n",
              "      <td>8.0</td>\n",
              "      <td>8.0</td>\n",
              "      <td>8.0</td>\n",
              "      <td>8.0</td>\n",
              "      <td>8.0</td>\n",
              "      <td>8.0</td>\n",
              "      <td>412770.0</td>\n",
              "      <td>1.0</td>\n",
              "      <td>2.0</td>\n",
              "      <td>1</td>\n",
              "      <td>1.0</td>\n",
              "      <td>TENTATIVA DE SUICIDIO</td>\n",
              "      <td>2.0</td>\n",
              "      <td>2.0</td>\n",
              "      <td>2.0</td>\n",
              "      <td>2.0</td>\n",
              "      <td>2.0</td>\n",
              "      <td>1.0</td>\n",
              "      <td>2.0</td>\n",
              "      <td>2.0</td>\n",
              "      <td>2.0</td>\n",
              "      <td></td>\n",
              "      <td>1.0</td>\n",
              "      <td>2.0</td>\n",
              "      <td>NaN</td>\n",
              "      <td>NaN</td>\n",
              "      <td>NaN</td>\n",
              "      <td>30.0</td>\n",
              "      <td>12</td>\n",
              "      <td>30</td>\n",
              "      <td>2009</td>\n",
              "      <td>Wednesday</td>\n",
              "      <td>summer</td>\n",
              "      <td>0</td>\n",
              "    </tr>\n",
              "    <tr>\n",
              "      <th>...</th>\n",
              "      <td>...</td>\n",
              "      <td>...</td>\n",
              "      <td>...</td>\n",
              "      <td>...</td>\n",
              "      <td>...</td>\n",
              "      <td>...</td>\n",
              "      <td>...</td>\n",
              "      <td>...</td>\n",
              "      <td>...</td>\n",
              "      <td>...</td>\n",
              "      <td>...</td>\n",
              "      <td>...</td>\n",
              "      <td>...</td>\n",
              "      <td>...</td>\n",
              "      <td>...</td>\n",
              "      <td>...</td>\n",
              "      <td>...</td>\n",
              "      <td>...</td>\n",
              "      <td>...</td>\n",
              "      <td>...</td>\n",
              "      <td>...</td>\n",
              "      <td>...</td>\n",
              "      <td>...</td>\n",
              "      <td>...</td>\n",
              "      <td>...</td>\n",
              "      <td>...</td>\n",
              "      <td>...</td>\n",
              "      <td>...</td>\n",
              "      <td>...</td>\n",
              "      <td>...</td>\n",
              "      <td>...</td>\n",
              "      <td>...</td>\n",
              "      <td>...</td>\n",
              "      <td>...</td>\n",
              "      <td>...</td>\n",
              "      <td>...</td>\n",
              "      <td>...</td>\n",
              "      <td>...</td>\n",
              "      <td>...</td>\n",
              "      <td>...</td>\n",
              "      <td>...</td>\n",
              "      <td>...</td>\n",
              "      <td>...</td>\n",
              "      <td>...</td>\n",
              "      <td>...</td>\n",
              "      <td>...</td>\n",
              "      <td>...</td>\n",
              "      <td>...</td>\n",
              "      <td>...</td>\n",
              "      <td>...</td>\n",
              "      <td>...</td>\n",
              "      <td>...</td>\n",
              "    </tr>\n",
              "    <tr>\n",
              "      <th>87846</th>\n",
              "      <td>2</td>\n",
              "      <td>2021-08-17</td>\n",
              "      <td>202133.0</td>\n",
              "      <td>2021.0</td>\n",
              "      <td>43</td>\n",
              "      <td>430390</td>\n",
              "      <td>2230461.0</td>\n",
              "      <td>2021-08-01</td>\n",
              "      <td>NaN</td>\n",
              "      <td>4020.0</td>\n",
              "      <td>F</td>\n",
              "      <td>5</td>\n",
              "      <td>1.0</td>\n",
              "      <td>9.0</td>\n",
              "      <td>430390.0</td>\n",
              "      <td>1.0</td>\n",
              "      <td>2.0</td>\n",
              "      <td>8.0</td>\n",
              "      <td>8.0</td>\n",
              "      <td>8.0</td>\n",
              "      <td>8.0</td>\n",
              "      <td>8.0</td>\n",
              "      <td>8.0</td>\n",
              "      <td>8.0</td>\n",
              "      <td>430390.0</td>\n",
              "      <td>1.0</td>\n",
              "      <td>1.0</td>\n",
              "      <td>1</td>\n",
              "      <td>1.0</td>\n",
              "      <td>TS</td>\n",
              "      <td>2.0</td>\n",
              "      <td>1.0</td>\n",
              "      <td>2.0</td>\n",
              "      <td>2.0</td>\n",
              "      <td>2.0</td>\n",
              "      <td>2.0</td>\n",
              "      <td>2.0</td>\n",
              "      <td>2.0</td>\n",
              "      <td>2.0</td>\n",
              "      <td></td>\n",
              "      <td>1.0</td>\n",
              "      <td>9.0</td>\n",
              "      <td>1.0</td>\n",
              "      <td>9.0</td>\n",
              "      <td>1.0</td>\n",
              "      <td>20.0</td>\n",
              "      <td>8</td>\n",
              "      <td>17</td>\n",
              "      <td>2021</td>\n",
              "      <td>Tuesday</td>\n",
              "      <td>winter</td>\n",
              "      <td>0</td>\n",
              "    </tr>\n",
              "    <tr>\n",
              "      <th>87847</th>\n",
              "      <td>2</td>\n",
              "      <td>2021-08-17</td>\n",
              "      <td>202133.0</td>\n",
              "      <td>2021.0</td>\n",
              "      <td>43</td>\n",
              "      <td>431446</td>\n",
              "      <td>2240572.0</td>\n",
              "      <td>2021-08-12</td>\n",
              "      <td>2000-07-26</td>\n",
              "      <td>4021.0</td>\n",
              "      <td>F</td>\n",
              "      <td>5</td>\n",
              "      <td>1.0</td>\n",
              "      <td>6.0</td>\n",
              "      <td>431446.0</td>\n",
              "      <td>2.0</td>\n",
              "      <td>2.0</td>\n",
              "      <td>8.0</td>\n",
              "      <td>8.0</td>\n",
              "      <td>8.0</td>\n",
              "      <td>8.0</td>\n",
              "      <td>8.0</td>\n",
              "      <td>8.0</td>\n",
              "      <td>8.0</td>\n",
              "      <td>431446.0</td>\n",
              "      <td>1.0</td>\n",
              "      <td>1.0</td>\n",
              "      <td>1</td>\n",
              "      <td>1.0</td>\n",
              "      <td>TENTATIVA DE SUICIDIO</td>\n",
              "      <td>2.0</td>\n",
              "      <td>2.0</td>\n",
              "      <td>2.0</td>\n",
              "      <td>2.0</td>\n",
              "      <td>2.0</td>\n",
              "      <td>1.0</td>\n",
              "      <td>2.0</td>\n",
              "      <td>2.0</td>\n",
              "      <td>2.0</td>\n",
              "      <td></td>\n",
              "      <td>1.0</td>\n",
              "      <td>2.0</td>\n",
              "      <td>1.0</td>\n",
              "      <td>6.0</td>\n",
              "      <td>1.0</td>\n",
              "      <td>21.0</td>\n",
              "      <td>8</td>\n",
              "      <td>17</td>\n",
              "      <td>2021</td>\n",
              "      <td>Tuesday</td>\n",
              "      <td>winter</td>\n",
              "      <td>0</td>\n",
              "    </tr>\n",
              "    <tr>\n",
              "      <th>87848</th>\n",
              "      <td>2</td>\n",
              "      <td>2021-08-18</td>\n",
              "      <td>202133.0</td>\n",
              "      <td>2021.0</td>\n",
              "      <td>43</td>\n",
              "      <td>431560</td>\n",
              "      <td>2232995.0</td>\n",
              "      <td>2021-08-17</td>\n",
              "      <td>1998-09-23</td>\n",
              "      <td>4022.0</td>\n",
              "      <td>M</td>\n",
              "      <td>6</td>\n",
              "      <td>9.0</td>\n",
              "      <td>9.0</td>\n",
              "      <td>431560.0</td>\n",
              "      <td>9.0</td>\n",
              "      <td>9.0</td>\n",
              "      <td>8.0</td>\n",
              "      <td>8.0</td>\n",
              "      <td>8.0</td>\n",
              "      <td>8.0</td>\n",
              "      <td>8.0</td>\n",
              "      <td>8.0</td>\n",
              "      <td>8.0</td>\n",
              "      <td>431560.0</td>\n",
              "      <td>1.0</td>\n",
              "      <td>9.0</td>\n",
              "      <td>1</td>\n",
              "      <td>1.0</td>\n",
              "      <td>TENTATIVA DE SUICIDIO</td>\n",
              "      <td>9.0</td>\n",
              "      <td>9.0</td>\n",
              "      <td>9.0</td>\n",
              "      <td>9.0</td>\n",
              "      <td>9.0</td>\n",
              "      <td>9.0</td>\n",
              "      <td>9.0</td>\n",
              "      <td>9.0</td>\n",
              "      <td>1.0</td>\n",
              "      <td>TS</td>\n",
              "      <td>9.0</td>\n",
              "      <td>9.0</td>\n",
              "      <td>9.0</td>\n",
              "      <td>9.0</td>\n",
              "      <td>9.0</td>\n",
              "      <td>22.0</td>\n",
              "      <td>8</td>\n",
              "      <td>18</td>\n",
              "      <td>2021</td>\n",
              "      <td>Wednesday</td>\n",
              "      <td>winter</td>\n",
              "      <td>0</td>\n",
              "    </tr>\n",
              "    <tr>\n",
              "      <th>87849</th>\n",
              "      <td>2</td>\n",
              "      <td>2021-08-18</td>\n",
              "      <td>202133.0</td>\n",
              "      <td>2021.0</td>\n",
              "      <td>43</td>\n",
              "      <td>431560</td>\n",
              "      <td>2232995.0</td>\n",
              "      <td>2021-08-16</td>\n",
              "      <td>1991-09-29</td>\n",
              "      <td>4029.0</td>\n",
              "      <td>F</td>\n",
              "      <td>5</td>\n",
              "      <td>9.0</td>\n",
              "      <td>9.0</td>\n",
              "      <td>431560.0</td>\n",
              "      <td>9.0</td>\n",
              "      <td>9.0</td>\n",
              "      <td>8.0</td>\n",
              "      <td>8.0</td>\n",
              "      <td>8.0</td>\n",
              "      <td>8.0</td>\n",
              "      <td>8.0</td>\n",
              "      <td>8.0</td>\n",
              "      <td>8.0</td>\n",
              "      <td>431850.0</td>\n",
              "      <td>99.0</td>\n",
              "      <td>9.0</td>\n",
              "      <td>1</td>\n",
              "      <td>1.0</td>\n",
              "      <td>TS</td>\n",
              "      <td>9.0</td>\n",
              "      <td>9.0</td>\n",
              "      <td>9.0</td>\n",
              "      <td>9.0</td>\n",
              "      <td>9.0</td>\n",
              "      <td>9.0</td>\n",
              "      <td>9.0</td>\n",
              "      <td>9.0</td>\n",
              "      <td>1.0</td>\n",
              "      <td>INTOXICACAO</td>\n",
              "      <td>9.0</td>\n",
              "      <td>9.0</td>\n",
              "      <td>9.0</td>\n",
              "      <td>9.0</td>\n",
              "      <td>1.0</td>\n",
              "      <td>29.0</td>\n",
              "      <td>8</td>\n",
              "      <td>18</td>\n",
              "      <td>2021</td>\n",
              "      <td>Wednesday</td>\n",
              "      <td>winter</td>\n",
              "      <td>0</td>\n",
              "    </tr>\n",
              "    <tr>\n",
              "      <th>87850</th>\n",
              "      <td>2</td>\n",
              "      <td>2021-08-18</td>\n",
              "      <td>202133.0</td>\n",
              "      <td>2021.0</td>\n",
              "      <td>43</td>\n",
              "      <td>430060</td>\n",
              "      <td>2232081.0</td>\n",
              "      <td>2021-08-16</td>\n",
              "      <td>1984-08-31</td>\n",
              "      <td>4036.0</td>\n",
              "      <td>F</td>\n",
              "      <td>5</td>\n",
              "      <td>1.0</td>\n",
              "      <td>6.0</td>\n",
              "      <td>430060.0</td>\n",
              "      <td>2.0</td>\n",
              "      <td>2.0</td>\n",
              "      <td>8.0</td>\n",
              "      <td>8.0</td>\n",
              "      <td>8.0</td>\n",
              "      <td>8.0</td>\n",
              "      <td>8.0</td>\n",
              "      <td>8.0</td>\n",
              "      <td>8.0</td>\n",
              "      <td>430060.0</td>\n",
              "      <td>1.0</td>\n",
              "      <td>2.0</td>\n",
              "      <td>1</td>\n",
              "      <td>1.0</td>\n",
              "      <td>TS</td>\n",
              "      <td>2.0</td>\n",
              "      <td>2.0</td>\n",
              "      <td>2.0</td>\n",
              "      <td>2.0</td>\n",
              "      <td>2.0</td>\n",
              "      <td>2.0</td>\n",
              "      <td>2.0</td>\n",
              "      <td>2.0</td>\n",
              "      <td>1.0</td>\n",
              "      <td>INTOXICACAO EXOGENA</td>\n",
              "      <td>1.0</td>\n",
              "      <td>2.0</td>\n",
              "      <td>1.0</td>\n",
              "      <td>8.0</td>\n",
              "      <td>1.0</td>\n",
              "      <td>36.0</td>\n",
              "      <td>8</td>\n",
              "      <td>18</td>\n",
              "      <td>2021</td>\n",
              "      <td>Wednesday</td>\n",
              "      <td>winter</td>\n",
              "      <td>0</td>\n",
              "    </tr>\n",
              "  </tbody>\n",
              "</table>\n",
              "<p>87851 rows × 52 columns</p>\n",
              "</div>\n",
              "      <button class=\"colab-df-convert\" onclick=\"convertToInteractive('df-baa35d27-5be3-4526-b61d-eb233ae32f55')\"\n",
              "              title=\"Convert this dataframe to an interactive table.\"\n",
              "              style=\"display:none;\">\n",
              "        \n",
              "  <svg xmlns=\"http://www.w3.org/2000/svg\" height=\"24px\"viewBox=\"0 0 24 24\"\n",
              "       width=\"24px\">\n",
              "    <path d=\"M0 0h24v24H0V0z\" fill=\"none\"/>\n",
              "    <path d=\"M18.56 5.44l.94 2.06.94-2.06 2.06-.94-2.06-.94-.94-2.06-.94 2.06-2.06.94zm-11 1L8.5 8.5l.94-2.06 2.06-.94-2.06-.94L8.5 2.5l-.94 2.06-2.06.94zm10 10l.94 2.06.94-2.06 2.06-.94-2.06-.94-.94-2.06-.94 2.06-2.06.94z\"/><path d=\"M17.41 7.96l-1.37-1.37c-.4-.4-.92-.59-1.43-.59-.52 0-1.04.2-1.43.59L10.3 9.45l-7.72 7.72c-.78.78-.78 2.05 0 2.83L4 21.41c.39.39.9.59 1.41.59.51 0 1.02-.2 1.41-.59l7.78-7.78 2.81-2.81c.8-.78.8-2.07 0-2.86zM5.41 20L4 18.59l7.72-7.72 1.47 1.35L5.41 20z\"/>\n",
              "  </svg>\n",
              "      </button>\n",
              "      \n",
              "  <style>\n",
              "    .colab-df-container {\n",
              "      display:flex;\n",
              "      flex-wrap:wrap;\n",
              "      gap: 12px;\n",
              "    }\n",
              "\n",
              "    .colab-df-convert {\n",
              "      background-color: #E8F0FE;\n",
              "      border: none;\n",
              "      border-radius: 50%;\n",
              "      cursor: pointer;\n",
              "      display: none;\n",
              "      fill: #1967D2;\n",
              "      height: 32px;\n",
              "      padding: 0 0 0 0;\n",
              "      width: 32px;\n",
              "    }\n",
              "\n",
              "    .colab-df-convert:hover {\n",
              "      background-color: #E2EBFA;\n",
              "      box-shadow: 0px 1px 2px rgba(60, 64, 67, 0.3), 0px 1px 3px 1px rgba(60, 64, 67, 0.15);\n",
              "      fill: #174EA6;\n",
              "    }\n",
              "\n",
              "    [theme=dark] .colab-df-convert {\n",
              "      background-color: #3B4455;\n",
              "      fill: #D2E3FC;\n",
              "    }\n",
              "\n",
              "    [theme=dark] .colab-df-convert:hover {\n",
              "      background-color: #434B5C;\n",
              "      box-shadow: 0px 1px 3px 1px rgba(0, 0, 0, 0.15);\n",
              "      filter: drop-shadow(0px 1px 2px rgba(0, 0, 0, 0.3));\n",
              "      fill: #FFFFFF;\n",
              "    }\n",
              "  </style>\n",
              "\n",
              "      <script>\n",
              "        const buttonEl =\n",
              "          document.querySelector('#df-baa35d27-5be3-4526-b61d-eb233ae32f55 button.colab-df-convert');\n",
              "        buttonEl.style.display =\n",
              "          google.colab.kernel.accessAllowed ? 'block' : 'none';\n",
              "\n",
              "        async function convertToInteractive(key) {\n",
              "          const element = document.querySelector('#df-baa35d27-5be3-4526-b61d-eb233ae32f55');\n",
              "          const dataTable =\n",
              "            await google.colab.kernel.invokeFunction('convertToInteractive',\n",
              "                                                     [key], {});\n",
              "          if (!dataTable) return;\n",
              "\n",
              "          const docLinkHtml = 'Like what you see? Visit the ' +\n",
              "            '<a target=\"_blank\" href=https://colab.research.google.com/notebooks/data_table.ipynb>data table notebook</a>'\n",
              "            + ' to learn more about interactive tables.';\n",
              "          element.innerHTML = '';\n",
              "          dataTable['output_type'] = 'display_data';\n",
              "          await google.colab.output.renderOutput(dataTable, element);\n",
              "          const docLink = document.createElement('div');\n",
              "          docLink.innerHTML = docLinkHtml;\n",
              "          element.appendChild(docLink);\n",
              "        }\n",
              "      </script>\n",
              "    </div>\n",
              "  </div>\n",
              "  "
            ]
          },
          "metadata": {},
          "execution_count": 86
        }
      ],
      "source": [
        "sul = pd.read_csv('SUL_2021.csv')\n",
        "sul"
      ],
      "id": "fbf3353d"
    },
    {
      "cell_type": "code",
      "source": [
        "sul.info()"
      ],
      "metadata": {
        "colab": {
          "base_uri": "https://localhost:8080/"
        },
        "id": "KCKkvelH2h-U",
        "outputId": "4350c85b-6672-4bf9-ce57-413d6360d656"
      },
      "id": "KCKkvelH2h-U",
      "execution_count": 87,
      "outputs": [
        {
          "output_type": "stream",
          "name": "stdout",
          "text": [
            "<class 'pandas.core.frame.DataFrame'>\n",
            "RangeIndex: 87851 entries, 0 to 87850\n",
            "Data columns (total 52 columns):\n",
            " #   Column      Non-Null Count  Dtype  \n",
            "---  ------      --------------  -----  \n",
            " 0   TP_NOT      87851 non-null  int64  \n",
            " 1   DT_NOTIFIC  87851 non-null  object \n",
            " 2   SEM_NOT     81611 non-null  float64\n",
            " 3   NU_ANO      87851 non-null  float64\n",
            " 4   SG_UF_NOT   87851 non-null  int64  \n",
            " 5   ID_MUNICIP  87851 non-null  int64  \n",
            " 6   ID_UNIDADE  87823 non-null  float64\n",
            " 7   DT_OCOR     87850 non-null  object \n",
            " 8   DT_NASC     87031 non-null  object \n",
            " 9   NU_IDADE_N  87851 non-null  float64\n",
            " 10  CS_SEXO     87851 non-null  object \n",
            " 11  CS_GESTANT  87851 non-null  int64  \n",
            " 12  CS_RACA     87698 non-null  float64\n",
            " 13  CS_ESCOL_N  84041 non-null  float64\n",
            " 14  ID_MN_RESI  87841 non-null  float64\n",
            " 15  SIT_CONJUG  86998 non-null  float64\n",
            " 16  DEF_TRANS   87672 non-null  float64\n",
            " 17  DEF_FISICA  87438 non-null  float64\n",
            " 18  DEF_MENTAL  87485 non-null  float64\n",
            " 19  DEF_VISUAL  87469 non-null  float64\n",
            " 20  DEF_AUDITI  87433 non-null  float64\n",
            " 21  TRAN_MENT   87559 non-null  float64\n",
            " 22  TRAN_COMP   87510 non-null  float64\n",
            " 23  DEF_OUT     87356 non-null  float64\n",
            " 24  ID_MN_OCOR  87522 non-null  float64\n",
            " 25  LOCAL_OCOR  87812 non-null  float64\n",
            " 26  OUT_VEZES   87668 non-null  float64\n",
            " 27  LES_AUTOP   87851 non-null  int64  \n",
            " 28  VIOL_OUTR   87851 non-null  float64\n",
            " 29  VIOL_ESPEC  87851 non-null  object \n",
            " 30  AG_FORCA    87449 non-null  float64\n",
            " 31  AG_ENFOR    87497 non-null  float64\n",
            " 32  AG_OBJETO   87420 non-null  float64\n",
            " 33  AG_CORTE    87472 non-null  float64\n",
            " 34  AG_QUENTE   87466 non-null  float64\n",
            " 35  AG_ENVEN    87623 non-null  float64\n",
            " 36  AG_FOGO     87455 non-null  float64\n",
            " 37  AG_AMEACA   87443 non-null  float64\n",
            " 38  AG_OUTROS   87212 non-null  float64\n",
            " 39  AG_ESPEC    87851 non-null  object \n",
            " 40  NUM_ENVOLV  87281 non-null  float64\n",
            " 41  AUTOR_ALCO  87468 non-null  float64\n",
            " 42  ORIENT_SEX  79544 non-null  float64\n",
            " 43  VIOL_MOTIV  79544 non-null  float64\n",
            " 44  REDE_SAU    79495 non-null  float64\n",
            " 45  IDADE       87851 non-null  float64\n",
            " 46  MONTH       87851 non-null  int64  \n",
            " 47  DAY         87851 non-null  int64  \n",
            " 48  YEAR        87851 non-null  int64  \n",
            " 49  WEEK_DAY    87851 non-null  object \n",
            " 50  SEASON      87851 non-null  object \n",
            " 51  WEEKEND     87851 non-null  int64  \n",
            "dtypes: float64(35), int64(9), object(8)\n",
            "memory usage: 34.9+ MB\n"
          ]
        }
      ]
    },
    {
      "cell_type": "code",
      "execution_count": 88,
      "metadata": {
        "id": "8c0d9ddb",
        "outputId": "dfb3aef8-2501-4892-9651-d8f8bce2943a",
        "colab": {
          "base_uri": "https://localhost:8080/",
          "height": 364
        }
      },
      "outputs": [
        {
          "output_type": "execute_result",
          "data": {
            "text/plain": [
              "        TP_NOT        SEM_NOT        NU_ANO     SG_UF_NOT     ID_MUNICIP  \\\n",
              "count  87851.0   81611.000000  87851.000000  87851.000000   87851.000000   \n",
              "mean       2.0  201846.731433   2017.971418     42.018270  421288.200795   \n",
              "std        0.0    2109.786447      2.404656      0.865987    8745.593561   \n",
              "min        2.0    1602.000000   2009.000000     41.000000  410030.000000   \n",
              "25%        2.0  201745.000000   2017.000000     41.000000  411520.000000   \n",
              "50%        2.0  201913.000000   2019.000000     42.000000  420820.000000   \n",
              "75%        2.0  202013.000000   2020.000000     43.000000  431180.000000   \n",
              "max        2.0  202138.000000   2021.000000     43.000000  432380.000000   \n",
              "\n",
              "         ID_UNIDADE    NU_IDADE_N    CS_GESTANT       CS_RACA    CS_ESCOL_N  \\\n",
              "count  8.782300e+04  87851.000000  87851.000000  87698.000000  84041.000000   \n",
              "mean   3.611039e+06   4030.999966      5.573460      1.646583      5.687986   \n",
              "std    2.240454e+06     14.203965      1.091712      1.664090      2.456292   \n",
              "min    3.000000e+02   4010.000000      1.000000      1.000000      0.000000   \n",
              "25%    2.252244e+06   4019.000000      5.000000      1.000000      4.000000   \n",
              "50%    2.639548e+06   4028.000000      5.000000      1.000000      6.000000   \n",
              "75%    5.323436e+06   4040.000000      6.000000      1.000000      9.000000   \n",
              "max    9.995919e+06   4102.000000      9.000000      9.000000     10.000000   \n",
              "\n",
              "          ID_MN_RESI    SIT_CONJUG     DEF_TRANS    DEF_FISICA    DEF_MENTAL  \\\n",
              "count   87841.000000  86998.000000  87672.000000  87438.000000  87485.000000   \n",
              "mean   421213.200544      2.640302      2.594477      5.810117      5.803269   \n",
              "std      9388.324587      2.677811      2.598481      2.895250      2.911563   \n",
              "min    120040.000000      1.000000      1.000000      1.000000      1.000000   \n",
              "25%    411520.000000      1.000000      1.000000      2.000000      2.000000   \n",
              "50%    420820.000000      2.000000      2.000000      8.000000      8.000000   \n",
              "75%    431020.000000      2.000000      2.000000      8.000000      8.000000   \n",
              "max    530010.000000      9.000000      9.000000      9.000000      9.000000   \n",
              "\n",
              "         DEF_VISUAL    DEF_AUDITI     TRAN_MENT     TRAN_COMP       DEF_OUT  \\\n",
              "count  87469.000000  87433.000000  87559.000000  87510.000000  87356.000000   \n",
              "mean       5.812939      5.815516      5.593143      5.704491      5.809309   \n",
              "std        2.892894      2.891285      3.211501      3.070038      2.933521   \n",
              "min        1.000000      1.000000      1.000000      1.000000      1.000000   \n",
              "25%        2.000000      2.000000      2.000000      2.000000      2.000000   \n",
              "50%        8.000000      8.000000      8.000000      8.000000      8.000000   \n",
              "75%        8.000000      8.000000      8.000000      8.000000      8.000000   \n",
              "max        9.000000      9.000000      9.000000      9.000000      9.000000   \n",
              "\n",
              "          ID_MN_OCOR    LOCAL_OCOR     OUT_VEZES  LES_AUTOP  VIOL_OUTR  \\\n",
              "count   87522.000000  87812.000000  87668.000000    87851.0    87851.0   \n",
              "mean   421253.075798      3.888603      2.918408        1.0        1.0   \n",
              "std      8875.991741     15.371933      2.960070        0.0        0.0   \n",
              "min    150080.000000      1.000000      1.000000        1.0        1.0   \n",
              "25%    411520.000000      1.000000      1.000000        1.0        1.0   \n",
              "50%    420820.000000      1.000000      2.000000        1.0        1.0   \n",
              "75%    431020.000000      1.000000      2.000000        1.0        1.0   \n",
              "max    510760.000000     99.000000      9.000000        1.0        1.0   \n",
              "\n",
              "           AG_FORCA      AG_ENFOR     AG_OBJETO      AG_CORTE     AG_QUENTE  \\\n",
              "count  87449.000000  87497.000000  87420.000000  87472.000000  87466.000000   \n",
              "mean       2.017965      1.944992      2.019984      1.926102      2.021037   \n",
              "std        0.409955      0.502306      0.432630      0.530083      0.435666   \n",
              "min        1.000000      1.000000      1.000000      1.000000      1.000000   \n",
              "25%        2.000000      2.000000      2.000000      2.000000      2.000000   \n",
              "50%        2.000000      2.000000      2.000000      2.000000      2.000000   \n",
              "75%        2.000000      2.000000      2.000000      2.000000      2.000000   \n",
              "max        9.000000      9.000000      9.000000      9.000000      9.000000   \n",
              "\n",
              "           AG_ENVEN       AG_FOGO     AG_AMEACA     AG_OUTROS    NUM_ENVOLV  \\\n",
              "count  87623.000000  87455.000000  87443.000000  87212.000000  87281.000000   \n",
              "mean       1.334364      2.018718      2.018275      1.858747      1.047891   \n",
              "std        0.632140      0.426611      0.392818      0.623752      0.594620   \n",
              "min        1.000000      1.000000      1.000000      1.000000      1.000000   \n",
              "25%        1.000000      2.000000      2.000000      2.000000      1.000000   \n",
              "50%        1.000000      2.000000      2.000000      2.000000      1.000000   \n",
              "75%        2.000000      2.000000      2.000000      2.000000      1.000000   \n",
              "max        9.000000      9.000000      9.000000      9.000000      9.000000   \n",
              "\n",
              "         AUTOR_ALCO    ORIENT_SEX    VIOL_MOTIV      REDE_SAU         IDADE  \\\n",
              "count  87468.000000  79544.000000  79544.000000  79495.000000  87851.000000   \n",
              "mean       3.414757      3.434389     48.316328      1.293981     30.999966   \n",
              "std        2.997523      3.579713     42.828322      1.051207     14.203965   \n",
              "min        1.000000      1.000000      1.000000      1.000000     10.000000   \n",
              "25%        2.000000      1.000000      9.000000      1.000000     19.000000   \n",
              "50%        2.000000      1.000000      9.000000      1.000000     28.000000   \n",
              "75%        2.000000      8.000000     99.000000      1.000000     40.000000   \n",
              "max        9.000000      9.000000     99.000000      9.000000    102.000000   \n",
              "\n",
              "              MONTH           DAY          YEAR       WEEKEND  \n",
              "count  87851.000000  87851.000000  87851.000000  87851.000000  \n",
              "mean       6.484684     15.812023   2017.971418      0.191153  \n",
              "std        3.495202      8.791119      2.404656      0.393212  \n",
              "min        1.000000      1.000000   2009.000000      0.000000  \n",
              "25%        3.000000      8.000000   2017.000000      0.000000  \n",
              "50%        7.000000     16.000000   2019.000000      0.000000  \n",
              "75%       10.000000     23.000000   2020.000000      0.000000  \n",
              "max       12.000000     31.000000   2021.000000      1.000000  "
            ],
            "text/html": [
              "\n",
              "  <div id=\"df-829d0c41-6b5a-4bda-a22c-326cfe989eb4\">\n",
              "    <div class=\"colab-df-container\">\n",
              "      <div>\n",
              "<style scoped>\n",
              "    .dataframe tbody tr th:only-of-type {\n",
              "        vertical-align: middle;\n",
              "    }\n",
              "\n",
              "    .dataframe tbody tr th {\n",
              "        vertical-align: top;\n",
              "    }\n",
              "\n",
              "    .dataframe thead th {\n",
              "        text-align: right;\n",
              "    }\n",
              "</style>\n",
              "<table border=\"1\" class=\"dataframe\">\n",
              "  <thead>\n",
              "    <tr style=\"text-align: right;\">\n",
              "      <th></th>\n",
              "      <th>TP_NOT</th>\n",
              "      <th>SEM_NOT</th>\n",
              "      <th>NU_ANO</th>\n",
              "      <th>SG_UF_NOT</th>\n",
              "      <th>ID_MUNICIP</th>\n",
              "      <th>ID_UNIDADE</th>\n",
              "      <th>NU_IDADE_N</th>\n",
              "      <th>CS_GESTANT</th>\n",
              "      <th>CS_RACA</th>\n",
              "      <th>CS_ESCOL_N</th>\n",
              "      <th>ID_MN_RESI</th>\n",
              "      <th>SIT_CONJUG</th>\n",
              "      <th>DEF_TRANS</th>\n",
              "      <th>DEF_FISICA</th>\n",
              "      <th>DEF_MENTAL</th>\n",
              "      <th>DEF_VISUAL</th>\n",
              "      <th>DEF_AUDITI</th>\n",
              "      <th>TRAN_MENT</th>\n",
              "      <th>TRAN_COMP</th>\n",
              "      <th>DEF_OUT</th>\n",
              "      <th>ID_MN_OCOR</th>\n",
              "      <th>LOCAL_OCOR</th>\n",
              "      <th>OUT_VEZES</th>\n",
              "      <th>LES_AUTOP</th>\n",
              "      <th>VIOL_OUTR</th>\n",
              "      <th>AG_FORCA</th>\n",
              "      <th>AG_ENFOR</th>\n",
              "      <th>AG_OBJETO</th>\n",
              "      <th>AG_CORTE</th>\n",
              "      <th>AG_QUENTE</th>\n",
              "      <th>AG_ENVEN</th>\n",
              "      <th>AG_FOGO</th>\n",
              "      <th>AG_AMEACA</th>\n",
              "      <th>AG_OUTROS</th>\n",
              "      <th>NUM_ENVOLV</th>\n",
              "      <th>AUTOR_ALCO</th>\n",
              "      <th>ORIENT_SEX</th>\n",
              "      <th>VIOL_MOTIV</th>\n",
              "      <th>REDE_SAU</th>\n",
              "      <th>IDADE</th>\n",
              "      <th>MONTH</th>\n",
              "      <th>DAY</th>\n",
              "      <th>YEAR</th>\n",
              "      <th>WEEKEND</th>\n",
              "    </tr>\n",
              "  </thead>\n",
              "  <tbody>\n",
              "    <tr>\n",
              "      <th>count</th>\n",
              "      <td>87851.0</td>\n",
              "      <td>81611.000000</td>\n",
              "      <td>87851.000000</td>\n",
              "      <td>87851.000000</td>\n",
              "      <td>87851.000000</td>\n",
              "      <td>8.782300e+04</td>\n",
              "      <td>87851.000000</td>\n",
              "      <td>87851.000000</td>\n",
              "      <td>87698.000000</td>\n",
              "      <td>84041.000000</td>\n",
              "      <td>87841.000000</td>\n",
              "      <td>86998.000000</td>\n",
              "      <td>87672.000000</td>\n",
              "      <td>87438.000000</td>\n",
              "      <td>87485.000000</td>\n",
              "      <td>87469.000000</td>\n",
              "      <td>87433.000000</td>\n",
              "      <td>87559.000000</td>\n",
              "      <td>87510.000000</td>\n",
              "      <td>87356.000000</td>\n",
              "      <td>87522.000000</td>\n",
              "      <td>87812.000000</td>\n",
              "      <td>87668.000000</td>\n",
              "      <td>87851.0</td>\n",
              "      <td>87851.0</td>\n",
              "      <td>87449.000000</td>\n",
              "      <td>87497.000000</td>\n",
              "      <td>87420.000000</td>\n",
              "      <td>87472.000000</td>\n",
              "      <td>87466.000000</td>\n",
              "      <td>87623.000000</td>\n",
              "      <td>87455.000000</td>\n",
              "      <td>87443.000000</td>\n",
              "      <td>87212.000000</td>\n",
              "      <td>87281.000000</td>\n",
              "      <td>87468.000000</td>\n",
              "      <td>79544.000000</td>\n",
              "      <td>79544.000000</td>\n",
              "      <td>79495.000000</td>\n",
              "      <td>87851.000000</td>\n",
              "      <td>87851.000000</td>\n",
              "      <td>87851.000000</td>\n",
              "      <td>87851.000000</td>\n",
              "      <td>87851.000000</td>\n",
              "    </tr>\n",
              "    <tr>\n",
              "      <th>mean</th>\n",
              "      <td>2.0</td>\n",
              "      <td>201846.731433</td>\n",
              "      <td>2017.971418</td>\n",
              "      <td>42.018270</td>\n",
              "      <td>421288.200795</td>\n",
              "      <td>3.611039e+06</td>\n",
              "      <td>4030.999966</td>\n",
              "      <td>5.573460</td>\n",
              "      <td>1.646583</td>\n",
              "      <td>5.687986</td>\n",
              "      <td>421213.200544</td>\n",
              "      <td>2.640302</td>\n",
              "      <td>2.594477</td>\n",
              "      <td>5.810117</td>\n",
              "      <td>5.803269</td>\n",
              "      <td>5.812939</td>\n",
              "      <td>5.815516</td>\n",
              "      <td>5.593143</td>\n",
              "      <td>5.704491</td>\n",
              "      <td>5.809309</td>\n",
              "      <td>421253.075798</td>\n",
              "      <td>3.888603</td>\n",
              "      <td>2.918408</td>\n",
              "      <td>1.0</td>\n",
              "      <td>1.0</td>\n",
              "      <td>2.017965</td>\n",
              "      <td>1.944992</td>\n",
              "      <td>2.019984</td>\n",
              "      <td>1.926102</td>\n",
              "      <td>2.021037</td>\n",
              "      <td>1.334364</td>\n",
              "      <td>2.018718</td>\n",
              "      <td>2.018275</td>\n",
              "      <td>1.858747</td>\n",
              "      <td>1.047891</td>\n",
              "      <td>3.414757</td>\n",
              "      <td>3.434389</td>\n",
              "      <td>48.316328</td>\n",
              "      <td>1.293981</td>\n",
              "      <td>30.999966</td>\n",
              "      <td>6.484684</td>\n",
              "      <td>15.812023</td>\n",
              "      <td>2017.971418</td>\n",
              "      <td>0.191153</td>\n",
              "    </tr>\n",
              "    <tr>\n",
              "      <th>std</th>\n",
              "      <td>0.0</td>\n",
              "      <td>2109.786447</td>\n",
              "      <td>2.404656</td>\n",
              "      <td>0.865987</td>\n",
              "      <td>8745.593561</td>\n",
              "      <td>2.240454e+06</td>\n",
              "      <td>14.203965</td>\n",
              "      <td>1.091712</td>\n",
              "      <td>1.664090</td>\n",
              "      <td>2.456292</td>\n",
              "      <td>9388.324587</td>\n",
              "      <td>2.677811</td>\n",
              "      <td>2.598481</td>\n",
              "      <td>2.895250</td>\n",
              "      <td>2.911563</td>\n",
              "      <td>2.892894</td>\n",
              "      <td>2.891285</td>\n",
              "      <td>3.211501</td>\n",
              "      <td>3.070038</td>\n",
              "      <td>2.933521</td>\n",
              "      <td>8875.991741</td>\n",
              "      <td>15.371933</td>\n",
              "      <td>2.960070</td>\n",
              "      <td>0.0</td>\n",
              "      <td>0.0</td>\n",
              "      <td>0.409955</td>\n",
              "      <td>0.502306</td>\n",
              "      <td>0.432630</td>\n",
              "      <td>0.530083</td>\n",
              "      <td>0.435666</td>\n",
              "      <td>0.632140</td>\n",
              "      <td>0.426611</td>\n",
              "      <td>0.392818</td>\n",
              "      <td>0.623752</td>\n",
              "      <td>0.594620</td>\n",
              "      <td>2.997523</td>\n",
              "      <td>3.579713</td>\n",
              "      <td>42.828322</td>\n",
              "      <td>1.051207</td>\n",
              "      <td>14.203965</td>\n",
              "      <td>3.495202</td>\n",
              "      <td>8.791119</td>\n",
              "      <td>2.404656</td>\n",
              "      <td>0.393212</td>\n",
              "    </tr>\n",
              "    <tr>\n",
              "      <th>min</th>\n",
              "      <td>2.0</td>\n",
              "      <td>1602.000000</td>\n",
              "      <td>2009.000000</td>\n",
              "      <td>41.000000</td>\n",
              "      <td>410030.000000</td>\n",
              "      <td>3.000000e+02</td>\n",
              "      <td>4010.000000</td>\n",
              "      <td>1.000000</td>\n",
              "      <td>1.000000</td>\n",
              "      <td>0.000000</td>\n",
              "      <td>120040.000000</td>\n",
              "      <td>1.000000</td>\n",
              "      <td>1.000000</td>\n",
              "      <td>1.000000</td>\n",
              "      <td>1.000000</td>\n",
              "      <td>1.000000</td>\n",
              "      <td>1.000000</td>\n",
              "      <td>1.000000</td>\n",
              "      <td>1.000000</td>\n",
              "      <td>1.000000</td>\n",
              "      <td>150080.000000</td>\n",
              "      <td>1.000000</td>\n",
              "      <td>1.000000</td>\n",
              "      <td>1.0</td>\n",
              "      <td>1.0</td>\n",
              "      <td>1.000000</td>\n",
              "      <td>1.000000</td>\n",
              "      <td>1.000000</td>\n",
              "      <td>1.000000</td>\n",
              "      <td>1.000000</td>\n",
              "      <td>1.000000</td>\n",
              "      <td>1.000000</td>\n",
              "      <td>1.000000</td>\n",
              "      <td>1.000000</td>\n",
              "      <td>1.000000</td>\n",
              "      <td>1.000000</td>\n",
              "      <td>1.000000</td>\n",
              "      <td>1.000000</td>\n",
              "      <td>1.000000</td>\n",
              "      <td>10.000000</td>\n",
              "      <td>1.000000</td>\n",
              "      <td>1.000000</td>\n",
              "      <td>2009.000000</td>\n",
              "      <td>0.000000</td>\n",
              "    </tr>\n",
              "    <tr>\n",
              "      <th>25%</th>\n",
              "      <td>2.0</td>\n",
              "      <td>201745.000000</td>\n",
              "      <td>2017.000000</td>\n",
              "      <td>41.000000</td>\n",
              "      <td>411520.000000</td>\n",
              "      <td>2.252244e+06</td>\n",
              "      <td>4019.000000</td>\n",
              "      <td>5.000000</td>\n",
              "      <td>1.000000</td>\n",
              "      <td>4.000000</td>\n",
              "      <td>411520.000000</td>\n",
              "      <td>1.000000</td>\n",
              "      <td>1.000000</td>\n",
              "      <td>2.000000</td>\n",
              "      <td>2.000000</td>\n",
              "      <td>2.000000</td>\n",
              "      <td>2.000000</td>\n",
              "      <td>2.000000</td>\n",
              "      <td>2.000000</td>\n",
              "      <td>2.000000</td>\n",
              "      <td>411520.000000</td>\n",
              "      <td>1.000000</td>\n",
              "      <td>1.000000</td>\n",
              "      <td>1.0</td>\n",
              "      <td>1.0</td>\n",
              "      <td>2.000000</td>\n",
              "      <td>2.000000</td>\n",
              "      <td>2.000000</td>\n",
              "      <td>2.000000</td>\n",
              "      <td>2.000000</td>\n",
              "      <td>1.000000</td>\n",
              "      <td>2.000000</td>\n",
              "      <td>2.000000</td>\n",
              "      <td>2.000000</td>\n",
              "      <td>1.000000</td>\n",
              "      <td>2.000000</td>\n",
              "      <td>1.000000</td>\n",
              "      <td>9.000000</td>\n",
              "      <td>1.000000</td>\n",
              "      <td>19.000000</td>\n",
              "      <td>3.000000</td>\n",
              "      <td>8.000000</td>\n",
              "      <td>2017.000000</td>\n",
              "      <td>0.000000</td>\n",
              "    </tr>\n",
              "    <tr>\n",
              "      <th>50%</th>\n",
              "      <td>2.0</td>\n",
              "      <td>201913.000000</td>\n",
              "      <td>2019.000000</td>\n",
              "      <td>42.000000</td>\n",
              "      <td>420820.000000</td>\n",
              "      <td>2.639548e+06</td>\n",
              "      <td>4028.000000</td>\n",
              "      <td>5.000000</td>\n",
              "      <td>1.000000</td>\n",
              "      <td>6.000000</td>\n",
              "      <td>420820.000000</td>\n",
              "      <td>2.000000</td>\n",
              "      <td>2.000000</td>\n",
              "      <td>8.000000</td>\n",
              "      <td>8.000000</td>\n",
              "      <td>8.000000</td>\n",
              "      <td>8.000000</td>\n",
              "      <td>8.000000</td>\n",
              "      <td>8.000000</td>\n",
              "      <td>8.000000</td>\n",
              "      <td>420820.000000</td>\n",
              "      <td>1.000000</td>\n",
              "      <td>2.000000</td>\n",
              "      <td>1.0</td>\n",
              "      <td>1.0</td>\n",
              "      <td>2.000000</td>\n",
              "      <td>2.000000</td>\n",
              "      <td>2.000000</td>\n",
              "      <td>2.000000</td>\n",
              "      <td>2.000000</td>\n",
              "      <td>1.000000</td>\n",
              "      <td>2.000000</td>\n",
              "      <td>2.000000</td>\n",
              "      <td>2.000000</td>\n",
              "      <td>1.000000</td>\n",
              "      <td>2.000000</td>\n",
              "      <td>1.000000</td>\n",
              "      <td>9.000000</td>\n",
              "      <td>1.000000</td>\n",
              "      <td>28.000000</td>\n",
              "      <td>7.000000</td>\n",
              "      <td>16.000000</td>\n",
              "      <td>2019.000000</td>\n",
              "      <td>0.000000</td>\n",
              "    </tr>\n",
              "    <tr>\n",
              "      <th>75%</th>\n",
              "      <td>2.0</td>\n",
              "      <td>202013.000000</td>\n",
              "      <td>2020.000000</td>\n",
              "      <td>43.000000</td>\n",
              "      <td>431180.000000</td>\n",
              "      <td>5.323436e+06</td>\n",
              "      <td>4040.000000</td>\n",
              "      <td>6.000000</td>\n",
              "      <td>1.000000</td>\n",
              "      <td>9.000000</td>\n",
              "      <td>431020.000000</td>\n",
              "      <td>2.000000</td>\n",
              "      <td>2.000000</td>\n",
              "      <td>8.000000</td>\n",
              "      <td>8.000000</td>\n",
              "      <td>8.000000</td>\n",
              "      <td>8.000000</td>\n",
              "      <td>8.000000</td>\n",
              "      <td>8.000000</td>\n",
              "      <td>8.000000</td>\n",
              "      <td>431020.000000</td>\n",
              "      <td>1.000000</td>\n",
              "      <td>2.000000</td>\n",
              "      <td>1.0</td>\n",
              "      <td>1.0</td>\n",
              "      <td>2.000000</td>\n",
              "      <td>2.000000</td>\n",
              "      <td>2.000000</td>\n",
              "      <td>2.000000</td>\n",
              "      <td>2.000000</td>\n",
              "      <td>2.000000</td>\n",
              "      <td>2.000000</td>\n",
              "      <td>2.000000</td>\n",
              "      <td>2.000000</td>\n",
              "      <td>1.000000</td>\n",
              "      <td>2.000000</td>\n",
              "      <td>8.000000</td>\n",
              "      <td>99.000000</td>\n",
              "      <td>1.000000</td>\n",
              "      <td>40.000000</td>\n",
              "      <td>10.000000</td>\n",
              "      <td>23.000000</td>\n",
              "      <td>2020.000000</td>\n",
              "      <td>0.000000</td>\n",
              "    </tr>\n",
              "    <tr>\n",
              "      <th>max</th>\n",
              "      <td>2.0</td>\n",
              "      <td>202138.000000</td>\n",
              "      <td>2021.000000</td>\n",
              "      <td>43.000000</td>\n",
              "      <td>432380.000000</td>\n",
              "      <td>9.995919e+06</td>\n",
              "      <td>4102.000000</td>\n",
              "      <td>9.000000</td>\n",
              "      <td>9.000000</td>\n",
              "      <td>10.000000</td>\n",
              "      <td>530010.000000</td>\n",
              "      <td>9.000000</td>\n",
              "      <td>9.000000</td>\n",
              "      <td>9.000000</td>\n",
              "      <td>9.000000</td>\n",
              "      <td>9.000000</td>\n",
              "      <td>9.000000</td>\n",
              "      <td>9.000000</td>\n",
              "      <td>9.000000</td>\n",
              "      <td>9.000000</td>\n",
              "      <td>510760.000000</td>\n",
              "      <td>99.000000</td>\n",
              "      <td>9.000000</td>\n",
              "      <td>1.0</td>\n",
              "      <td>1.0</td>\n",
              "      <td>9.000000</td>\n",
              "      <td>9.000000</td>\n",
              "      <td>9.000000</td>\n",
              "      <td>9.000000</td>\n",
              "      <td>9.000000</td>\n",
              "      <td>9.000000</td>\n",
              "      <td>9.000000</td>\n",
              "      <td>9.000000</td>\n",
              "      <td>9.000000</td>\n",
              "      <td>9.000000</td>\n",
              "      <td>9.000000</td>\n",
              "      <td>9.000000</td>\n",
              "      <td>99.000000</td>\n",
              "      <td>9.000000</td>\n",
              "      <td>102.000000</td>\n",
              "      <td>12.000000</td>\n",
              "      <td>31.000000</td>\n",
              "      <td>2021.000000</td>\n",
              "      <td>1.000000</td>\n",
              "    </tr>\n",
              "  </tbody>\n",
              "</table>\n",
              "</div>\n",
              "      <button class=\"colab-df-convert\" onclick=\"convertToInteractive('df-829d0c41-6b5a-4bda-a22c-326cfe989eb4')\"\n",
              "              title=\"Convert this dataframe to an interactive table.\"\n",
              "              style=\"display:none;\">\n",
              "        \n",
              "  <svg xmlns=\"http://www.w3.org/2000/svg\" height=\"24px\"viewBox=\"0 0 24 24\"\n",
              "       width=\"24px\">\n",
              "    <path d=\"M0 0h24v24H0V0z\" fill=\"none\"/>\n",
              "    <path d=\"M18.56 5.44l.94 2.06.94-2.06 2.06-.94-2.06-.94-.94-2.06-.94 2.06-2.06.94zm-11 1L8.5 8.5l.94-2.06 2.06-.94-2.06-.94L8.5 2.5l-.94 2.06-2.06.94zm10 10l.94 2.06.94-2.06 2.06-.94-2.06-.94-.94-2.06-.94 2.06-2.06.94z\"/><path d=\"M17.41 7.96l-1.37-1.37c-.4-.4-.92-.59-1.43-.59-.52 0-1.04.2-1.43.59L10.3 9.45l-7.72 7.72c-.78.78-.78 2.05 0 2.83L4 21.41c.39.39.9.59 1.41.59.51 0 1.02-.2 1.41-.59l7.78-7.78 2.81-2.81c.8-.78.8-2.07 0-2.86zM5.41 20L4 18.59l7.72-7.72 1.47 1.35L5.41 20z\"/>\n",
              "  </svg>\n",
              "      </button>\n",
              "      \n",
              "  <style>\n",
              "    .colab-df-container {\n",
              "      display:flex;\n",
              "      flex-wrap:wrap;\n",
              "      gap: 12px;\n",
              "    }\n",
              "\n",
              "    .colab-df-convert {\n",
              "      background-color: #E8F0FE;\n",
              "      border: none;\n",
              "      border-radius: 50%;\n",
              "      cursor: pointer;\n",
              "      display: none;\n",
              "      fill: #1967D2;\n",
              "      height: 32px;\n",
              "      padding: 0 0 0 0;\n",
              "      width: 32px;\n",
              "    }\n",
              "\n",
              "    .colab-df-convert:hover {\n",
              "      background-color: #E2EBFA;\n",
              "      box-shadow: 0px 1px 2px rgba(60, 64, 67, 0.3), 0px 1px 3px 1px rgba(60, 64, 67, 0.15);\n",
              "      fill: #174EA6;\n",
              "    }\n",
              "\n",
              "    [theme=dark] .colab-df-convert {\n",
              "      background-color: #3B4455;\n",
              "      fill: #D2E3FC;\n",
              "    }\n",
              "\n",
              "    [theme=dark] .colab-df-convert:hover {\n",
              "      background-color: #434B5C;\n",
              "      box-shadow: 0px 1px 3px 1px rgba(0, 0, 0, 0.15);\n",
              "      filter: drop-shadow(0px 1px 2px rgba(0, 0, 0, 0.3));\n",
              "      fill: #FFFFFF;\n",
              "    }\n",
              "  </style>\n",
              "\n",
              "      <script>\n",
              "        const buttonEl =\n",
              "          document.querySelector('#df-829d0c41-6b5a-4bda-a22c-326cfe989eb4 button.colab-df-convert');\n",
              "        buttonEl.style.display =\n",
              "          google.colab.kernel.accessAllowed ? 'block' : 'none';\n",
              "\n",
              "        async function convertToInteractive(key) {\n",
              "          const element = document.querySelector('#df-829d0c41-6b5a-4bda-a22c-326cfe989eb4');\n",
              "          const dataTable =\n",
              "            await google.colab.kernel.invokeFunction('convertToInteractive',\n",
              "                                                     [key], {});\n",
              "          if (!dataTable) return;\n",
              "\n",
              "          const docLinkHtml = 'Like what you see? Visit the ' +\n",
              "            '<a target=\"_blank\" href=https://colab.research.google.com/notebooks/data_table.ipynb>data table notebook</a>'\n",
              "            + ' to learn more about interactive tables.';\n",
              "          element.innerHTML = '';\n",
              "          dataTable['output_type'] = 'display_data';\n",
              "          await google.colab.output.renderOutput(dataTable, element);\n",
              "          const docLink = document.createElement('div');\n",
              "          docLink.innerHTML = docLinkHtml;\n",
              "          element.appendChild(docLink);\n",
              "        }\n",
              "      </script>\n",
              "    </div>\n",
              "  </div>\n",
              "  "
            ]
          },
          "metadata": {},
          "execution_count": 88
        }
      ],
      "source": [
        "sul.describe()"
      ],
      "id": "8c0d9ddb"
    },
    {
      "cell_type": "markdown",
      "metadata": {
        "id": "1225e083"
      },
      "source": [
        "### Distrubution by state\n",
        "\n",
        "The states of PR and RS have similar distribution, hihger than SC, but this distribution follows the estimated populations of the states.\n",
        "PR - 11.5, SC - 7.2 e RS 11.4 milion inhabitants."
      ],
      "id": "1225e083"
    },
    {
      "cell_type": "code",
      "execution_count": 89,
      "metadata": {
        "id": "f02213a2"
      },
      "outputs": [],
      "source": [
        "# creating the column with the state name to facilitate the visualization\n",
        "\n",
        "condition = [(sul['SG_UF_NOT'] == 41), (sul['SG_UF_NOT'] == 42), (sul['SG_UF_NOT'] == 43)]\n",
        "uf = ['PR', 'SC', 'RS']\n",
        "\n",
        "sul['UF'] = np.select(condition, uf)"
      ],
      "id": "f02213a2"
    },
    {
      "cell_type": "code",
      "execution_count": 90,
      "metadata": {
        "id": "fd13bb20",
        "outputId": "cee9bb0f-918c-481c-dd13-7e4780c98571",
        "colab": {
          "base_uri": "https://localhost:8080/",
          "height": 450
        }
      },
      "outputs": [
        {
          "output_type": "display_data",
          "data": {
            "text/plain": [
              "<Figure size 640x480 with 1 Axes>"
            ],
            "image/png": "[encoded data removed]"
          },
          "metadata": {}
        }
      ],
      "source": [
        "sns.countplot(data= sul, x='UF');"
      ],
      "id": "fd13bb20"
    },
    {
      "cell_type": "code",
      "execution_count": 91,
      "metadata": {
        "id": "f3a3bd3a",
        "outputId": "e7b1e0eb-bea5-4386-f16f-69cd5114d75f",
        "colab": {
          "base_uri": "https://localhost:8080/"
        }
      },
      "outputs": [
        {
          "output_type": "stream",
          "name": "stdout",
          "text": [
            "357.66491462693995 328.16773017319963 337.6977309082292 32153 21940 33758\n"
          ]
        }
      ],
      "source": [
        "rs = len(sul[sul['UF'] == 'RS'])\n",
        "pr = len(sul[sul['UF'] == 'PR'])\n",
        "sc = len(sul[sul['UF'] == 'SC'])\n",
        "\n",
        "PR = 11500000\n",
        "SC = 7200000\n",
        "RS = 11400000\n",
        "\n",
        "txpr = PR/pr\n",
        "txsc = SC/sc\n",
        "txrs = RS/rs\n",
        "\n",
        "print(txpr, txsc, txrs, pr, sc, rs)"
      ],
      "id": "f3a3bd3a"
    },
    {
      "cell_type": "code",
      "execution_count": 92,
      "metadata": {
        "id": "53779fe0",
        "outputId": "b5d8b85d-bcda-483b-a6bd-b8ad6de5a424",
        "colab": {
          "base_uri": "https://localhost:8080/",
          "height": 143
        }
      },
      "outputs": [
        {
          "output_type": "execute_result",
          "data": {
            "text/plain": [
              "   UF       Rate\n",
              "0  PR  25.417391\n",
              "1  SC  27.702020\n",
              "2  RS  26.920255"
            ],
            "text/html": [
              "\n",
              "  <div id=\"df-6f4136a9-d286-449f-ba57-069757068fc5\">\n",
              "    <div class=\"colab-df-container\">\n",
              "      <div>\n",
              "<style scoped>\n",
              "    .dataframe tbody tr th:only-of-type {\n",
              "        vertical-align: middle;\n",
              "    }\n",
              "\n",
              "    .dataframe tbody tr th {\n",
              "        vertical-align: top;\n",
              "    }\n",
              "\n",
              "    .dataframe thead th {\n",
              "        text-align: right;\n",
              "    }\n",
              "</style>\n",
              "<table border=\"1\" class=\"dataframe\">\n",
              "  <thead>\n",
              "    <tr style=\"text-align: right;\">\n",
              "      <th></th>\n",
              "      <th>UF</th>\n",
              "      <th>Rate</th>\n",
              "    </tr>\n",
              "  </thead>\n",
              "  <tbody>\n",
              "    <tr>\n",
              "      <th>0</th>\n",
              "      <td>PR</td>\n",
              "      <td>25.417391</td>\n",
              "    </tr>\n",
              "    <tr>\n",
              "      <th>1</th>\n",
              "      <td>SC</td>\n",
              "      <td>27.702020</td>\n",
              "    </tr>\n",
              "    <tr>\n",
              "      <th>2</th>\n",
              "      <td>RS</td>\n",
              "      <td>26.920255</td>\n",
              "    </tr>\n",
              "  </tbody>\n",
              "</table>\n",
              "</div>\n",
              "      <button class=\"colab-df-convert\" onclick=\"convertToInteractive('df-6f4136a9-d286-449f-ba57-069757068fc5')\"\n",
              "              title=\"Convert this dataframe to an interactive table.\"\n",
              "              style=\"display:none;\">\n",
              "        \n",
              "  <svg xmlns=\"http://www.w3.org/2000/svg\" height=\"24px\"viewBox=\"0 0 24 24\"\n",
              "       width=\"24px\">\n",
              "    <path d=\"M0 0h24v24H0V0z\" fill=\"none\"/>\n",
              "    <path d=\"M18.56 5.44l.94 2.06.94-2.06 2.06-.94-2.06-.94-.94-2.06-.94 2.06-2.06.94zm-11 1L8.5 8.5l.94-2.06 2.06-.94-2.06-.94L8.5 2.5l-.94 2.06-2.06.94zm10 10l.94 2.06.94-2.06 2.06-.94-2.06-.94-.94-2.06-.94 2.06-2.06.94z\"/><path d=\"M17.41 7.96l-1.37-1.37c-.4-.4-.92-.59-1.43-.59-.52 0-1.04.2-1.43.59L10.3 9.45l-7.72 7.72c-.78.78-.78 2.05 0 2.83L4 21.41c.39.39.9.59 1.41.59.51 0 1.02-.2 1.41-.59l7.78-7.78 2.81-2.81c.8-.78.8-2.07 0-2.86zM5.41 20L4 18.59l7.72-7.72 1.47 1.35L5.41 20z\"/>\n",
              "  </svg>\n",
              "      </button>\n",
              "      \n",
              "  <style>\n",
              "    .colab-df-container {\n",
              "      display:flex;\n",
              "      flex-wrap:wrap;\n",
              "      gap: 12px;\n",
              "    }\n",
              "\n",
              "    .colab-df-convert {\n",
              "      background-color: #E8F0FE;\n",
              "      border: none;\n",
              "      border-radius: 50%;\n",
              "      cursor: pointer;\n",
              "      display: none;\n",
              "      fill: #1967D2;\n",
              "      height: 32px;\n",
              "      padding: 0 0 0 0;\n",
              "      width: 32px;\n",
              "    }\n",
              "\n",
              "    .colab-df-convert:hover {\n",
              "      background-color: #E2EBFA;\n",
              "      box-shadow: 0px 1px 2px rgba(60, 64, 67, 0.3), 0px 1px 3px 1px rgba(60, 64, 67, 0.15);\n",
              "      fill: #174EA6;\n",
              "    }\n",
              "\n",
              "    [theme=dark] .colab-df-convert {\n",
              "      background-color: #3B4455;\n",
              "      fill: #D2E3FC;\n",
              "    }\n",
              "\n",
              "    [theme=dark] .colab-df-convert:hover {\n",
              "      background-color: #434B5C;\n",
              "      box-shadow: 0px 1px 3px 1px rgba(0, 0, 0, 0.15);\n",
              "      filter: drop-shadow(0px 1px 2px rgba(0, 0, 0, 0.3));\n",
              "      fill: #FFFFFF;\n",
              "    }\n",
              "  </style>\n",
              "\n",
              "      <script>\n",
              "        const buttonEl =\n",
              "          document.querySelector('#df-6f4136a9-d286-449f-ba57-069757068fc5 button.colab-df-convert');\n",
              "        buttonEl.style.display =\n",
              "          google.colab.kernel.accessAllowed ? 'block' : 'none';\n",
              "\n",
              "        async function convertToInteractive(key) {\n",
              "          const element = document.querySelector('#df-6f4136a9-d286-449f-ba57-069757068fc5');\n",
              "          const dataTable =\n",
              "            await google.colab.kernel.invokeFunction('convertToInteractive',\n",
              "                                                     [key], {});\n",
              "          if (!dataTable) return;\n",
              "\n",
              "          const docLinkHtml = 'Like what you see? Visit the ' +\n",
              "            '<a target=\"_blank\" href=https://colab.research.google.com/notebooks/data_table.ipynb>data table notebook</a>'\n",
              "            + ' to learn more about interactive tables.';\n",
              "          element.innerHTML = '';\n",
              "          dataTable['output_type'] = 'display_data';\n",
              "          await google.colab.output.renderOutput(dataTable, element);\n",
              "          const docLink = document.createElement('div');\n",
              "          docLink.innerHTML = docLinkHtml;\n",
              "          element.appendChild(docLink);\n",
              "        }\n",
              "      </script>\n",
              "    </div>\n",
              "  </div>\n",
              "  "
            ]
          },
          "metadata": {},
          "execution_count": 92
        }
      ],
      "source": [
        "anospr = pr/11\n",
        "anossc = sc/11\n",
        "anosrs = rs/11\n",
        "taxapr = anospr/PR*100000\n",
        "taxasc = anossc/SC*100000\n",
        "taxars = anosrs/RS*100000\n",
        "\n",
        "dict = {'UF':['PR', 'SC', 'RS'], 'Rate':[taxapr, taxasc, taxars]}\n",
        "uf = pd.DataFrame(dict)\n",
        "uf"
      ],
      "id": "53779fe0"
    },
    {
      "cell_type": "markdown",
      "source": [
        "We also used data from 2017 to 2020 to get a more accurate rate, since until 2014 it was not mandatory to report suicide attempts, and according to the stablished law, the reporting could be gradual.\n",
        "We can see the growing in reporting throughout the years, specially in the first ones. 2021 data is not complete."
      ],
      "metadata": {
        "id": "WXZ9dT-CerfL"
      },
      "id": "WXZ9dT-CerfL"
    },
    {
      "cell_type": "code",
      "source": [
        "sns.countplot(data= sul, x= 'YEAR');"
      ],
      "metadata": {
        "id": "R-pnKJ9BMtBc",
        "colab": {
          "base_uri": "https://localhost:8080/",
          "height": 449
        },
        "outputId": "1ef8fcb2-447c-4639-d48b-fdb94686859a"
      },
      "id": "R-pnKJ9BMtBc",
      "execution_count": 93,
      "outputs": [
        {
          "output_type": "display_data",
          "data": {
            "text/plain": [
              "<Figure size 640x480 with 1 Axes>"
            ],
            "image/png": "[encoded data removed]"
          },
          "metadata": {}
        }
      ]
    },
    {
      "cell_type": "code",
      "source": [
        "rate = sul[sul['YEAR'] > 2016]"
      ],
      "metadata": {
        "id": "DxxPuVYLgL0q"
      },
      "id": "DxxPuVYLgL0q",
      "execution_count": 94,
      "outputs": []
    },
    {
      "cell_type": "code",
      "execution_count": 95,
      "metadata": {
        "outputId": "5a380efe-114b-4e89-e227-0909f7152276",
        "colab": {
          "base_uri": "https://localhost:8080/"
        },
        "id": "85zu8nMzgqJD"
      },
      "outputs": [
        {
          "output_type": "stream",
          "name": "stdout",
          "text": [
            "449.9393559998435 433.47381095725467 425.8975604288863 25559 16610 26767\n"
          ]
        }
      ],
      "source": [
        "rs = len(rate[rate['UF'] == 'RS'])\n",
        "pr = len(rate[rate['UF'] == 'PR'])\n",
        "sc = len(rate[rate['UF'] == 'SC'])\n",
        "\n",
        "PR = 11500000\n",
        "SC = 7200000\n",
        "RS = 11400000\n",
        "\n",
        "txpr = PR/pr\n",
        "txsc = SC/sc\n",
        "txrs = RS/rs\n",
        "\n",
        "print(txpr, txsc, txrs, pr, sc, rs)"
      ],
      "id": "85zu8nMzgqJD"
    },
    {
      "cell_type": "markdown",
      "source": [
        "This represent a more accurate measure, however, as the Secretariat of Health mentions, probably only one third of the suicide attempts in Brazil are reported.\n",
        "\n",
        "It is interestingly to observe that attempt rates are similar between the three states, even though deaths rates differ."
      ],
      "metadata": {
        "id": "BzfMLEqilX1B"
      },
      "id": "BzfMLEqilX1B"
    },
    {
      "cell_type": "code",
      "execution_count": 96,
      "metadata": {
        "outputId": "1a2a6b97-fbc8-479a-e2fc-a8fc25ca5830",
        "colab": {
          "base_uri": "https://localhost:8080/",
          "height": 143
        },
        "id": "Jp1Z4zdjgqJO"
      },
      "outputs": [
        {
          "output_type": "execute_result",
          "data": {
            "text/plain": [
              "   UF       Rate\n",
              "0  PR  46.789931\n",
              "1  SC  48.567251\n",
              "2  RS  49.431210"
            ],
            "text/html": [
              "\n",
              "  <div id=\"df-da35c501-a98a-4c4d-a436-4a2b66a66be1\">\n",
              "    <div class=\"colab-df-container\">\n",
              "      <div>\n",
              "<style scoped>\n",
              "    .dataframe tbody tr th:only-of-type {\n",
              "        vertical-align: middle;\n",
              "    }\n",
              "\n",
              "    .dataframe tbody tr th {\n",
              "        vertical-align: top;\n",
              "    }\n",
              "\n",
              "    .dataframe thead th {\n",
              "        text-align: right;\n",
              "    }\n",
              "</style>\n",
              "<table border=\"1\" class=\"dataframe\">\n",
              "  <thead>\n",
              "    <tr style=\"text-align: right;\">\n",
              "      <th></th>\n",
              "      <th>UF</th>\n",
              "      <th>Rate</th>\n",
              "    </tr>\n",
              "  </thead>\n",
              "  <tbody>\n",
              "    <tr>\n",
              "      <th>0</th>\n",
              "      <td>PR</td>\n",
              "      <td>46.789931</td>\n",
              "    </tr>\n",
              "    <tr>\n",
              "      <th>1</th>\n",
              "      <td>SC</td>\n",
              "      <td>48.567251</td>\n",
              "    </tr>\n",
              "    <tr>\n",
              "      <th>2</th>\n",
              "      <td>RS</td>\n",
              "      <td>49.431210</td>\n",
              "    </tr>\n",
              "  </tbody>\n",
              "</table>\n",
              "</div>\n",
              "      <button class=\"colab-df-convert\" onclick=\"convertToInteractive('df-da35c501-a98a-4c4d-a436-4a2b66a66be1')\"\n",
              "              title=\"Convert this dataframe to an interactive table.\"\n",
              "              style=\"display:none;\">\n",
              "        \n",
              "  <svg xmlns=\"http://www.w3.org/2000/svg\" height=\"24px\"viewBox=\"0 0 24 24\"\n",
              "       width=\"24px\">\n",
              "    <path d=\"M0 0h24v24H0V0z\" fill=\"none\"/>\n",
              "    <path d=\"M18.56 5.44l.94 2.06.94-2.06 2.06-.94-2.06-.94-.94-2.06-.94 2.06-2.06.94zm-11 1L8.5 8.5l.94-2.06 2.06-.94-2.06-.94L8.5 2.5l-.94 2.06-2.06.94zm10 10l.94 2.06.94-2.06 2.06-.94-2.06-.94-.94-2.06-.94 2.06-2.06.94z\"/><path d=\"M17.41 7.96l-1.37-1.37c-.4-.4-.92-.59-1.43-.59-.52 0-1.04.2-1.43.59L10.3 9.45l-7.72 7.72c-.78.78-.78 2.05 0 2.83L4 21.41c.39.39.9.59 1.41.59.51 0 1.02-.2 1.41-.59l7.78-7.78 2.81-2.81c.8-.78.8-2.07 0-2.86zM5.41 20L4 18.59l7.72-7.72 1.47 1.35L5.41 20z\"/>\n",
              "  </svg>\n",
              "      </button>\n",
              "      \n",
              "  <style>\n",
              "    .colab-df-container {\n",
              "      display:flex;\n",
              "      flex-wrap:wrap;\n",
              "      gap: 12px;\n",
              "    }\n",
              "\n",
              "    .colab-df-convert {\n",
              "      background-color: #E8F0FE;\n",
              "      border: none;\n",
              "      border-radius: 50%;\n",
              "      cursor: pointer;\n",
              "      display: none;\n",
              "      fill: #1967D2;\n",
              "      height: 32px;\n",
              "      padding: 0 0 0 0;\n",
              "      width: 32px;\n",
              "    }\n",
              "\n",
              "    .colab-df-convert:hover {\n",
              "      background-color: #E2EBFA;\n",
              "      box-shadow: 0px 1px 2px rgba(60, 64, 67, 0.3), 0px 1px 3px 1px rgba(60, 64, 67, 0.15);\n",
              "      fill: #174EA6;\n",
              "    }\n",
              "\n",
              "    [theme=dark] .colab-df-convert {\n",
              "      background-color: #3B4455;\n",
              "      fill: #D2E3FC;\n",
              "    }\n",
              "\n",
              "    [theme=dark] .colab-df-convert:hover {\n",
              "      background-color: #434B5C;\n",
              "      box-shadow: 0px 1px 3px 1px rgba(0, 0, 0, 0.15);\n",
              "      filter: drop-shadow(0px 1px 2px rgba(0, 0, 0, 0.3));\n",
              "      fill: #FFFFFF;\n",
              "    }\n",
              "  </style>\n",
              "\n",
              "      <script>\n",
              "        const buttonEl =\n",
              "          document.querySelector('#df-da35c501-a98a-4c4d-a436-4a2b66a66be1 button.colab-df-convert');\n",
              "        buttonEl.style.display =\n",
              "          google.colab.kernel.accessAllowed ? 'block' : 'none';\n",
              "\n",
              "        async function convertToInteractive(key) {\n",
              "          const element = document.querySelector('#df-da35c501-a98a-4c4d-a436-4a2b66a66be1');\n",
              "          const dataTable =\n",
              "            await google.colab.kernel.invokeFunction('convertToInteractive',\n",
              "                                                     [key], {});\n",
              "          if (!dataTable) return;\n",
              "\n",
              "          const docLinkHtml = 'Like what you see? Visit the ' +\n",
              "            '<a target=\"_blank\" href=https://colab.research.google.com/notebooks/data_table.ipynb>data table notebook</a>'\n",
              "            + ' to learn more about interactive tables.';\n",
              "          element.innerHTML = '';\n",
              "          dataTable['output_type'] = 'display_data';\n",
              "          await google.colab.output.renderOutput(dataTable, element);\n",
              "          const docLink = document.createElement('div');\n",
              "          docLink.innerHTML = docLinkHtml;\n",
              "          element.appendChild(docLink);\n",
              "        }\n",
              "      </script>\n",
              "    </div>\n",
              "  </div>\n",
              "  "
            ]
          },
          "metadata": {},
          "execution_count": 96
        }
      ],
      "source": [
        "anospr = pr/4.75\n",
        "anossc = sc/4.75\n",
        "anosrs = rs/4.75\n",
        "taxapr = anospr/PR*100000\n",
        "taxasc = anossc/SC*100000\n",
        "taxars = anosrs/RS*100000\n",
        "\n",
        "dict = {'UF':['PR', 'SC', 'RS'], 'Rate':[taxapr, taxasc, taxars]}\n",
        "uf = pd.DataFrame(dict)\n",
        "uf"
      ],
      "id": "Jp1Z4zdjgqJO"
    },
    {
      "cell_type": "markdown",
      "metadata": {
        "id": "033bbf2b"
      },
      "source": [
        "### Sex/gender\n",
        "\n",
        "Almost 70% of the attempts were done by females, a complete opposite of the deaths, similar in the states.\n",
        "\n",
        "Almost no women were pregnant, and most people who reported the sexual orientation were heterossexual, however, there were many ignored answers or missing values.\n"
      ],
      "id": "033bbf2b"
    },
    {
      "cell_type": "code",
      "source": [
        "sul.loc[sul['CS_SEXO'] == 'I']"
      ],
      "metadata": {
        "colab": {
          "base_uri": "https://localhost:8080/",
          "height": 162
        },
        "id": "RZiyrMmWYq4R",
        "outputId": "c9ede4e0-35e9-432f-98c3-4374b495ea11"
      },
      "id": "RZiyrMmWYq4R",
      "execution_count": 97,
      "outputs": [
        {
          "output_type": "execute_result",
          "data": {
            "text/plain": [
              "       TP_NOT  DT_NOTIFIC   SEM_NOT  NU_ANO  SG_UF_NOT  ID_MUNICIP  \\\n",
              "87473       2  2021-07-16  202128.0  2021.0         43      431880   \n",
              "\n",
              "       ID_UNIDADE     DT_OCOR     DT_NASC  NU_IDADE_N CS_SEXO  CS_GESTANT  \\\n",
              "87473   2233312.0  2021-03-01  1975-12-08      4045.0       I           9   \n",
              "\n",
              "       CS_RACA  CS_ESCOL_N  ID_MN_RESI  SIT_CONJUG  DEF_TRANS  DEF_FISICA  \\\n",
              "87473      9.0         9.0    431880.0         9.0        9.0         8.0   \n",
              "\n",
              "       DEF_MENTAL  DEF_VISUAL  DEF_AUDITI  TRAN_MENT  TRAN_COMP  DEF_OUT  \\\n",
              "87473         8.0         8.0         8.0        8.0        8.0      8.0   \n",
              "\n",
              "       ID_MN_OCOR  LOCAL_OCOR  OUT_VEZES  LES_AUTOP  VIOL_OUTR  \\\n",
              "87473    431880.0         1.0        9.0          1        1.0   \n",
              "\n",
              "                           VIOL_ESPEC  AG_FORCA  AG_ENFOR  AG_OBJETO  \\\n",
              "87473  TENTATIVA SUICIDIO                   2.0       1.0        2.0   \n",
              "\n",
              "       AG_CORTE  AG_QUENTE  AG_ENVEN  AG_FOGO  AG_AMEACA  AG_OUTROS  \\\n",
              "87473       2.0        2.0       2.0      2.0        2.0        2.0   \n",
              "\n",
              "                             AG_ESPEC  NUM_ENVOLV  AUTOR_ALCO  ORIENT_SEX  \\\n",
              "87473                                         1.0         2.0         9.0   \n",
              "\n",
              "       VIOL_MOTIV  REDE_SAU  IDADE  MONTH  DAY  YEAR WEEK_DAY  SEASON  \\\n",
              "87473        99.0       1.0   45.0      7   16  2021   Friday  winter   \n",
              "\n",
              "       WEEKEND  UF  \n",
              "87473        0  RS  "
            ],
            "text/html": [
              "\n",
              "  <div id=\"df-c4b0f2f5-a805-47be-997e-75641df6e0fc\">\n",
              "    <div class=\"colab-df-container\">\n",
              "      <div>\n",
              "<style scoped>\n",
              "    .dataframe tbody tr th:only-of-type {\n",
              "        vertical-align: middle;\n",
              "    }\n",
              "\n",
              "    .dataframe tbody tr th {\n",
              "        vertical-align: top;\n",
              "    }\n",
              "\n",
              "    .dataframe thead th {\n",
              "        text-align: right;\n",
              "    }\n",
              "</style>\n",
              "<table border=\"1\" class=\"dataframe\">\n",
              "  <thead>\n",
              "    <tr style=\"text-align: right;\">\n",
              "      <th></th>\n",
              "      <th>TP_NOT</th>\n",
              "      <th>DT_NOTIFIC</th>\n",
              "      <th>SEM_NOT</th>\n",
              "      <th>NU_ANO</th>\n",
              "      <th>SG_UF_NOT</th>\n",
              "      <th>ID_MUNICIP</th>\n",
              "      <th>ID_UNIDADE</th>\n",
              "      <th>DT_OCOR</th>\n",
              "      <th>DT_NASC</th>\n",
              "      <th>NU_IDADE_N</th>\n",
              "      <th>CS_SEXO</th>\n",
              "      <th>CS_GESTANT</th>\n",
              "      <th>CS_RACA</th>\n",
              "      <th>CS_ESCOL_N</th>\n",
              "      <th>ID_MN_RESI</th>\n",
              "      <th>SIT_CONJUG</th>\n",
              "      <th>DEF_TRANS</th>\n",
              "      <th>DEF_FISICA</th>\n",
              "      <th>DEF_MENTAL</th>\n",
              "      <th>DEF_VISUAL</th>\n",
              "      <th>DEF_AUDITI</th>\n",
              "      <th>TRAN_MENT</th>\n",
              "      <th>TRAN_COMP</th>\n",
              "      <th>DEF_OUT</th>\n",
              "      <th>ID_MN_OCOR</th>\n",
              "      <th>LOCAL_OCOR</th>\n",
              "      <th>OUT_VEZES</th>\n",
              "      <th>LES_AUTOP</th>\n",
              "      <th>VIOL_OUTR</th>\n",
              "      <th>VIOL_ESPEC</th>\n",
              "      <th>AG_FORCA</th>\n",
              "      <th>AG_ENFOR</th>\n",
              "      <th>AG_OBJETO</th>\n",
              "      <th>AG_CORTE</th>\n",
              "      <th>AG_QUENTE</th>\n",
              "      <th>AG_ENVEN</th>\n",
              "      <th>AG_FOGO</th>\n",
              "      <th>AG_AMEACA</th>\n",
              "      <th>AG_OUTROS</th>\n",
              "      <th>AG_ESPEC</th>\n",
              "      <th>NUM_ENVOLV</th>\n",
              "      <th>AUTOR_ALCO</th>\n",
              "      <th>ORIENT_SEX</th>\n",
              "      <th>VIOL_MOTIV</th>\n",
              "      <th>REDE_SAU</th>\n",
              "      <th>IDADE</th>\n",
              "      <th>MONTH</th>\n",
              "      <th>DAY</th>\n",
              "      <th>YEAR</th>\n",
              "      <th>WEEK_DAY</th>\n",
              "      <th>SEASON</th>\n",
              "      <th>WEEKEND</th>\n",
              "      <th>UF</th>\n",
              "    </tr>\n",
              "  </thead>\n",
              "  <tbody>\n",
              "    <tr>\n",
              "      <th>87473</th>\n",
              "      <td>2</td>\n",
              "      <td>2021-07-16</td>\n",
              "      <td>202128.0</td>\n",
              "      <td>2021.0</td>\n",
              "      <td>43</td>\n",
              "      <td>431880</td>\n",
              "      <td>2233312.0</td>\n",
              "      <td>2021-03-01</td>\n",
              "      <td>1975-12-08</td>\n",
              "      <td>4045.0</td>\n",
              "      <td>I</td>\n",
              "      <td>9</td>\n",
              "      <td>9.0</td>\n",
              "      <td>9.0</td>\n",
              "      <td>431880.0</td>\n",
              "      <td>9.0</td>\n",
              "      <td>9.0</td>\n",
              "      <td>8.0</td>\n",
              "      <td>8.0</td>\n",
              "      <td>8.0</td>\n",
              "      <td>8.0</td>\n",
              "      <td>8.0</td>\n",
              "      <td>8.0</td>\n",
              "      <td>8.0</td>\n",
              "      <td>431880.0</td>\n",
              "      <td>1.0</td>\n",
              "      <td>9.0</td>\n",
              "      <td>1</td>\n",
              "      <td>1.0</td>\n",
              "      <td>TENTATIVA SUICIDIO</td>\n",
              "      <td>2.0</td>\n",
              "      <td>1.0</td>\n",
              "      <td>2.0</td>\n",
              "      <td>2.0</td>\n",
              "      <td>2.0</td>\n",
              "      <td>2.0</td>\n",
              "      <td>2.0</td>\n",
              "      <td>2.0</td>\n",
              "      <td>2.0</td>\n",
              "      <td></td>\n",
              "      <td>1.0</td>\n",
              "      <td>2.0</td>\n",
              "      <td>9.0</td>\n",
              "      <td>99.0</td>\n",
              "      <td>1.0</td>\n",
              "      <td>45.0</td>\n",
              "      <td>7</td>\n",
              "      <td>16</td>\n",
              "      <td>2021</td>\n",
              "      <td>Friday</td>\n",
              "      <td>winter</td>\n",
              "      <td>0</td>\n",
              "      <td>RS</td>\n",
              "    </tr>\n",
              "  </tbody>\n",
              "</table>\n",
              "</div>\n",
              "      <button class=\"colab-df-convert\" onclick=\"convertToInteractive('df-c4b0f2f5-a805-47be-997e-75641df6e0fc')\"\n",
              "              title=\"Convert this dataframe to an interactive table.\"\n",
              "              style=\"display:none;\">\n",
              "        \n",
              "  <svg xmlns=\"http://www.w3.org/2000/svg\" height=\"24px\"viewBox=\"0 0 24 24\"\n",
              "       width=\"24px\">\n",
              "    <path d=\"M0 0h24v24H0V0z\" fill=\"none\"/>\n",
              "    <path d=\"M18.56 5.44l.94 2.06.94-2.06 2.06-.94-2.06-.94-.94-2.06-.94 2.06-2.06.94zm-11 1L8.5 8.5l.94-2.06 2.06-.94-2.06-.94L8.5 2.5l-.94 2.06-2.06.94zm10 10l.94 2.06.94-2.06 2.06-.94-2.06-.94-.94-2.06-.94 2.06-2.06.94z\"/><path d=\"M17.41 7.96l-1.37-1.37c-.4-.4-.92-.59-1.43-.59-.52 0-1.04.2-1.43.59L10.3 9.45l-7.72 7.72c-.78.78-.78 2.05 0 2.83L4 21.41c.39.39.9.59 1.41.59.51 0 1.02-.2 1.41-.59l7.78-7.78 2.81-2.81c.8-.78.8-2.07 0-2.86zM5.41 20L4 18.59l7.72-7.72 1.47 1.35L5.41 20z\"/>\n",
              "  </svg>\n",
              "      </button>\n",
              "      \n",
              "  <style>\n",
              "    .colab-df-container {\n",
              "      display:flex;\n",
              "      flex-wrap:wrap;\n",
              "      gap: 12px;\n",
              "    }\n",
              "\n",
              "    .colab-df-convert {\n",
              "      background-color: #E8F0FE;\n",
              "      border: none;\n",
              "      border-radius: 50%;\n",
              "      cursor: pointer;\n",
              "      display: none;\n",
              "      fill: #1967D2;\n",
              "      height: 32px;\n",
              "      padding: 0 0 0 0;\n",
              "      width: 32px;\n",
              "    }\n",
              "\n",
              "    .colab-df-convert:hover {\n",
              "      background-color: #E2EBFA;\n",
              "      box-shadow: 0px 1px 2px rgba(60, 64, 67, 0.3), 0px 1px 3px 1px rgba(60, 64, 67, 0.15);\n",
              "      fill: #174EA6;\n",
              "    }\n",
              "\n",
              "    [theme=dark] .colab-df-convert {\n",
              "      background-color: #3B4455;\n",
              "      fill: #D2E3FC;\n",
              "    }\n",
              "\n",
              "    [theme=dark] .colab-df-convert:hover {\n",
              "      background-color: #434B5C;\n",
              "      box-shadow: 0px 1px 3px 1px rgba(0, 0, 0, 0.15);\n",
              "      filter: drop-shadow(0px 1px 2px rgba(0, 0, 0, 0.3));\n",
              "      fill: #FFFFFF;\n",
              "    }\n",
              "  </style>\n",
              "\n",
              "      <script>\n",
              "        const buttonEl =\n",
              "          document.querySelector('#df-c4b0f2f5-a805-47be-997e-75641df6e0fc button.colab-df-convert');\n",
              "        buttonEl.style.display =\n",
              "          google.colab.kernel.accessAllowed ? 'block' : 'none';\n",
              "\n",
              "        async function convertToInteractive(key) {\n",
              "          const element = document.querySelector('#df-c4b0f2f5-a805-47be-997e-75641df6e0fc');\n",
              "          const dataTable =\n",
              "            await google.colab.kernel.invokeFunction('convertToInteractive',\n",
              "                                                     [key], {});\n",
              "          if (!dataTable) return;\n",
              "\n",
              "          const docLinkHtml = 'Like what you see? Visit the ' +\n",
              "            '<a target=\"_blank\" href=https://colab.research.google.com/notebooks/data_table.ipynb>data table notebook</a>'\n",
              "            + ' to learn more about interactive tables.';\n",
              "          element.innerHTML = '';\n",
              "          dataTable['output_type'] = 'display_data';\n",
              "          await google.colab.output.renderOutput(dataTable, element);\n",
              "          const docLink = document.createElement('div');\n",
              "          docLink.innerHTML = docLinkHtml;\n",
              "          element.appendChild(docLink);\n",
              "        }\n",
              "      </script>\n",
              "    </div>\n",
              "  </div>\n",
              "  "
            ]
          },
          "metadata": {},
          "execution_count": 97
        }
      ]
    },
    {
      "cell_type": "code",
      "source": [
        "sul = sul.drop(87473, axis= 0)"
      ],
      "metadata": {
        "id": "nccN2khHZOAV"
      },
      "id": "nccN2khHZOAV",
      "execution_count": 98,
      "outputs": []
    },
    {
      "cell_type": "code",
      "execution_count": 99,
      "metadata": {
        "id": "cd90009e",
        "outputId": "09776be4-6172-4625-d216-5e189446d557",
        "colab": {
          "base_uri": "https://localhost:8080/",
          "height": 449
        }
      },
      "outputs": [
        {
          "output_type": "display_data",
          "data": {
            "text/plain": [
              "<Figure size 640x480 with 1 Axes>"
            ],
            "image/png": "[encoded data removed]"
          },
          "metadata": {}
        }
      ],
      "source": [
        "ax = sns.countplot(x= 'CS_SEXO', data= sul)\n",
        "ax.bar_label(ax.containers[0]);"
      ],
      "id": "cd90009e"
    },
    {
      "cell_type": "code",
      "execution_count": 100,
      "metadata": {
        "id": "6befb9ee",
        "outputId": "5fea6f2d-ea63-44ef-eb72-87bf4e3ec1e1",
        "colab": {
          "base_uri": "https://localhost:8080/"
        }
      },
      "outputs": [
        {
          "output_type": "stream",
          "name": "stdout",
          "text": [
            "Percentage of attempts: females 69.48%, males 30.52%. \n",
            "Ratio 2.28 fold more in females\n"
          ]
        }
      ],
      "source": [
        "f = len(sul[sul['CS_SEXO'] == 'F'])\n",
        "m = len(sul[sul['CS_SEXO'] == 'M'])\n",
        "tot = f + m\n",
        "tf = f/tot*100\n",
        "tm = m/tot*100\n",
        "\n",
        "print(f'Percentage of attempts: females {tf:.2f}%, males {tm:.2f}%. \\nRatio {tf/tm:.2f} fold more in females')"
      ],
      "id": "6befb9ee"
    },
    {
      "cell_type": "code",
      "execution_count": 101,
      "metadata": {
        "id": "34ea749f",
        "outputId": "fef7e93c-e7fd-40fb-8671-05871ae1c707",
        "colab": {
          "base_uri": "https://localhost:8080/",
          "height": 343
        }
      },
      "outputs": [
        {
          "output_type": "stream",
          "name": "stderr",
          "text": [
            "/usr/local/lib/python3.10/dist-packages/seaborn/axisgrid.py:712: UserWarning: Using the countplot function without specifying `order` is likely to produce an incorrect plot.\n",
            "  warnings.warn(warning)\n"
          ]
        },
        {
          "output_type": "display_data",
          "data": {
            "text/plain": [
              "<Figure size 900x300 with 3 Axes>"
            ],
            "image/png": "[encoded data removed]"
          },
          "metadata": {}
        }
      ],
      "source": [
        "sexo = sns.FacetGrid(sul, col= 'UF', sharey= False)\n",
        "sexo.map(sns.countplot, 'CS_SEXO');"
      ],
      "id": "34ea749f"
    },
    {
      "cell_type": "code",
      "execution_count": 102,
      "metadata": {
        "id": "383623fc",
        "outputId": "b7b7a07b-edfd-493a-e560-fd45d5309b5f",
        "colab": {
          "base_uri": "https://localhost:8080/",
          "height": 343
        }
      },
      "outputs": [
        {
          "output_type": "stream",
          "name": "stderr",
          "text": [
            "/usr/local/lib/python3.10/dist-packages/seaborn/axisgrid.py:712: UserWarning: Using the countplot function without specifying `order` is likely to produce an incorrect plot.\n",
            "  warnings.warn(warning)\n"
          ]
        },
        {
          "output_type": "display_data",
          "data": {
            "text/plain": [
              "<Figure size 1500x300 with 5 Axes>"
            ],
            "image/png": "[encoded data removed]"
          },
          "metadata": {}
        }
      ],
      "source": [
        "ori = sns.FacetGrid(sul, col= 'ORIENT_SEX', sharey= False)\n",
        "ori.map(sns.countplot, 'CS_SEXO');"
      ],
      "id": "383623fc"
    },
    {
      "cell_type": "markdown",
      "metadata": {
        "id": "04b55294"
      },
      "source": [
        "### Age and race\n",
        "\n",
        "The mean age is 30 years, with a decrease tendency with more age, as observed within the decades. However these are absolute measures.\n",
        "\n",
        "Race/color in attempts is predominantly White. Indigenous have low difference between males and females attempts, whereas others have a female prevalence."
      ],
      "id": "04b55294"
    },
    {
      "cell_type": "code",
      "execution_count": 103,
      "metadata": {
        "id": "1f0cf5b7",
        "outputId": "ecc7a3ae-aff0-4465-df06-9332c6c7dd8c",
        "colab": {
          "base_uri": "https://localhost:8080/"
        }
      },
      "outputs": [
        {
          "output_type": "stream",
          "name": "stdout",
          "text": [
            "Absolute percentage according to the decade: 10-20 - 25.10%,\n",
            "20-30 - 26.55%, \n",
            "30-40 - 19.06%, \n",
            "40-50 - 14.22%, \n",
            "50-60 - 7.70%, \n",
            "60 or more - 7.36%\n"
          ]
        }
      ],
      "source": [
        "l = len(sul[sul['IDADE'].between(10, 20, inclusive='left')])\n",
        "a = len(sul[sul['IDADE'].between(20, 30, inclusive='left')])\n",
        "s = len(sul[sul['IDADE'].between(30, 40, inclusive='left')])\n",
        "d = len(sul[sul['IDADE'].between(40, 50, inclusive='left')])\n",
        "f = len(sul[sul['IDADE'].between(50, 60, inclusive='left')])\n",
        "g = len(sul[sul['IDADE'].between(60, 70, inclusive='left')])\n",
        "h = len(sul[sul['IDADE'].between(70, 80, inclusive='left')])\n",
        "j = len(sul[sul['IDADE'].between(80, 90, inclusive='left')])\n",
        "k = len(sul[sul['IDADE'].between(60, 97)])\n",
        "\n",
        "tot = l+a+s+d+f+g+h+j+k\n",
        "p = l/tot*100\n",
        "q = a/tot*100\n",
        "w = s/tot*100\n",
        "e = d/tot*100\n",
        "r = f/tot*100\n",
        "t = g/tot*100\n",
        "y = h/tot*100\n",
        "u = j/tot*100\n",
        "i = k/tot*100\n",
        "print(f'Absolute percentage according to the decade: 10-20 - {p:.2f}%,\\n20-30 - {q:.2f}%, \\n30-40 - {w:.2f}%, \\n40-50 - {e:.2f}%, \\n50-60 - {r:.2f}%, \\n60 or more - {t+y+u+i:.2f}%')"
      ],
      "id": "1f0cf5b7"
    },
    {
      "cell_type": "code",
      "execution_count": 104,
      "metadata": {
        "id": "3118800a"
      },
      "outputs": [],
      "source": [
        "sul['AGE'] = pd.cut(sul['IDADE'], bins=[10, 19, 29, 39, 49, 59, 69, 79, 89, 109], labels=False)"
      ],
      "id": "3118800a"
    },
    {
      "cell_type": "code",
      "execution_count": 105,
      "metadata": {
        "id": "111ad4f7",
        "outputId": "7aba9779-19b8-45ce-b9f6-dc033dd9fe30",
        "colab": {
          "base_uri": "https://localhost:8080/",
          "height": 449
        }
      },
      "outputs": [
        {
          "output_type": "display_data",
          "data": {
            "text/plain": [
              "<Figure size 640x480 with 1 Axes>"
            ],
            "image/png": "[encoded data removed]"
          },
          "metadata": {}
        }
      ],
      "source": [
        "sns.countplot(x= 'AGE', data = sul);"
      ],
      "id": "111ad4f7"
    },
    {
      "cell_type": "code",
      "execution_count": 106,
      "metadata": {
        "id": "0c8df779",
        "outputId": "a7d710a8-4469-4175-a283-64bf874dcada",
        "colab": {
          "base_uri": "https://localhost:8080/",
          "height": 449
        }
      },
      "outputs": [
        {
          "output_type": "display_data",
          "data": {
            "text/plain": [
              "<Figure size 640x480 with 1 Axes>"
            ],
            "image/png": "[encoded data removed]"
          },
          "metadata": {}
        }
      ],
      "source": [
        "sns.countplot(x= 'CS_RACA', data = sul);"
      ],
      "id": "0c8df779"
    },
    {
      "cell_type": "code",
      "execution_count": 107,
      "metadata": {
        "id": "7feba1b5",
        "outputId": "41520cfb-df96-4b39-dcda-3cac98b200ec",
        "colab": {
          "base_uri": "https://localhost:8080/"
        }
      },
      "outputs": [
        {
          "output_type": "stream",
          "name": "stdout",
          "text": [
            "Absolute percentage of race/color attempters: White 80.95%, \n",
            "Black 4.47%, \n",
            "Asian/Yellow 0.49%, \n",
            "Brown 10.56%, \n",
            "Red/Indigenous 0.19%, \n",
            "Ignored3.35%\n"
          ]
        }
      ],
      "source": [
        "br = len(sul[sul['CS_RACA'] == 1])\n",
        "pt = len(sul[sul['CS_RACA'] == 2])\n",
        "am = len(sul[sul['CS_RACA'] == 3])\n",
        "pa = len(sul[sul['CS_RACA'] == 4])\n",
        "ind = len(sul[sul['CS_RACA'] == 5])\n",
        "ig = len(sul[sul['CS_RACA'] == 9])\n",
        "tot = br+pt+pa+am+ind+ig\n",
        "print(f'Absolute percentage of race/color attempters: White {br*100/tot:.2f}%, \\nBlack {pt*100/tot:.2f}%, \\nAsian/Yellow {am*100/tot:.2f}%, \\nBrown {pa*100/tot:.2f}%, \\nRed/Indigenous {ind*100/tot:.2f}%, \\nIgnored{ig*100/tot:.2f}%')"
      ],
      "id": "7feba1b5"
    },
    {
      "cell_type": "code",
      "execution_count": 108,
      "metadata": {
        "id": "d5a06c50",
        "outputId": "eaa898b2-c005-4730-8f9c-93dd494b3939",
        "colab": {
          "base_uri": "https://localhost:8080/",
          "height": 273
        }
      },
      "outputs": [
        {
          "output_type": "stream",
          "name": "stderr",
          "text": [
            "/usr/local/lib/python3.10/dist-packages/seaborn/axisgrid.py:712: UserWarning: Using the countplot function without specifying `order` is likely to produce an incorrect plot.\n",
            "  warnings.warn(warning)\n"
          ]
        },
        {
          "output_type": "display_data",
          "data": {
            "text/plain": [
              "<Figure size 2100x300 with 7 Axes>"
            ],
            "image/png": "[encoded data removed]"
          },
          "metadata": {}
        }
      ],
      "source": [
        "# 1= 1° trimester, 2= 2° trimester, 3= 3° trimester, 4= ignored pregnancy time, 5= no pregnancy, 6= not applicable, 9= ignored\n",
        "grav = sns.FacetGrid(sul, col= 'CS_GESTANT', sharey= False)\n",
        "grav.map(sns.countplot, 'CS_SEXO');"
      ],
      "id": "d5a06c50"
    },
    {
      "cell_type": "markdown",
      "metadata": {
        "id": "04603474"
      },
      "source": [
        "### Schooling\n",
        "\n",
        "**1= incomplete elementary, 2= complete elementary, 3= incomplete middle, 4= complete middle, 5= incomplete high, 6= complete high school, 7= incomplete higher, 8= complete higher education, 9= ignored, 10= not applicable**\n",
        "\n",
        "Almost 1/4 of the data was missing. Similar to deaths, attempts happen more in the intermediate schooling. This is true for both sex and different states.\n",
        "\n",
        "Souther Brazil has the lowest rate of iliteracy (3.3%) in people older than 15 years old."
      ],
      "id": "04603474"
    },
    {
      "cell_type": "code",
      "execution_count": 109,
      "metadata": {
        "id": "6f9add9d",
        "outputId": "a462c916-1cd7-4e31-e29e-9d2f4766ed4f",
        "colab": {
          "base_uri": "https://localhost:8080/",
          "height": 449
        }
      },
      "outputs": [
        {
          "output_type": "display_data",
          "data": {
            "text/plain": [
              "<Figure size 640x480 with 1 Axes>"
            ],
            "image/png": "[encoded data removed]"
          },
          "metadata": {}
        }
      ],
      "source": [
        "sns.countplot(data= sul, x='CS_ESCOL_N');"
      ],
      "id": "6f9add9d"
    },
    {
      "cell_type": "code",
      "execution_count": 110,
      "metadata": {
        "id": "d9b1e7ef",
        "outputId": "9ec348a2-df3a-4803-df1e-fc47016a4dfe",
        "colab": {
          "base_uri": "https://localhost:8080/"
        }
      },
      "outputs": [
        {
          "output_type": "stream",
          "name": "stdout",
          "text": [
            "Absolute percentage of shooling in attempters: Elementary 7.67%, \n",
            "Middle school 26.02%, \n",
            "High school 33.22%, \n",
            "Higher education 8.06%, \n",
            "Ignored 25.03%\n"
          ]
        }
      ],
      "source": [
        "# Grouping complete and incomplete schooling\n",
        "a = len(sul[sul['CS_ESCOL_N'] < 3])\n",
        "s = len(sul[sul['CS_ESCOL_N'] == 3])\n",
        "d = len(sul[sul['CS_ESCOL_N'] == 4])\n",
        "f = len(sul[sul['CS_ESCOL_N'] == 5])\n",
        "g = len(sul[sul['CS_ESCOL_N'] == 6])\n",
        "h = len(sul[sul['CS_ESCOL_N'] == 7])\n",
        "j = len(sul[sul['CS_ESCOL_N'] == 8])\n",
        "k = len(sul[sul['CS_ESCOL_N'] > 8])\n",
        "tot = a+s+d+f+g+h+j+k\n",
        "pri = a/tot*100\n",
        "fun = (s+d)/tot*100\n",
        "med = (f+g)/tot*100\n",
        "sup = (h+j)/tot*100\n",
        "ign = k/tot*100\n",
        "print(f'Absolute percentage of shooling in attempters: Elementary {pri:.2f}%, \\nMiddle school {fun:.2f}%, \\nHigh school {med:.2f}%, \\nHigher education {sup:.2f}%, \\nIgnored {ign:.2f}%')"
      ],
      "id": "d9b1e7ef"
    },
    {
      "cell_type": "code",
      "execution_count": 111,
      "metadata": {
        "id": "bbb917f4"
      },
      "outputs": [],
      "source": [
        "sul['CS_ESCOL_N'] = sul['CS_ESCOL_N'].replace([9,10], 0)\n",
        "sul['CS_ESCOL_N'] = sul['CS_ESCOL_N'].fillna(0)  # missing/ignored/not applicable values = 0\n",
        "\n",
        "sul['CS_ESCOL_N'] = sul['CS_ESCOL_N'].replace(2, 1)  # elementary\n",
        "sul['CS_ESCOL_N'] = sul['CS_ESCOL_N'].replace([3,4], 2)  # middle school\n",
        "sul['CS_ESCOL_N'] = sul['CS_ESCOL_N'].replace([5,6], 3)  # high school\n",
        "sul['CS_ESCOL_N'] = sul['CS_ESCOL_N'].replace([7,8], 4)  # higher education"
      ],
      "id": "bbb917f4"
    },
    {
      "cell_type": "code",
      "execution_count": 112,
      "metadata": {
        "id": "97e150e2",
        "outputId": "98f57c06-f150-400a-e66c-3de08f61bc18",
        "colab": {
          "base_uri": "https://localhost:8080/",
          "height": 449
        }
      },
      "outputs": [
        {
          "output_type": "display_data",
          "data": {
            "text/plain": [
              "<Figure size 640x480 with 1 Axes>"
            ],
            "image/png": "[encoded data removed]"
          },
          "metadata": {}
        }
      ],
      "source": [
        "sns.countplot(data= sul, x= 'CS_ESCOL_N');"
      ],
      "id": "97e150e2"
    },
    {
      "cell_type": "code",
      "execution_count": 113,
      "metadata": {
        "id": "3fb26630",
        "outputId": "a6cefc57-c2b7-4207-82eb-b2d8a1128187",
        "colab": {
          "base_uri": "https://localhost:8080/",
          "height": 343
        }
      },
      "outputs": [
        {
          "output_type": "stream",
          "name": "stderr",
          "text": [
            "/usr/local/lib/python3.10/dist-packages/seaborn/axisgrid.py:712: UserWarning: Using the countplot function without specifying `order` is likely to produce an incorrect plot.\n",
            "  warnings.warn(warning)\n"
          ]
        },
        {
          "output_type": "display_data",
          "data": {
            "text/plain": [
              "<Figure size 900x300 with 3 Axes>"
            ],
            "image/png": "[encoded data removed]"
          },
          "metadata": {}
        }
      ],
      "source": [
        "esco = sns.FacetGrid(sul, col= 'UF', sharey= False)\n",
        "esco.map(sns.countplot, 'CS_ESCOL_N');"
      ],
      "id": "3fb26630"
    },
    {
      "cell_type": "code",
      "execution_count": 114,
      "metadata": {
        "id": "1e120b7f",
        "outputId": "c3710c20-0ef5-4fc4-d554-754d3a2a1059",
        "colab": {
          "base_uri": "https://localhost:8080/",
          "height": 343
        }
      },
      "outputs": [
        {
          "output_type": "stream",
          "name": "stderr",
          "text": [
            "/usr/local/lib/python3.10/dist-packages/seaborn/axisgrid.py:712: UserWarning: Using the countplot function without specifying `order` is likely to produce an incorrect plot.\n",
            "  warnings.warn(warning)\n"
          ]
        },
        {
          "output_type": "display_data",
          "data": {
            "text/plain": [
              "<Figure size 600x300 with 2 Axes>"
            ],
            "image/png": "[encoded data removed]"
          },
          "metadata": {}
        }
      ],
      "source": [
        "esco = sns.FacetGrid(sul, col= 'CS_SEXO', sharey= False)\n",
        "esco.map(sns.countplot, 'CS_ESCOL_N');  # there is one person with ignored sex"
      ],
      "id": "1e120b7f"
    },
    {
      "cell_type": "markdown",
      "metadata": {
        "id": "d2c53c23"
      },
      "source": [
        "### Marital status and Location of attempt\n",
        "\n",
        "**1= single, 2= married/stable union, 3= widow, 4= divorced, 8= not applicable, 9= ignored**\n",
        "\n",
        "Simgles and married made most attempts. The pattern if similar in men and women.\n",
        "\n",
        "**1= own house, 2= multi cohabitation, 3= school, 4= sport location, 5= bar or similar, 6= public street/road, 7= commercial stablishment, 8= industry/construction site, 9= other, 99= ignored**\n",
        "\n",
        "The majority of attempts happend at home. Besides, almost 35% were recurrent and 40% were first attempt."
      ],
      "id": "d2c53c23"
    },
    {
      "cell_type": "code",
      "execution_count": 115,
      "metadata": {
        "id": "1aabd1e7"
      },
      "outputs": [],
      "source": [
        "sul['SIT_CONJUG'] = sul['SIT_CONJUG'].replace([8,9], 0)\n",
        "sul['SIT_CONJUG'] = sul['SIT_CONJUG'].replace(4, 3)  # grouping divorced and widows\n",
        "sul['SIT_CONJUG'] = sul['SIT_CONJUG'].fillna(0)  # missing/ignored values = 0"
      ],
      "id": "1aabd1e7"
    },
    {
      "cell_type": "code",
      "execution_count": 116,
      "metadata": {
        "id": "e73a18b3",
        "outputId": "a8b8c8cf-ee08-4661-92b6-0b2d8924c2ed",
        "colab": {
          "base_uri": "https://localhost:8080/",
          "height": 449
        }
      },
      "outputs": [
        {
          "output_type": "display_data",
          "data": {
            "text/plain": [
              "<Figure size 640x480 with 1 Axes>"
            ],
            "image/png": "[encoded data removed]"
          },
          "metadata": {}
        }
      ],
      "source": [
        "sns.countplot(data= sul, x='SIT_CONJUG');"
      ],
      "id": "e73a18b3"
    },
    {
      "cell_type": "code",
      "execution_count": 117,
      "metadata": {
        "id": "044e5300",
        "outputId": "eaae22af-d134-4e81-8255-3ae3a6345b80",
        "colab": {
          "base_uri": "https://localhost:8080/"
        }
      },
      "outputs": [
        {
          "output_type": "stream",
          "name": "stdout",
          "text": [
            "Absolute percentages: single 48.28%\n",
            "married 29.10%\n",
            "divorced/widow 7.34%\n",
            "ignored 15.28%\n"
          ]
        }
      ],
      "source": [
        "s = len(sul[sul['SIT_CONJUG'] == 1])\n",
        "c = len(sul[sul['SIT_CONJUG'] == 2])\n",
        "d = len(sul[sul['SIT_CONJUG'] == 3])\n",
        "i = len(sul[sul['SIT_CONJUG'] == 0])\n",
        "tot = len(sul)\n",
        "print(f'Absolute percentages: single {s*100/tot:.2f}%\\nmarried {c*100/tot:.2f}%\\ndivorced/widow {d*100/tot:.2f}%\\nignored {i*100/tot:.2f}%')"
      ],
      "id": "044e5300"
    },
    {
      "cell_type": "code",
      "execution_count": 118,
      "metadata": {
        "id": "3d5b2cc7",
        "outputId": "8bb6d05d-7656-426f-b681-2da82f8c9d49",
        "colab": {
          "base_uri": "https://localhost:8080/",
          "height": 343
        }
      },
      "outputs": [
        {
          "output_type": "stream",
          "name": "stderr",
          "text": [
            "/usr/local/lib/python3.10/dist-packages/seaborn/axisgrid.py:712: UserWarning: Using the countplot function without specifying `order` is likely to produce an incorrect plot.\n",
            "  warnings.warn(warning)\n"
          ]
        },
        {
          "output_type": "display_data",
          "data": {
            "text/plain": [
              "<Figure size 1200x300 with 4 Axes>"
            ],
            "image/png": "[encoded data removed]"
          },
          "metadata": {}
        }
      ],
      "source": [
        "conj = sns.FacetGrid(sul, col= 'SIT_CONJUG')\n",
        "conj.map(sns.countplot, 'CS_SEXO');"
      ],
      "id": "3d5b2cc7"
    },
    {
      "cell_type": "code",
      "execution_count": 119,
      "metadata": {
        "id": "4f4e2ae9",
        "outputId": "b7703031-de8c-472c-c4dc-8f0d547ac07f",
        "colab": {
          "base_uri": "https://localhost:8080/",
          "height": 449
        }
      },
      "outputs": [
        {
          "output_type": "display_data",
          "data": {
            "text/plain": [
              "<Figure size 640x480 with 1 Axes>"
            ],
            "image/png": "[encoded data removed]"
          },
          "metadata": {}
        }
      ],
      "source": [
        "sns.countplot(data= sul, x= 'LOCAL_OCOR');"
      ],
      "id": "4f4e2ae9"
    },
    {
      "cell_type": "code",
      "execution_count": 120,
      "metadata": {
        "id": "d5b7fd7f",
        "outputId": "4ac426a9-fb32-42e7-da4a-da6be2fca79c",
        "colab": {
          "base_uri": "https://localhost:8080/"
        }
      },
      "outputs": [
        {
          "output_type": "stream",
          "name": "stdout",
          "text": [
            "Absolute percentages for location of attempt: home 89.76%\n",
            "public street/road 3.68%\n"
          ]
        }
      ],
      "source": [
        "ca = len(sul[sul['LOCAL_OCOR'] == 1])\n",
        "vp = len(sul[sul['LOCAL_OCOR'] == 6])\n",
        "to = len(sul['LOCAL_OCOR'])\n",
        "print(f'Absolute percentages for location of attempt: home {ca*100/to:.2f}%\\npublic street/road {vp*100/to:.2f}%')"
      ],
      "id": "d5b7fd7f"
    },
    {
      "cell_type": "code",
      "execution_count": 121,
      "metadata": {
        "id": "0296d414",
        "outputId": "2db944c8-ba5a-4b14-d00c-0f5853b8c6a2",
        "colab": {
          "base_uri": "https://localhost:8080/",
          "height": 449
        }
      },
      "outputs": [
        {
          "output_type": "display_data",
          "data": {
            "text/plain": [
              "<Figure size 640x480 with 1 Axes>"
            ],
            "image/png": "[encoded data removed]"
          },
          "metadata": {}
        }
      ],
      "source": [
        "ax = sns.countplot(x= 'OUT_VEZES', data= sul)\n",
        "ax.bar_label(ax.containers[0]);"
      ],
      "id": "0296d414"
    },
    {
      "cell_type": "code",
      "execution_count": 122,
      "metadata": {
        "id": "8141f5fb",
        "outputId": "982ff21e-e0e1-4103-a8ab-369792caede2",
        "colab": {
          "base_uri": "https://localhost:8080/"
        }
      },
      "outputs": [
        {
          "output_type": "stream",
          "name": "stdout",
          "text": [
            "Percentage of recurrent attempts: recurrent: 39.62%\n",
            "first 41.41%\n",
            "ignored 18.75\n"
          ]
        }
      ],
      "source": [
        "e = len(sul[sul['OUT_VEZES'] == 1])\n",
        "c = len(sul[sul['OUT_VEZES'] == 2])\n",
        "i = len(sul[sul['OUT_VEZES'] == 9])\n",
        "to = len(sul)\n",
        "print(f'Percentage of recurrent attempts: recurrent: {e*100/to:.2f}%\\nfirst {c*100/to:.2f}%\\nignored {i*100/to:.2f}')"
      ],
      "id": "8141f5fb"
    },
    {
      "cell_type": "markdown",
      "metadata": {
        "id": "c98fc2c3"
      },
      "source": [
        "### Means of the attempt\n",
        "\n",
        "**AG_ENFOR = hanging\n",
        "AG_OBJETO\t= blunt object\n",
        "AG_CORTE = sharp object\n",
        "AG_QUENTE\t= hot substance or object or fire\n",
        "AG_ENVEN\t= poisoning or intoxication**\n",
        "\n",
        "Males and females attempt more by intoxication.\n",
        "\n",
        "Males - intoxication, hanging, sharp object\n",
        "Females - intoxication, sharp object, hanging\n",
        "\n",
        "Approximately 18% of males and 8% of females were intoxicated by alcohol during the attempt.\n",
        "\n",
        "Approximately 36% of the attempters had a disability or disorder, from which 13% were mood disorders and 23% were psychiatric disorders."
      ],
      "id": "c98fc2c3"
    },
    {
      "cell_type": "code",
      "execution_count": 123,
      "metadata": {
        "id": "d1654296"
      },
      "outputs": [],
      "source": [
        "# here we considered ignored or missing values as 'no' (= 2)\n",
        "cols = ['AG_FORCA', 'AG_ENFOR', 'AG_OBJETO', 'AG_CORTE', 'AG_QUENTE', 'AG_ENVEN', 'AG_FOGO', 'AG_AMEACA', 'AG_OUTROS']\n",
        "sul[cols] = sul[cols].replace([0,9], 2)\n",
        "sul[cols] = sul[cols].fillna(2)"
      ],
      "id": "d1654296"
    },
    {
      "cell_type": "code",
      "execution_count": 124,
      "metadata": {
        "id": "ed63e36a",
        "outputId": "5fbec5ad-bf3a-4233-ca6c-e7a64c362b08",
        "colab": {
          "base_uri": "https://localhost:8080/",
          "height": 449
        }
      },
      "outputs": [
        {
          "output_type": "display_data",
          "data": {
            "text/plain": [
              "<Figure size 640x480 with 1 Axes>"
            ],
            "image/png": "[encoded data removed]"
          },
          "metadata": {}
        }
      ],
      "source": [
        "ax = sns.countplot(data= sul, x= \"AG_OUTROS\", hue= 'CS_SEXO')\n",
        "ax.bar_label(ax.containers[1]);\n",
        "ax.bar_label(ax.containers[0]);"
      ],
      "id": "ed63e36a"
    },
    {
      "cell_type": "code",
      "execution_count": 125,
      "metadata": {
        "id": "5ae714bf",
        "outputId": "101c7a60-32a2-4068-e224-71414ce4b882",
        "colab": {
          "base_uri": "https://localhost:8080/",
          "height": 343
        }
      },
      "outputs": [
        {
          "output_type": "stream",
          "name": "stderr",
          "text": [
            "/usr/local/lib/python3.10/dist-packages/seaborn/axisgrid.py:712: UserWarning: Using the countplot function without specifying `order` is likely to produce an incorrect plot.\n",
            "  warnings.warn(warning)\n"
          ]
        },
        {
          "output_type": "display_data",
          "data": {
            "text/plain": [
              "<Figure size 600x300 with 2 Axes>"
            ],
            "image/png": "[encoded data removed]"
          },
          "metadata": {}
        }
      ],
      "source": [
        "loc = sns.FacetGrid(sul, col= 'AG_ENFOR', sharey= False)\n",
        "loc.map(sns.countplot, 'CS_SEXO');"
      ],
      "id": "5ae714bf"
    },
    {
      "cell_type": "code",
      "execution_count": 126,
      "metadata": {
        "id": "3a04d8e1",
        "outputId": "9a2dd157-0d86-422f-98d8-7d965bde77a8",
        "colab": {
          "base_uri": "https://localhost:8080/",
          "height": 343
        }
      },
      "outputs": [
        {
          "output_type": "stream",
          "name": "stderr",
          "text": [
            "/usr/local/lib/python3.10/dist-packages/seaborn/axisgrid.py:712: UserWarning: Using the countplot function without specifying `order` is likely to produce an incorrect plot.\n",
            "  warnings.warn(warning)\n"
          ]
        },
        {
          "output_type": "display_data",
          "data": {
            "text/plain": [
              "<Figure size 600x300 with 2 Axes>"
            ],
            "image/png": "[encoded data removed]"
          },
          "metadata": {}
        }
      ],
      "source": [
        "loc = sns.FacetGrid(sul, col= 'AG_CORTE', sharey= False)\n",
        "loc.map(sns.countplot, 'CS_SEXO');"
      ],
      "id": "3a04d8e1"
    },
    {
      "cell_type": "code",
      "execution_count": 127,
      "metadata": {
        "id": "847843b0",
        "outputId": "24cc9f3a-5924-4a03-b6ee-9c979e5786b1",
        "colab": {
          "base_uri": "https://localhost:8080/",
          "height": 343
        }
      },
      "outputs": [
        {
          "output_type": "stream",
          "name": "stderr",
          "text": [
            "/usr/local/lib/python3.10/dist-packages/seaborn/axisgrid.py:712: UserWarning: Using the countplot function without specifying `order` is likely to produce an incorrect plot.\n",
            "  warnings.warn(warning)\n"
          ]
        },
        {
          "output_type": "display_data",
          "data": {
            "text/plain": [
              "<Figure size 600x300 with 2 Axes>"
            ],
            "image/png": "[encoded data removed]"
          },
          "metadata": {}
        }
      ],
      "source": [
        "loc = sns.FacetGrid(sul, col= 'AG_ENVEN', sharey= False)\n",
        "loc.map(sns.countplot, 'CS_SEXO');"
      ],
      "id": "847843b0"
    },
    {
      "cell_type": "code",
      "execution_count": 128,
      "metadata": {
        "id": "4e5a114c",
        "outputId": "237225bd-7b7d-48c8-8cc8-c86c06287762",
        "colab": {
          "base_uri": "https://localhost:8080/",
          "height": 343
        }
      },
      "outputs": [
        {
          "output_type": "stream",
          "name": "stderr",
          "text": [
            "/usr/local/lib/python3.10/dist-packages/seaborn/axisgrid.py:712: UserWarning: Using the countplot function without specifying `order` is likely to produce an incorrect plot.\n",
            "  warnings.warn(warning)\n"
          ]
        },
        {
          "output_type": "display_data",
          "data": {
            "text/plain": [
              "<Figure size 600x300 with 2 Axes>"
            ],
            "image/png": "[encoded data removed]"
          },
          "metadata": {}
        }
      ],
      "source": [
        "loc = sns.FacetGrid(sul, col= 'AG_OBJETO', sharey= False)\n",
        "loc.map(sns.countplot, 'CS_SEXO');"
      ],
      "id": "4e5a114c"
    },
    {
      "cell_type": "code",
      "execution_count": 129,
      "metadata": {
        "id": "f61e635d",
        "outputId": "bf4ef528-73b6-4d7e-adf1-b2622847942b",
        "colab": {
          "base_uri": "https://localhost:8080/",
          "height": 343
        }
      },
      "outputs": [
        {
          "output_type": "stream",
          "name": "stderr",
          "text": [
            "/usr/local/lib/python3.10/dist-packages/seaborn/axisgrid.py:712: UserWarning: Using the countplot function without specifying `order` is likely to produce an incorrect plot.\n",
            "  warnings.warn(warning)\n"
          ]
        },
        {
          "output_type": "display_data",
          "data": {
            "text/plain": [
              "<Figure size 600x300 with 2 Axes>"
            ],
            "image/png": "[encoded data removed]"
          },
          "metadata": {}
        }
      ],
      "source": [
        "loc = sns.FacetGrid(sul, col= 'AG_QUENTE', sharey= False)\n",
        "loc.map(sns.countplot, 'CS_SEXO');"
      ],
      "id": "f61e635d"
    },
    {
      "cell_type": "code",
      "execution_count": 130,
      "metadata": {
        "id": "52015f79",
        "outputId": "6f00cffa-42e8-4771-b4a8-6427cba5f671",
        "colab": {
          "base_uri": "https://localhost:8080/"
        }
      },
      "outputs": [
        {
          "output_type": "stream",
          "name": "stdout",
          "text": [
            "Percentage of the mean used in the attempt in both sexes: Hanging 7.97%\n",
            "Sharp object 10.00%\n",
            "Intoxication 68.60%\n"
          ]
        }
      ],
      "source": [
        "e = len(sul[sul['AG_ENFOR'] == 1])\n",
        "c = len(sul[sul['AG_CORTE'] == 1])\n",
        "i = len(sul[sul['AG_ENVEN'] == 1])\n",
        "to = len(sul)\n",
        "print(f'Percentage of the mean used in the attempt in both sexes: Hanging {e*100/to:.2f}%\\nSharp object {c*100/to:.2f}%\\nIntoxication {i*100/to:.2f}%')"
      ],
      "id": "52015f79"
    },
    {
      "cell_type": "code",
      "execution_count": 131,
      "metadata": {
        "id": "45666c07",
        "outputId": "5749040f-fac8-4351-9809-f49fb87c3836",
        "colab": {
          "base_uri": "https://localhost:8080/",
          "height": 343
        }
      },
      "outputs": [
        {
          "output_type": "stream",
          "name": "stderr",
          "text": [
            "/usr/local/lib/python3.10/dist-packages/seaborn/axisgrid.py:712: UserWarning: Using the countplot function without specifying `order` is likely to produce an incorrect plot.\n",
            "  warnings.warn(warning)\n"
          ]
        },
        {
          "output_type": "display_data",
          "data": {
            "text/plain": [
              "<Figure size 900x300 with 3 Axes>"
            ],
            "image/png": "[encoded data removed]"
          },
          "metadata": {}
        }
      ],
      "source": [
        "alco = sns.FacetGrid(sul, col= 'AUTOR_ALCO', sharey= False)\n",
        "alco.map(sns.countplot, 'CS_SEXO');"
      ],
      "id": "45666c07"
    },
    {
      "cell_type": "code",
      "execution_count": 132,
      "metadata": {
        "id": "cb58e415",
        "outputId": "033da862-fdee-4fb2-82b6-14d83b4763ed",
        "colab": {
          "base_uri": "https://localhost:8080/"
        }
      },
      "outputs": [
        {
          "output_type": "stream",
          "name": "stdout",
          "text": [
            "Percentage of attempters with a disorder/disability 36.73%\n",
            "Mood disorder 12.64%\n",
            "Psychiatric disorder 23.27%\n"
          ]
        }
      ],
      "source": [
        "d = len(sul[sul['DEF_TRANS'] == 1])\n",
        "c = len(sul[sul['TRAN_COMP'] == 1])\n",
        "p = len(sul[sul['TRAN_MENT'] == 1])\n",
        "to = len(sul)\n",
        "print(f'Percentage of attempters with a disorder/disability {d*100/to:.2f}%\\nMood disorder {c*100/to:.2f}%\\nPsychiatric disorder {p*100/to:.2f}%')"
      ],
      "id": "cb58e415"
    },
    {
      "cell_type": "markdown",
      "source": [
        "### Season/weekday\n",
        "\n",
        "The attempts happened similarly throughout the seasons and more during the weekdays than on weekend."
      ],
      "metadata": {
        "id": "4HKjQtAanKyZ"
      },
      "id": "4HKjQtAanKyZ"
    },
    {
      "cell_type": "code",
      "execution_count": 133,
      "metadata": {
        "scrolled": true,
        "id": "e04406fd",
        "outputId": "16738b5a-0ff5-4c9d-ed38-1b90e569754a",
        "colab": {
          "base_uri": "https://localhost:8080/",
          "height": 449
        }
      },
      "outputs": [
        {
          "output_type": "display_data",
          "data": {
            "text/plain": [
              "<Figure size 640x480 with 1 Axes>"
            ],
            "image/png": "[encoded data removed]"
          },
          "metadata": {}
        }
      ],
      "source": [
        "sns.countplot(data= sul, x= 'SEASON');"
      ],
      "id": "e04406fd"
    },
    {
      "cell_type": "code",
      "execution_count": 134,
      "metadata": {
        "id": "5bb62803",
        "outputId": "c6f829ff-b8a2-4e78-e8b2-888b2c043510",
        "colab": {
          "base_uri": "https://localhost:8080/"
        }
      },
      "outputs": [
        {
          "output_type": "stream",
          "name": "stdout",
          "text": [
            "Percentage of attempts in the seasons: Spring 25.93%\n",
            "Autumn 23.92%\n",
            "Winter 24.19%\n",
            "Summer 25.96%\n"
          ]
        }
      ],
      "source": [
        "p = len(sul[sul['SEASON'] == 'spring'])\n",
        "o = len(sul[sul['SEASON'] == 'autumn'])\n",
        "i = len(sul[sul['SEASON'] == 'winter'])\n",
        "v = len(sul[sul['SEASON'] == 'summer'])\n",
        "\n",
        "tot = len(sul)\n",
        "tp = p/tot*100\n",
        "to = o/tot*100\n",
        "ti = i/tot*100\n",
        "tv = v/tot*100\n",
        "tx_rest = (tot-(p+o+i+v))/tot*100\n",
        "print(f'Percentage of attempts in the seasons: Spring {tp:.2f}%\\nAutumn {to:.2f}%\\nWinter {ti:.2f}%\\nSummer {tv:.2f}%')"
      ],
      "id": "5bb62803"
    },
    {
      "cell_type": "code",
      "execution_count": 135,
      "metadata": {
        "id": "f64c5bf5",
        "outputId": "20230019-655a-410d-a4ce-4f08453d837d",
        "colab": {
          "base_uri": "https://localhost:8080/",
          "height": 449
        }
      },
      "outputs": [
        {
          "output_type": "display_data",
          "data": {
            "text/plain": [
              "<Figure size 640x480 with 1 Axes>"
            ],
            "image/png": "[encoded data removed]"
          },
          "metadata": {}
        }
      ],
      "source": [
        "sns.countplot(data= sul, x= 'WEEK_DAY',\n",
        "             order = [\"Monday\",\"Tuesday\",\"Wednesday\",\"Thursday\",\"Friday\",\"Saturday\",\"Sunday\"]);"
      ],
      "id": "f64c5bf5"
    }
  ],
  "metadata": {
    "kernelspec": {
      "display_name": "Python 3 (ipykernel)",
      "language": "python",
      "name": "python3"
    },
    "language_info": {
      "codemirror_mode": {
        "name": "ipython",
        "version": 3
      },
      "file_extension": ".py",
      "mimetype": "text/x-python",
      "name": "python",
      "nbconvert_exporter": "python",
      "pygments_lexer": "ipython3",
      "version": "3.9.13"
    },
    "colab": {
      "provenance": [],
      "include_colab_link": true
    }
  },
  "nbformat": 4,
  "nbformat_minor": 5
}